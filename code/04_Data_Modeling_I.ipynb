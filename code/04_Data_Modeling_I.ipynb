{
 "cells": [
  {
   "cell_type": "markdown",
   "id": "a5277401-f00d-45e5-9ca0-8ebf7fa85666",
   "metadata": {},
   "source": [
    "# Predicting All-NBA Team and Player Salaries - Predicting All-NBA Team and Salary\n",
    "---"
   ]
  },
  {
   "cell_type": "markdown",
   "id": "d4565d24-93c6-4976-bc52-1b24dd3e4b4f",
   "metadata": {},
   "source": [
    "In this notebook, we will build upon the groundwork laid by our webscraping, data cleaning, and exploratory data analysis. Our cleaned data now contains over 80 features, including player statistic (advanced, totals, and per-game), salary cap information, and team payroll data. With this, our objective is twofold:\n",
    "\n",
    "1. <u>**All-NBA Team**</u>: First we will construct multiple regression models to predict voter share, which will ultimately enable us to discern the All-NBA Teams. By employing various regression techniques, we can gain valuable insights into the factors that influence the voters' decisions, helping us understand what distinguishes an All-NBA player from others. \n",
    "2. <u>**Salary**</u>: We will then also use regression modeling to predict player salaries, training on the intricate relationship between player performance, individual statistics, and their contracts. \n",
    "\n",
    "This process will involve trial and error as well as the application of GridSearch and RandomizedSearch techniques to fine-tune our models.\n",
    "\n",
    "At the end of our analysis, we hope to unravel the complexities of the NBA landscape, discovering patterns and associations that govern player recognition in All-NBA Teams and their financial remuneration. These insights will inform decision-making processes and aid in the evaluation of player performance and compensation within the competitive realm of professional basketball.\n",
    "\n",
    "Further detailed notebooks on the various segments of this project can be found at the following: \n",
    "- [01_Data_Acquisition](./01_Data_Acquisition.ipynb)\n",
    "- [02_Data_Cleaning](./02_Data_Cleaning.ipynb)\n",
    "- [03_Preliminary_EDA](./03_Preliminary_EDA.ipynb)\n",
    "- [05_Data_Modeling_II](./05_Data_Modeling_II.ipynb)\n",
    "\n",
    "For more information on the background, a summary of methods, and findings, please see the associated [README](../README.md) for this analysis."
   ]
  },
  {
   "cell_type": "markdown",
   "id": "f5634183-6106-4c97-9484-e79d252bbf58",
   "metadata": {},
   "source": [
    "## Contents\n",
    "\n",
    "---"
   ]
  },
  {
   "cell_type": "code",
   "execution_count": 11,
   "id": "81bda508-24c7-4c6b-bc10-6408de3323fb",
   "metadata": {},
   "outputs": [
    {
     "name": "stdout",
     "output_type": "stream",
     "text": [
      "Collecting xgboost\n",
      "  Downloading xgboost-1.7.6-py3-none-win_amd64.whl (70.9 MB)\n",
      "     --------------------------------------- 70.9/70.9 MB 12.6 MB/s eta 0:00:00\n",
      "Requirement already satisfied: scipy in c:\\users\\farah\\anaconda3\\lib\\site-packages (from xgboost) (1.10.0)\n",
      "Requirement already satisfied: numpy in c:\\users\\farah\\anaconda3\\lib\\site-packages (from xgboost) (1.23.5)\n",
      "Installing collected packages: xgboost\n",
      "Successfully installed xgboost-1.7.6\n",
      "Note: you may need to restart the kernel to use updated packages.\n"
     ]
    }
   ],
   "source": [
    "# pip install xgboost"
   ]
  },
  {
   "cell_type": "code",
   "execution_count": 1,
   "id": "4ed35c3f-60ac-457c-97eb-4dea53d4b271",
   "metadata": {},
   "outputs": [],
   "source": [
    "import pandas as pd\n",
    "import numpy as np\n",
    "import matplotlib.pyplot as plt\n",
    "import seaborn as sns\n",
    "#import shap\n",
    "import streamlit as st\n",
    "\n",
    "\n",
    "from sklearn.preprocessing import StandardScaler, OneHotEncoder, PolynomialFeatures\n",
    "from sklearn.metrics import mean_squared_error, r2_score, mean_absolute_error\n",
    "\n",
    "from sklearn.model_selection import train_test_split, cross_val_score, GridSearchCV, RandomizedSearchCV\n",
    "from sklearn.pipeline import Pipeline\n",
    "\n",
    "from sklearn.linear_model import LinearRegression, RidgeCV, LassoCV, ElasticNet\n",
    "from sklearn.svm import LinearSVR, SVR\n",
    "from sklearn.ensemble import RandomForestRegressor, ExtraTreesRegressor, BaggingRegressor, VotingRegressor, AdaBoostRegressor, GradientBoostingRegressor\n",
    "# LGBMRegressor\n",
    "from xgboost import XGBRegressor\n",
    "\n",
    "# from sklearn.compose import ColumnTransformer\n",
    "# from sklearn.neighbors import KNeighborsClassifier\n",
    "\n",
    "import datetime\n",
    "\n",
    "import warnings\n",
    "warnings.filterwarnings('ignore') "
   ]
  },
  {
   "cell_type": "code",
   "execution_count": 2,
   "id": "f6c6b31f-d5cc-469b-96db-f2c6a34ba94f",
   "metadata": {},
   "outputs": [
    {
     "data": {
      "text/html": [
       "<div>\n",
       "<style scoped>\n",
       "    .dataframe tbody tr th:only-of-type {\n",
       "        vertical-align: middle;\n",
       "    }\n",
       "\n",
       "    .dataframe tbody tr th {\n",
       "        vertical-align: top;\n",
       "    }\n",
       "\n",
       "    .dataframe thead th {\n",
       "        text-align: right;\n",
       "    }\n",
       "</style>\n",
       "<table border=\"1\" class=\"dataframe\">\n",
       "  <thead>\n",
       "    <tr style=\"text-align: right;\">\n",
       "      <th></th>\n",
       "      <th>player</th>\n",
       "      <th>pos</th>\n",
       "      <th>age</th>\n",
       "      <th>tm</th>\n",
       "      <th>g</th>\n",
       "      <th>pg_gs</th>\n",
       "      <th>pg_mp</th>\n",
       "      <th>pg_fg</th>\n",
       "      <th>pg_fga</th>\n",
       "      <th>pg_fg%</th>\n",
       "      <th>...</th>\n",
       "      <th>w</th>\n",
       "      <th>l</th>\n",
       "      <th>w/l%</th>\n",
       "      <th>seed</th>\n",
       "      <th>champs</th>\n",
       "      <th>won_championship</th>\n",
       "      <th>salary_cap</th>\n",
       "      <th>salary_cap_adj</th>\n",
       "      <th>payroll</th>\n",
       "      <th>payroll_adj</th>\n",
       "    </tr>\n",
       "  </thead>\n",
       "  <tbody>\n",
       "    <tr>\n",
       "      <th>0</th>\n",
       "      <td>Nick Anderson</td>\n",
       "      <td>SG</td>\n",
       "      <td>23</td>\n",
       "      <td>ORL</td>\n",
       "      <td>70</td>\n",
       "      <td>42.0</td>\n",
       "      <td>28</td>\n",
       "      <td>5.7</td>\n",
       "      <td>12.2</td>\n",
       "      <td>0.467</td>\n",
       "      <td>...</td>\n",
       "      <td>31</td>\n",
       "      <td>51</td>\n",
       "      <td>0.378</td>\n",
       "      <td>19</td>\n",
       "      <td>Chicago Bulls</td>\n",
       "      <td>0</td>\n",
       "      <td>11871000.0</td>\n",
       "      <td>25499592.0</td>\n",
       "      <td>7532000.0</td>\n",
       "      <td>17181014.0</td>\n",
       "    </tr>\n",
       "    <tr>\n",
       "      <th>1</th>\n",
       "      <td>Ron Anderson</td>\n",
       "      <td>SF</td>\n",
       "      <td>32</td>\n",
       "      <td>PHI</td>\n",
       "      <td>82</td>\n",
       "      <td>13.0</td>\n",
       "      <td>28</td>\n",
       "      <td>6.2</td>\n",
       "      <td>12.9</td>\n",
       "      <td>0.485</td>\n",
       "      <td>...</td>\n",
       "      <td>44</td>\n",
       "      <td>38</td>\n",
       "      <td>0.537</td>\n",
       "      <td>12</td>\n",
       "      <td>Chicago Bulls</td>\n",
       "      <td>0</td>\n",
       "      <td>11871000.0</td>\n",
       "      <td>25499592.0</td>\n",
       "      <td>11640000.0</td>\n",
       "      <td>26551652.0</td>\n",
       "    </tr>\n",
       "    <tr>\n",
       "      <th>2</th>\n",
       "      <td>Willie Anderson</td>\n",
       "      <td>SG</td>\n",
       "      <td>24</td>\n",
       "      <td>SAS</td>\n",
       "      <td>75</td>\n",
       "      <td>75.0</td>\n",
       "      <td>34</td>\n",
       "      <td>6.0</td>\n",
       "      <td>13.2</td>\n",
       "      <td>0.457</td>\n",
       "      <td>...</td>\n",
       "      <td>55</td>\n",
       "      <td>27</td>\n",
       "      <td>0.671</td>\n",
       "      <td>6</td>\n",
       "      <td>Chicago Bulls</td>\n",
       "      <td>0</td>\n",
       "      <td>11871000.0</td>\n",
       "      <td>25499592.0</td>\n",
       "      <td>11057000.0</td>\n",
       "      <td>25221786.0</td>\n",
       "    </tr>\n",
       "    <tr>\n",
       "      <th>3</th>\n",
       "      <td>Thurl Bailey</td>\n",
       "      <td>PF</td>\n",
       "      <td>29</td>\n",
       "      <td>UTA</td>\n",
       "      <td>82</td>\n",
       "      <td>22.0</td>\n",
       "      <td>30</td>\n",
       "      <td>4.9</td>\n",
       "      <td>10.6</td>\n",
       "      <td>0.458</td>\n",
       "      <td>...</td>\n",
       "      <td>54</td>\n",
       "      <td>28</td>\n",
       "      <td>0.659</td>\n",
       "      <td>7</td>\n",
       "      <td>Chicago Bulls</td>\n",
       "      <td>0</td>\n",
       "      <td>11871000.0</td>\n",
       "      <td>25499592.0</td>\n",
       "      <td>10695000.0</td>\n",
       "      <td>24396040.0</td>\n",
       "    </tr>\n",
       "    <tr>\n",
       "      <th>4</th>\n",
       "      <td>Benoit Benjamin</td>\n",
       "      <td>C</td>\n",
       "      <td>26</td>\n",
       "      <td>LAC</td>\n",
       "      <td>70</td>\n",
       "      <td>65.0</td>\n",
       "      <td>31</td>\n",
       "      <td>5.5</td>\n",
       "      <td>11.1</td>\n",
       "      <td>0.496</td>\n",
       "      <td>...</td>\n",
       "      <td>31</td>\n",
       "      <td>51</td>\n",
       "      <td>0.378</td>\n",
       "      <td>18</td>\n",
       "      <td>Chicago Bulls</td>\n",
       "      <td>0</td>\n",
       "      <td>11871000.0</td>\n",
       "      <td>25499592.0</td>\n",
       "      <td>10245000.0</td>\n",
       "      <td>23369557.0</td>\n",
       "    </tr>\n",
       "  </tbody>\n",
       "</table>\n",
       "<p>5 rows × 101 columns</p>\n",
       "</div>"
      ],
      "text/plain": [
       "            player pos  age   tm   g  pg_gs  pg_mp  pg_fg  pg_fga  pg_fg%  \\\n",
       "0    Nick Anderson  SG   23  ORL  70   42.0     28    5.7    12.2   0.467   \n",
       "1     Ron Anderson  SF   32  PHI  82   13.0     28    6.2    12.9   0.485   \n",
       "2  Willie Anderson  SG   24  SAS  75   75.0     34    6.0    13.2   0.457   \n",
       "3     Thurl Bailey  PF   29  UTA  82   22.0     30    4.9    10.6   0.458   \n",
       "4  Benoit Benjamin   C   26  LAC  70   65.0     31    5.5    11.1   0.496   \n",
       "\n",
       "   ...   w   l   w/l%  seed         champs  won_championship  salary_cap  \\\n",
       "0  ...  31  51  0.378    19  Chicago Bulls                 0  11871000.0   \n",
       "1  ...  44  38  0.537    12  Chicago Bulls                 0  11871000.0   \n",
       "2  ...  55  27  0.671     6  Chicago Bulls                 0  11871000.0   \n",
       "3  ...  54  28  0.659     7  Chicago Bulls                 0  11871000.0   \n",
       "4  ...  31  51  0.378    18  Chicago Bulls                 0  11871000.0   \n",
       "\n",
       "   salary_cap_adj     payroll  payroll_adj  \n",
       "0      25499592.0   7532000.0   17181014.0  \n",
       "1      25499592.0  11640000.0   26551652.0  \n",
       "2      25499592.0  11057000.0   25221786.0  \n",
       "3      25499592.0  10695000.0   24396040.0  \n",
       "4      25499592.0  10245000.0   23369557.0  \n",
       "\n",
       "[5 rows x 101 columns]"
      ]
     },
     "execution_count": 2,
     "metadata": {},
     "output_type": "execute_result"
    }
   ],
   "source": [
    "df = pd.read_csv('../data/clean/stats_main.csv')\n",
    "df.head()"
   ]
  },
  {
   "cell_type": "code",
   "execution_count": 4,
   "id": "9b2ae1c1-650e-4b13-9244-3595b9dbbdeb",
   "metadata": {},
   "outputs": [
    {
     "data": {
      "text/plain": [
       "(4353, 101)"
      ]
     },
     "execution_count": 4,
     "metadata": {},
     "output_type": "execute_result"
    }
   ],
   "source": [
    "df.shape"
   ]
  },
  {
   "cell_type": "code",
   "execution_count": 12,
   "id": "4193a035-acce-49a7-bf75-9b1d9466caf4",
   "metadata": {},
   "outputs": [
    {
     "data": {
      "text/plain": [
       "0.0682198483804273"
      ]
     },
     "execution_count": 12,
     "metadata": {},
     "output_type": "execute_result"
    }
   ],
   "source": [
    "y = df.share\n",
    "y_mean = df.share.mean() # Null Model\n",
    "y_mean"
   ]
  },
  {
   "cell_type": "code",
   "execution_count": 9,
   "id": "e506f921-dad2-4db3-bd18-6aafa7e1f206",
   "metadata": {},
   "outputs": [
    {
     "data": {
      "text/plain": [
       "0.040885437308775543"
      ]
     },
     "execution_count": 9,
     "metadata": {},
     "output_type": "execute_result"
    }
   ],
   "source": [
    "null_mse = np.mean((y - y_mean)**2)\n",
    "null_mse"
   ]
  },
  {
   "cell_type": "code",
   "execution_count": null,
   "id": "56d08ed6-e66e-418e-95aa-65957a2b679c",
   "metadata": {},
   "outputs": [],
   "source": [
    "feats = ['year', 'age', 'g', 'pg_gs', 'pg_mp', 'pg_fg', 'pg_fga', 'pg_fg%', 'pg_3p', 'pg_3pa', 'pg_3p%', 'pg_2p', 'pg_2pa', 'pg_2p%', 'pg_efg%', 'pg_ft', 'pg_fta', 'pg_ft%', 'pg_orb', 'pg_drb', 'pg_trb', 'pg_ast', 'pg_stl', 'pg_blk', 'pg_tov', 'pg_pf', 'pg_pts', 'tot_mp', 'tot_fg%', 'tot_3p', 'tot_3p%', 'tot_2p%', 'tot_efg%', 'tot_ft%', 'tot_pf', 'tot_pts', 'adv_per', 'adv_ts%', 'adv_3par', 'adv_ftr', 'adv_orb%', 'adv_drb%', 'adv_trb%', 'adv_ast%', 'adv_stl%', 'adv_blk%', 'adv_tov%', 'adv_usg%', 'adv_ows', 'adv_dws', 'adv_ws', 'adv_ws/48', 'adv_obpm', 'adv_dbpm', 'adv_bpm', 'adv_vorp', 'f', 'gu', 'w/l%', 'seed', 'all_star']\n",
    "X = df[feats]\n",
    "y = df['share']\n",
    "X_train = df.year <= \n",
    "\n",
    "X_train, X_test, y_train, y_test = train_test_split(X, y, random_state = 531)"
   ]
  },
  {
   "cell_type": "code",
   "execution_count": null,
   "id": "f77c046e-a077-4276-a901-1c79b9f4b2f4",
   "metadata": {},
   "outputs": [],
   "source": [
    "# Define baseline\n",
    "snowski.subreddit.value_counts(normalize=True)"
   ]
  },
  {
   "cell_type": "code",
   "execution_count": null,
   "id": "b61b11b0-75ab-47fe-ad18-a898ab274d00",
   "metadata": {},
   "outputs": [],
   "source": [
    "X = snowski['text']\n",
    "y = snowski['subreddit']"
   ]
  },
  {
   "cell_type": "code",
   "execution_count": null,
   "id": "c0406982-270b-41c3-9bd8-aaf5ee5b9836",
   "metadata": {},
   "outputs": [],
   "source": [
    "# Create pipeline that tests b/t CVEC and TVEC transformers and an estimator\n",
    "pipe_log = Pipeline([\n",
    "                 ('vec', None),\n",
    "                 ('logr', LogisticRegression(solver = 'liblinear', max_iter=1000))])"
   ]
  },
  {
   "cell_type": "code",
   "execution_count": null,
   "id": "78783fa0-1253-46ff-a6cd-90b62931801b",
   "metadata": {},
   "outputs": [],
   "source": []
  },
  {
   "cell_type": "code",
   "execution_count": null,
   "id": "f16c662c-6451-4e6c-8597-bd20294822a6",
   "metadata": {},
   "outputs": [],
   "source": [
    "pipe_svc = Pipeline([\n",
    "    ('vec', None),\n",
    "    ('svc', SVC())\n",
    "])"
   ]
  },
  {
   "cell_type": "code",
   "execution_count": null,
   "id": "077bc93a-d564-433c-b583-d4d927e0fcf9",
   "metadata": {},
   "outputs": [],
   "source": [
    "pgrid_svc =[\n",
    "    {\n",
    "     'vec': [CountVectorizer()],\n",
    "     'vec__stop_words': [None], #tested english stopwords as well\n",
    "     'vec__max_features': [7000], #also tested 8000 \n",
    "     'vec__min_df': [3, 5],\n",
    "     'vec__max_df': [0.80], #tested 0.90 as well\n",
    "     'svc__C': np.linspace(0.0001, 2, 10),\n",
    "     #'svc__kernel': ['rbf','poly'],\n",
    "     'svc__degree' : [2]\n",
    "    },\n",
    "    {\n",
    "     'vec': [TfidfVectorizer()],\n",
    "     'vec__stop_words': [None],\n",
    "     'vec__max_features': [7000], \n",
    "     'vec__min_df': [3, 5],\n",
    "     'vec__max_df': [0.80],\n",
    "     'svc__C': np.linspace(0.0001, 2, 10),\n",
    "     #'svc__kernel': ['rbf','poly'],\n",
    "     'svc__degree' : [2]\n",
    "    }\n",
    "]"
   ]
  },
  {
   "cell_type": "code",
   "execution_count": null,
   "id": "e59476b6-4c73-406b-8928-ce5521ac548d",
   "metadata": {},
   "outputs": [],
   "source": [
    "%%time\n",
    "\n",
    "gs_svc = GridSearchCV(pipe_svc, pgrid_svc, n_jobs=25)\n",
    "gs_svc.fit(X_train, y_train)"
   ]
  },
  {
   "cell_type": "code",
   "execution_count": null,
   "id": "deb1bf60-08ca-4dc1-9fda-b28837020a1b",
   "metadata": {},
   "outputs": [],
   "source": [
    "# Make predictions for Accuracy Report\n",
    "preds_svc = gs_svc.predict(X_test)"
   ]
  },
  {
   "cell_type": "code",
   "execution_count": null,
   "id": "bac255f6-5b0c-4a4d-a9dd-7a469bedfe3f",
   "metadata": {},
   "outputs": [],
   "source": [
    "print(f'----------------- {b1}SVM w/ GridSearch{b0} ----------------')\n",
    "print(f'------------------ Train: {round(gs_svc.score(X_train, y_train),4)} -------------------')\n",
    "print(f'------------------- Test: {round(gs_svc.score(X_test, y_test),4)} -------------------')\n",
    "print('Best Params:', gs_svc.best_params_)"
   ]
  },
  {
   "cell_type": "code",
   "execution_count": null,
   "id": "72edd29d-5a89-417a-92eb-0ab3694408c7",
   "metadata": {},
   "outputs": [],
   "source": [
    "%%time\n",
    "\n",
    "# Test RandomizedSearch for comparison in timing and outcome\n",
    "rs_svc = RandomizedSearchCV(pipe_svc, pgrid_svc, cv=5, n_iter=10, n_jobs=15)\n",
    "rs_svc.fit(X_train, y_train)"
   ]
  },
  {
   "cell_type": "code",
   "execution_count": null,
   "id": "c37b2e51-6416-4212-b595-b1cb34651d78",
   "metadata": {},
   "outputs": [],
   "source": [
    "# Make predictions for Accuracy Report\n",
    "preds_svc_r = rs_svc.predict(X_test)"
   ]
  },
  {
   "cell_type": "code",
   "execution_count": null,
   "id": "1ac7dc8d-fd4b-4488-abc1-5204f0f4c9a8",
   "metadata": {},
   "outputs": [],
   "source": [
    "print(f'-------------- {b1}SVM w/ RandomizedSearch{b0} --------------')\n",
    "print(f'------------------- Train: {round(rs_svc.score(X_train, y_train),4)} -------------------')\n",
    "print(f'------------------- Test: {round(rs_svc.score(X_test, y_test),4)} --------------------')\n",
    "print('Best Params:', rs_svc.best_params_)\n",
    "\n",
    "# Randomized search computed faster and test score is slightly better - we will utilize RS more"
   ]
  },
  {
   "cell_type": "code",
   "execution_count": null,
   "id": "5e2872e0-968a-4bf9-8230-497d70a3a454",
   "metadata": {},
   "outputs": [],
   "source": []
  },
  {
   "cell_type": "code",
   "execution_count": null,
   "id": "bf197f0e-801b-4f62-aa0c-ece5ffbae646",
   "metadata": {},
   "outputs": [],
   "source": []
  }
 ],
 "metadata": {
  "kernelspec": {
   "display_name": "Python 3 (ipykernel)",
   "language": "python",
   "name": "python3"
  },
  "language_info": {
   "codemirror_mode": {
    "name": "ipython",
    "version": 3
   },
   "file_extension": ".py",
   "mimetype": "text/x-python",
   "name": "python",
   "nbconvert_exporter": "python",
   "pygments_lexer": "ipython3",
   "version": "3.10.9"
  }
 },
 "nbformat": 4,
 "nbformat_minor": 5
}
