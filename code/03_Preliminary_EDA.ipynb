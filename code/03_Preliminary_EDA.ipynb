{
 "cells": [
  {
   "cell_type": "code",
   "execution_count": null,
   "id": "488a5c88-39ed-4870-9ede-32e344ceb8da",
   "metadata": {},
   "outputs": [],
   "source": []
  },
  {
   "cell_type": "markdown",
   "id": "6a315608-d1ed-4557-83d2-a6eba4e2f876",
   "metadata": {},
   "source": [
    "In this notebook, we will be cleaning and feature engineering our webscraped NBA data, as well as conducting exploratory data analysis.\n",
    "\n",
    "We will use a combination of Python and SQL to preprocess the data for accuracy and consistency, including handling missing values, addressing data inconsistencies, and converting data into appropriate formats. We will engineer columns such as Voter Share for the All-NBA Team award winners and total NBA payroll per season, as well as narrow down the dataframes to only variables of interest, before conducting a series of merges to create cleaned and final data for modeling. Our exploratory data analysis will give us an overall sense of the makeup of our data and explore various relationships between variables.\n",
    "\n",
    "Further detailed notebooks on the various segments of this project can be found at the following: \n",
    "- [01_Data_Acquisition](./01_Data_Acquisition.ipynb)\n",
    "- [03_Preliminary_EDA](./03_Preliminary_EDA.ipynb)\n",
    "- [04_Data_Modeling_I](./04_Data_Modeling_I.ipynb)\n",
    "- [05_Data_Modeling_II](./05_Data_Modeling_II.ipynb)\n",
    "\n",
    "For more information on the background, a summary of methods, and findings, please see the associated [README](../README.md) for this analysis. "
   ]
  }
 ],
 "metadata": {
  "kernelspec": {
   "display_name": "Python 3 (ipykernel)",
   "language": "python",
   "name": "python3"
  },
  "language_info": {
   "codemirror_mode": {
    "name": "ipython",
    "version": 3
   },
   "file_extension": ".py",
   "mimetype": "text/x-python",
   "name": "python",
   "nbconvert_exporter": "python",
   "pygments_lexer": "ipython3",
   "version": "3.10.9"
  }
 },
 "nbformat": 4,
 "nbformat_minor": 5
}
