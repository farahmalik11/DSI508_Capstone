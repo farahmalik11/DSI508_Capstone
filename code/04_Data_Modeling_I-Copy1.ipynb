{
 "cells": [
  {
   "cell_type": "markdown",
   "id": "a5277401-f00d-45e5-9ca0-8ebf7fa85666",
   "metadata": {},
   "source": [
    "# Predicting All-NBA Team and Player Salaries - Predicting All-NBA Team and Salary\n",
    "---"
   ]
  },
  {
   "cell_type": "markdown",
   "id": "d4565d24-93c6-4976-bc52-1b24dd3e4b4f",
   "metadata": {},
   "source": [
    "In this notebook, we will build upon the groundwork laid by our webscraping, data cleaning, and exploratory data analysis. Our cleaned data now contains over 80 features, including player statistic (advanced, totals, and per-game), salary cap information, and team payroll data. With this, our objective is twofold:\n",
    "\n",
    "1. <u>**All-NBA Team**</u>: First we will construct multiple regression models to predict voter share, which will ultimately enable us to discern the All-NBA Teams. By employing various regression techniques, we can gain valuable insights into the factors that influence the voters' decisions, helping us understand what distinguishes an All-NBA player from others. \n",
    "2. <u>**Salary**</u>: We will then also use regression modeling to predict player salaries, training on the intricate relationship between player performance, individual statistics, and their contracts. \n",
    "\n",
    "This process will involve trial and error as well as the application of GridSearch and RandomizedSearch techniques to fine-tune our models.\n",
    "\n",
    "At the end of our analysis, we hope to unravel the complexities of the NBA landscape, discovering patterns and associations that govern player recognition in All-NBA Teams and their financial remuneration. These insights will inform decision-making processes and aid in the evaluation of player performance and compensation within the competitive realm of professional basketball.\n",
    "\n",
    "Further detailed notebooks on the various segments of this project can be found at the following: \n",
    "- [01_Data_Acquisition](./01_Data_Acquisition.ipynb)\n",
    "- [02_Data_Cleaning](./02_Data_Cleaning.ipynb)\n",
    "- [03_Preliminary_EDA](./03_Preliminary_EDA.ipynb)\n",
    "- [05_Data_Modeling_II](./05_Data_Modeling_II.ipynb)\n",
    "\n",
    "For more information on the background, a summary of methods, and findings, please see the associated [README](../README.md) for this analysis."
   ]
  },
  {
   "cell_type": "markdown",
   "id": "f5634183-6106-4c97-9484-e79d252bbf58",
   "metadata": {},
   "source": [
    "## Contents\n",
    "\n",
    "---"
   ]
  },
  {
   "cell_type": "code",
   "execution_count": 11,
   "id": "81bda508-24c7-4c6b-bc10-6408de3323fb",
   "metadata": {},
   "outputs": [
    {
     "name": "stdout",
     "output_type": "stream",
     "text": [
      "Collecting xgboost\n",
      "  Downloading xgboost-1.7.6-py3-none-win_amd64.whl (70.9 MB)\n",
      "     --------------------------------------- 70.9/70.9 MB 12.6 MB/s eta 0:00:00\n",
      "Requirement already satisfied: scipy in c:\\users\\farah\\anaconda3\\lib\\site-packages (from xgboost) (1.10.0)\n",
      "Requirement already satisfied: numpy in c:\\users\\farah\\anaconda3\\lib\\site-packages (from xgboost) (1.23.5)\n",
      "Installing collected packages: xgboost\n",
      "Successfully installed xgboost-1.7.6\n",
      "Note: you may need to restart the kernel to use updated packages.\n"
     ]
    }
   ],
   "source": [
    "# pip install xgboost"
   ]
  },
  {
   "cell_type": "code",
   "execution_count": 653,
   "id": "e1571104-0a7a-4623-9306-19a85bdf5781",
   "metadata": {},
   "outputs": [
    {
     "name": "stdout",
     "output_type": "stream",
     "text": [
      "Collecting lightgbm\n",
      "  Downloading lightgbm-4.0.0-py3-none-win_amd64.whl (1.3 MB)\n",
      "     ---------------------------------------- 1.3/1.3 MB 10.4 MB/s eta 0:00:00\n",
      "Requirement already satisfied: numpy in c:\\users\\farah\\anaconda3\\lib\\site-packages (from lightgbm) (1.23.5)\n",
      "Requirement already satisfied: scipy in c:\\users\\farah\\anaconda3\\lib\\site-packages (from lightgbm) (1.10.0)\n",
      "Installing collected packages: lightgbm\n",
      "Successfully installed lightgbm-4.0.0\n",
      "Note: you may need to restart the kernel to use updated packages.\n"
     ]
    }
   ],
   "source": [
    "# pip install lightgbm"
   ]
  },
  {
   "cell_type": "code",
   "execution_count": 21,
   "id": "4ed35c3f-60ac-457c-97eb-4dea53d4b271",
   "metadata": {},
   "outputs": [],
   "source": [
    "import pandas as pd\n",
    "import numpy as np\n",
    "import matplotlib.pyplot as plt\n",
    "import seaborn as sns\n",
    "#import shap\n",
    "import streamlit as st\n",
    "\n",
    "\n",
    "from sklearn.preprocessing import StandardScaler, OneHotEncoder, PolynomialFeatures\n",
    "from sklearn.metrics import mean_squared_error, r2_score, mean_absolute_error\n",
    "\n",
    "from sklearn.model_selection import train_test_split, cross_val_score, GridSearchCV, RandomizedSearchCV\n",
    "from sklearn.pipeline import Pipeline\n",
    "\n",
    "from sklearn.decomposition import PCA\n",
    "from sklearn.linear_model import LinearRegression, RidgeCV, LassoCV, ElasticNet\n",
    "from sklearn.svm import LinearSVR, SVR\n",
    "from sklearn.ensemble import RandomForestRegressor, ExtraTreesRegressor, BaggingRegressor, VotingRegressor, AdaBoostRegressor, GradientBoostingRegressor\n",
    "# LGBMRegressor\n",
    "from xgboost import XGBRegressor\n",
    "from lightgbm import LGBMRegressor\n",
    "\n",
    "# from sklearn.compose import ColumnTransformer\n",
    "# from sklearn.neighbors import KNeighborsClassifier\n",
    "\n",
    "import datetime\n",
    "\n",
    "import warnings\n",
    "warnings.filterwarnings('ignore') \n",
    "\n",
    "pd.options.display.max_rows = 400\n",
    "pd.options.display.max_columns = 400"
   ]
  },
  {
   "cell_type": "code",
   "execution_count": 5,
   "id": "f6c6b31f-d5cc-469b-96db-f2c6a34ba94f",
   "metadata": {},
   "outputs": [
    {
     "data": {
      "text/html": [
       "<div>\n",
       "<style scoped>\n",
       "    .dataframe tbody tr th:only-of-type {\n",
       "        vertical-align: middle;\n",
       "    }\n",
       "\n",
       "    .dataframe tbody tr th {\n",
       "        vertical-align: top;\n",
       "    }\n",
       "\n",
       "    .dataframe thead th {\n",
       "        text-align: right;\n",
       "    }\n",
       "</style>\n",
       "<table border=\"1\" class=\"dataframe\">\n",
       "  <thead>\n",
       "    <tr style=\"text-align: right;\">\n",
       "      <th></th>\n",
       "      <th>player</th>\n",
       "      <th>pos</th>\n",
       "      <th>age</th>\n",
       "      <th>tm</th>\n",
       "      <th>g</th>\n",
       "      <th>pg_gs</th>\n",
       "      <th>pg_mp</th>\n",
       "      <th>pg_fg</th>\n",
       "      <th>pg_fga</th>\n",
       "      <th>pg_fg%</th>\n",
       "      <th>pg_3p</th>\n",
       "      <th>pg_3pa</th>\n",
       "      <th>pg_3p%</th>\n",
       "      <th>pg_2p</th>\n",
       "      <th>pg_2pa</th>\n",
       "      <th>pg_2p%</th>\n",
       "      <th>pg_efg%</th>\n",
       "      <th>pg_ft</th>\n",
       "      <th>pg_fta</th>\n",
       "      <th>pg_ft%</th>\n",
       "      <th>pg_orb</th>\n",
       "      <th>pg_drb</th>\n",
       "      <th>pg_trb</th>\n",
       "      <th>pg_ast</th>\n",
       "      <th>pg_stl</th>\n",
       "      <th>pg_blk</th>\n",
       "      <th>pg_tov</th>\n",
       "      <th>pg_pf</th>\n",
       "      <th>pg_pts</th>\n",
       "      <th>year</th>\n",
       "      <th>tot_gs</th>\n",
       "      <th>tot_mp</th>\n",
       "      <th>tot_fg</th>\n",
       "      <th>tot_fga</th>\n",
       "      <th>tot_fg%</th>\n",
       "      <th>tot_3p</th>\n",
       "      <th>tot_3pa</th>\n",
       "      <th>tot_3p%</th>\n",
       "      <th>tot_2p</th>\n",
       "      <th>tot_2pa</th>\n",
       "      <th>tot_2p%</th>\n",
       "      <th>tot_efg%</th>\n",
       "      <th>tot_ft</th>\n",
       "      <th>tot_fta</th>\n",
       "      <th>tot_ft%</th>\n",
       "      <th>tot_orb</th>\n",
       "      <th>tot_drb</th>\n",
       "      <th>tot_trb</th>\n",
       "      <th>tot_ast</th>\n",
       "      <th>tot_stl</th>\n",
       "      <th>tot_blk</th>\n",
       "      <th>tot_tov</th>\n",
       "      <th>tot_pf</th>\n",
       "      <th>tot_pts</th>\n",
       "      <th>adv_per</th>\n",
       "      <th>adv_ts%</th>\n",
       "      <th>adv_3par</th>\n",
       "      <th>adv_ftr</th>\n",
       "      <th>adv_orb%</th>\n",
       "      <th>adv_drb%</th>\n",
       "      <th>adv_trb%</th>\n",
       "      <th>adv_ast%</th>\n",
       "      <th>adv_stl%</th>\n",
       "      <th>adv_blk%</th>\n",
       "      <th>adv_tov%</th>\n",
       "      <th>adv_usg%</th>\n",
       "      <th>adv_ows</th>\n",
       "      <th>adv_dws</th>\n",
       "      <th>adv_ws</th>\n",
       "      <th>adv_ws/48</th>\n",
       "      <th>adv_obpm</th>\n",
       "      <th>adv_dbpm</th>\n",
       "      <th>adv_bpm</th>\n",
       "      <th>adv_vorp</th>\n",
       "      <th>gt1_pos</th>\n",
       "      <th>pos_5</th>\n",
       "      <th>pos_3</th>\n",
       "      <th>f</th>\n",
       "      <th>gu</th>\n",
       "      <th>midseason_trade</th>\n",
       "      <th>all_nba_team</th>\n",
       "      <th>pts_won</th>\n",
       "      <th>pts_max</th>\n",
       "      <th>share</th>\n",
       "      <th>all_nba_winner</th>\n",
       "      <th>n_allstar</th>\n",
       "      <th>all_star</th>\n",
       "      <th>salary</th>\n",
       "      <th>salary_adj</th>\n",
       "      <th>team</th>\n",
       "      <th>conf</th>\n",
       "      <th>div</th>\n",
       "      <th>w</th>\n",
       "      <th>l</th>\n",
       "      <th>w/l%</th>\n",
       "      <th>seed</th>\n",
       "      <th>champs</th>\n",
       "      <th>won_championship</th>\n",
       "      <th>salary_cap</th>\n",
       "      <th>salary_cap_adj</th>\n",
       "      <th>payroll</th>\n",
       "      <th>payroll_adj</th>\n",
       "    </tr>\n",
       "  </thead>\n",
       "  <tbody>\n",
       "    <tr>\n",
       "      <th>0</th>\n",
       "      <td>Nick Anderson</td>\n",
       "      <td>SG</td>\n",
       "      <td>23</td>\n",
       "      <td>ORL</td>\n",
       "      <td>70</td>\n",
       "      <td>42.0</td>\n",
       "      <td>28</td>\n",
       "      <td>5.7</td>\n",
       "      <td>12.2</td>\n",
       "      <td>0.467</td>\n",
       "      <td>0.2</td>\n",
       "      <td>0.8</td>\n",
       "      <td>0.293</td>\n",
       "      <td>5.5</td>\n",
       "      <td>11.4</td>\n",
       "      <td>0.479</td>\n",
       "      <td>0.477</td>\n",
       "      <td>2.5</td>\n",
       "      <td>3.7</td>\n",
       "      <td>0.668</td>\n",
       "      <td>1.3</td>\n",
       "      <td>4.2</td>\n",
       "      <td>5.5</td>\n",
       "      <td>1.5</td>\n",
       "      <td>1.1</td>\n",
       "      <td>0.6</td>\n",
       "      <td>1.6</td>\n",
       "      <td>2.1</td>\n",
       "      <td>14.1</td>\n",
       "      <td>1990</td>\n",
       "      <td>42.0</td>\n",
       "      <td>1971</td>\n",
       "      <td>400.0</td>\n",
       "      <td>857.0</td>\n",
       "      <td>0.467</td>\n",
       "      <td>17.0</td>\n",
       "      <td>58.0</td>\n",
       "      <td>0.293</td>\n",
       "      <td>383.0</td>\n",
       "      <td>799.0</td>\n",
       "      <td>0.479</td>\n",
       "      <td>0.477</td>\n",
       "      <td>173.0</td>\n",
       "      <td>259.0</td>\n",
       "      <td>0.668</td>\n",
       "      <td>92.0</td>\n",
       "      <td>294.0</td>\n",
       "      <td>386.0</td>\n",
       "      <td>106.0</td>\n",
       "      <td>74.0</td>\n",
       "      <td>44.0</td>\n",
       "      <td>113.0</td>\n",
       "      <td>145.0</td>\n",
       "      <td>990.0</td>\n",
       "      <td>15.1</td>\n",
       "      <td>0.510</td>\n",
       "      <td>0.068</td>\n",
       "      <td>0.302</td>\n",
       "      <td>4.9</td>\n",
       "      <td>16.7</td>\n",
       "      <td>10.7</td>\n",
       "      <td>8.5</td>\n",
       "      <td>1.8</td>\n",
       "      <td>1.3</td>\n",
       "      <td>10.4</td>\n",
       "      <td>22.4</td>\n",
       "      <td>1.2</td>\n",
       "      <td>1.9</td>\n",
       "      <td>3.1</td>\n",
       "      <td>0.075</td>\n",
       "      <td>0.0</td>\n",
       "      <td>0.3</td>\n",
       "      <td>0.3</td>\n",
       "      <td>1.1</td>\n",
       "      <td>0</td>\n",
       "      <td>SG</td>\n",
       "      <td>Gu</td>\n",
       "      <td>0</td>\n",
       "      <td>1</td>\n",
       "      <td>0</td>\n",
       "      <td>0</td>\n",
       "      <td>0.0</td>\n",
       "      <td>0.0</td>\n",
       "      <td>0.0</td>\n",
       "      <td>0.0</td>\n",
       "      <td>0.0</td>\n",
       "      <td>0</td>\n",
       "      <td>725000.0</td>\n",
       "      <td>1653775.0</td>\n",
       "      <td>Orlando Magic</td>\n",
       "      <td>W</td>\n",
       "      <td>M</td>\n",
       "      <td>31</td>\n",
       "      <td>51</td>\n",
       "      <td>0.378</td>\n",
       "      <td>19</td>\n",
       "      <td>Chicago Bulls</td>\n",
       "      <td>0</td>\n",
       "      <td>11871000.0</td>\n",
       "      <td>25499592.0</td>\n",
       "      <td>7532000.0</td>\n",
       "      <td>17181014.0</td>\n",
       "    </tr>\n",
       "    <tr>\n",
       "      <th>1</th>\n",
       "      <td>Ron Anderson</td>\n",
       "      <td>SF</td>\n",
       "      <td>32</td>\n",
       "      <td>PHI</td>\n",
       "      <td>82</td>\n",
       "      <td>13.0</td>\n",
       "      <td>28</td>\n",
       "      <td>6.2</td>\n",
       "      <td>12.9</td>\n",
       "      <td>0.485</td>\n",
       "      <td>0.1</td>\n",
       "      <td>0.5</td>\n",
       "      <td>0.209</td>\n",
       "      <td>6.1</td>\n",
       "      <td>12.3</td>\n",
       "      <td>0.497</td>\n",
       "      <td>0.490</td>\n",
       "      <td>2.0</td>\n",
       "      <td>2.4</td>\n",
       "      <td>0.833</td>\n",
       "      <td>1.3</td>\n",
       "      <td>3.2</td>\n",
       "      <td>4.5</td>\n",
       "      <td>1.4</td>\n",
       "      <td>0.8</td>\n",
       "      <td>0.2</td>\n",
       "      <td>1.2</td>\n",
       "      <td>2.0</td>\n",
       "      <td>14.6</td>\n",
       "      <td>1990</td>\n",
       "      <td>13.0</td>\n",
       "      <td>2340</td>\n",
       "      <td>512.0</td>\n",
       "      <td>1055.0</td>\n",
       "      <td>0.485</td>\n",
       "      <td>9.0</td>\n",
       "      <td>43.0</td>\n",
       "      <td>0.209</td>\n",
       "      <td>503.0</td>\n",
       "      <td>1012.0</td>\n",
       "      <td>0.497</td>\n",
       "      <td>0.490</td>\n",
       "      <td>165.0</td>\n",
       "      <td>198.0</td>\n",
       "      <td>0.833</td>\n",
       "      <td>103.0</td>\n",
       "      <td>264.0</td>\n",
       "      <td>367.0</td>\n",
       "      <td>115.0</td>\n",
       "      <td>65.0</td>\n",
       "      <td>13.0</td>\n",
       "      <td>100.0</td>\n",
       "      <td>163.0</td>\n",
       "      <td>1198.0</td>\n",
       "      <td>15.5</td>\n",
       "      <td>0.524</td>\n",
       "      <td>0.041</td>\n",
       "      <td>0.188</td>\n",
       "      <td>5.0</td>\n",
       "      <td>12.4</td>\n",
       "      <td>8.8</td>\n",
       "      <td>8.2</td>\n",
       "      <td>1.4</td>\n",
       "      <td>0.3</td>\n",
       "      <td>8.1</td>\n",
       "      <td>23.2</td>\n",
       "      <td>2.3</td>\n",
       "      <td>1.8</td>\n",
       "      <td>4.1</td>\n",
       "      <td>0.085</td>\n",
       "      <td>-0.2</td>\n",
       "      <td>-1.4</td>\n",
       "      <td>-1.6</td>\n",
       "      <td>0.2</td>\n",
       "      <td>0</td>\n",
       "      <td>SF</td>\n",
       "      <td>F</td>\n",
       "      <td>1</td>\n",
       "      <td>0</td>\n",
       "      <td>0</td>\n",
       "      <td>0</td>\n",
       "      <td>0.0</td>\n",
       "      <td>0.0</td>\n",
       "      <td>0.0</td>\n",
       "      <td>0.0</td>\n",
       "      <td>0.0</td>\n",
       "      <td>0</td>\n",
       "      <td>425000.0</td>\n",
       "      <td>969454.0</td>\n",
       "      <td>Philadelphia 76ers</td>\n",
       "      <td>E</td>\n",
       "      <td>A</td>\n",
       "      <td>44</td>\n",
       "      <td>38</td>\n",
       "      <td>0.537</td>\n",
       "      <td>12</td>\n",
       "      <td>Chicago Bulls</td>\n",
       "      <td>0</td>\n",
       "      <td>11871000.0</td>\n",
       "      <td>25499592.0</td>\n",
       "      <td>11640000.0</td>\n",
       "      <td>26551652.0</td>\n",
       "    </tr>\n",
       "    <tr>\n",
       "      <th>2</th>\n",
       "      <td>Willie Anderson</td>\n",
       "      <td>SG</td>\n",
       "      <td>24</td>\n",
       "      <td>SAS</td>\n",
       "      <td>75</td>\n",
       "      <td>75.0</td>\n",
       "      <td>34</td>\n",
       "      <td>6.0</td>\n",
       "      <td>13.2</td>\n",
       "      <td>0.457</td>\n",
       "      <td>0.1</td>\n",
       "      <td>0.5</td>\n",
       "      <td>0.200</td>\n",
       "      <td>5.9</td>\n",
       "      <td>12.7</td>\n",
       "      <td>0.467</td>\n",
       "      <td>0.461</td>\n",
       "      <td>2.3</td>\n",
       "      <td>2.8</td>\n",
       "      <td>0.798</td>\n",
       "      <td>0.9</td>\n",
       "      <td>3.8</td>\n",
       "      <td>4.7</td>\n",
       "      <td>4.8</td>\n",
       "      <td>1.1</td>\n",
       "      <td>0.6</td>\n",
       "      <td>2.2</td>\n",
       "      <td>3.0</td>\n",
       "      <td>14.4</td>\n",
       "      <td>1990</td>\n",
       "      <td>75.0</td>\n",
       "      <td>2592</td>\n",
       "      <td>453.0</td>\n",
       "      <td>991.0</td>\n",
       "      <td>0.457</td>\n",
       "      <td>7.0</td>\n",
       "      <td>35.0</td>\n",
       "      <td>0.200</td>\n",
       "      <td>446.0</td>\n",
       "      <td>956.0</td>\n",
       "      <td>0.467</td>\n",
       "      <td>0.461</td>\n",
       "      <td>170.0</td>\n",
       "      <td>213.0</td>\n",
       "      <td>0.798</td>\n",
       "      <td>68.0</td>\n",
       "      <td>283.0</td>\n",
       "      <td>351.0</td>\n",
       "      <td>358.0</td>\n",
       "      <td>79.0</td>\n",
       "      <td>46.0</td>\n",
       "      <td>167.0</td>\n",
       "      <td>226.0</td>\n",
       "      <td>1083.0</td>\n",
       "      <td>13.0</td>\n",
       "      <td>0.499</td>\n",
       "      <td>0.035</td>\n",
       "      <td>0.215</td>\n",
       "      <td>3.1</td>\n",
       "      <td>11.5</td>\n",
       "      <td>7.5</td>\n",
       "      <td>20.2</td>\n",
       "      <td>1.5</td>\n",
       "      <td>1.1</td>\n",
       "      <td>13.3</td>\n",
       "      <td>20.1</td>\n",
       "      <td>1.3</td>\n",
       "      <td>3.5</td>\n",
       "      <td>4.8</td>\n",
       "      <td>0.089</td>\n",
       "      <td>-0.9</td>\n",
       "      <td>1.0</td>\n",
       "      <td>0.1</td>\n",
       "      <td>1.4</td>\n",
       "      <td>0</td>\n",
       "      <td>SG</td>\n",
       "      <td>Gu</td>\n",
       "      <td>0</td>\n",
       "      <td>1</td>\n",
       "      <td>0</td>\n",
       "      <td>0</td>\n",
       "      <td>0.0</td>\n",
       "      <td>0.0</td>\n",
       "      <td>0.0</td>\n",
       "      <td>0.0</td>\n",
       "      <td>0.0</td>\n",
       "      <td>0</td>\n",
       "      <td>725000.0</td>\n",
       "      <td>1653775.0</td>\n",
       "      <td>San Antonio Spurs</td>\n",
       "      <td>W</td>\n",
       "      <td>M</td>\n",
       "      <td>55</td>\n",
       "      <td>27</td>\n",
       "      <td>0.671</td>\n",
       "      <td>6</td>\n",
       "      <td>Chicago Bulls</td>\n",
       "      <td>0</td>\n",
       "      <td>11871000.0</td>\n",
       "      <td>25499592.0</td>\n",
       "      <td>11057000.0</td>\n",
       "      <td>25221786.0</td>\n",
       "    </tr>\n",
       "    <tr>\n",
       "      <th>3</th>\n",
       "      <td>Thurl Bailey</td>\n",
       "      <td>PF</td>\n",
       "      <td>29</td>\n",
       "      <td>UTA</td>\n",
       "      <td>82</td>\n",
       "      <td>22.0</td>\n",
       "      <td>30</td>\n",
       "      <td>4.9</td>\n",
       "      <td>10.6</td>\n",
       "      <td>0.458</td>\n",
       "      <td>0.0</td>\n",
       "      <td>0.0</td>\n",
       "      <td>0.000</td>\n",
       "      <td>4.9</td>\n",
       "      <td>10.6</td>\n",
       "      <td>0.459</td>\n",
       "      <td>0.458</td>\n",
       "      <td>2.7</td>\n",
       "      <td>3.3</td>\n",
       "      <td>0.808</td>\n",
       "      <td>1.2</td>\n",
       "      <td>3.7</td>\n",
       "      <td>5.0</td>\n",
       "      <td>1.5</td>\n",
       "      <td>0.6</td>\n",
       "      <td>1.1</td>\n",
       "      <td>1.6</td>\n",
       "      <td>2.0</td>\n",
       "      <td>12.4</td>\n",
       "      <td>1990</td>\n",
       "      <td>22.0</td>\n",
       "      <td>2486</td>\n",
       "      <td>399.0</td>\n",
       "      <td>872.0</td>\n",
       "      <td>0.458</td>\n",
       "      <td>0.0</td>\n",
       "      <td>3.0</td>\n",
       "      <td>0.000</td>\n",
       "      <td>399.0</td>\n",
       "      <td>869.0</td>\n",
       "      <td>0.459</td>\n",
       "      <td>0.458</td>\n",
       "      <td>219.0</td>\n",
       "      <td>271.0</td>\n",
       "      <td>0.808</td>\n",
       "      <td>101.0</td>\n",
       "      <td>306.0</td>\n",
       "      <td>407.0</td>\n",
       "      <td>124.0</td>\n",
       "      <td>53.0</td>\n",
       "      <td>91.0</td>\n",
       "      <td>130.0</td>\n",
       "      <td>160.0</td>\n",
       "      <td>1017.0</td>\n",
       "      <td>12.5</td>\n",
       "      <td>0.513</td>\n",
       "      <td>0.003</td>\n",
       "      <td>0.311</td>\n",
       "      <td>5.1</td>\n",
       "      <td>13.6</td>\n",
       "      <td>9.6</td>\n",
       "      <td>7.7</td>\n",
       "      <td>1.1</td>\n",
       "      <td>2.3</td>\n",
       "      <td>11.6</td>\n",
       "      <td>20.0</td>\n",
       "      <td>0.6</td>\n",
       "      <td>3.1</td>\n",
       "      <td>3.7</td>\n",
       "      <td>0.072</td>\n",
       "      <td>-1.4</td>\n",
       "      <td>0.0</td>\n",
       "      <td>-1.4</td>\n",
       "      <td>0.4</td>\n",
       "      <td>0</td>\n",
       "      <td>PF</td>\n",
       "      <td>F</td>\n",
       "      <td>1</td>\n",
       "      <td>0</td>\n",
       "      <td>0</td>\n",
       "      <td>0</td>\n",
       "      <td>0.0</td>\n",
       "      <td>0.0</td>\n",
       "      <td>0.0</td>\n",
       "      <td>0.0</td>\n",
       "      <td>0.0</td>\n",
       "      <td>0</td>\n",
       "      <td>1000000.0</td>\n",
       "      <td>2281070.0</td>\n",
       "      <td>Utah Jazz</td>\n",
       "      <td>W</td>\n",
       "      <td>M</td>\n",
       "      <td>54</td>\n",
       "      <td>28</td>\n",
       "      <td>0.659</td>\n",
       "      <td>7</td>\n",
       "      <td>Chicago Bulls</td>\n",
       "      <td>0</td>\n",
       "      <td>11871000.0</td>\n",
       "      <td>25499592.0</td>\n",
       "      <td>10695000.0</td>\n",
       "      <td>24396040.0</td>\n",
       "    </tr>\n",
       "    <tr>\n",
       "      <th>4</th>\n",
       "      <td>Benoit Benjamin</td>\n",
       "      <td>C</td>\n",
       "      <td>26</td>\n",
       "      <td>LAC</td>\n",
       "      <td>70</td>\n",
       "      <td>65.0</td>\n",
       "      <td>31</td>\n",
       "      <td>5.5</td>\n",
       "      <td>11.1</td>\n",
       "      <td>0.496</td>\n",
       "      <td>0.0</td>\n",
       "      <td>0.0</td>\n",
       "      <td>0.000</td>\n",
       "      <td>5.5</td>\n",
       "      <td>11.1</td>\n",
       "      <td>0.496</td>\n",
       "      <td>0.496</td>\n",
       "      <td>3.0</td>\n",
       "      <td>4.2</td>\n",
       "      <td>0.712</td>\n",
       "      <td>2.2</td>\n",
       "      <td>8.1</td>\n",
       "      <td>10.3</td>\n",
       "      <td>1.7</td>\n",
       "      <td>0.8</td>\n",
       "      <td>2.1</td>\n",
       "      <td>3.4</td>\n",
       "      <td>2.6</td>\n",
       "      <td>14.0</td>\n",
       "      <td>1990</td>\n",
       "      <td>65.0</td>\n",
       "      <td>2236</td>\n",
       "      <td>386.0</td>\n",
       "      <td>778.0</td>\n",
       "      <td>0.496</td>\n",
       "      <td>0.0</td>\n",
       "      <td>0.0</td>\n",
       "      <td>0.000</td>\n",
       "      <td>386.0</td>\n",
       "      <td>778.0</td>\n",
       "      <td>0.496</td>\n",
       "      <td>0.496</td>\n",
       "      <td>210.0</td>\n",
       "      <td>295.0</td>\n",
       "      <td>0.712</td>\n",
       "      <td>157.0</td>\n",
       "      <td>566.0</td>\n",
       "      <td>723.0</td>\n",
       "      <td>119.0</td>\n",
       "      <td>54.0</td>\n",
       "      <td>145.0</td>\n",
       "      <td>235.0</td>\n",
       "      <td>184.0</td>\n",
       "      <td>982.0</td>\n",
       "      <td>15.1</td>\n",
       "      <td>0.541</td>\n",
       "      <td>0.000</td>\n",
       "      <td>0.379</td>\n",
       "      <td>7.8</td>\n",
       "      <td>28.7</td>\n",
       "      <td>18.1</td>\n",
       "      <td>7.7</td>\n",
       "      <td>1.2</td>\n",
       "      <td>4.0</td>\n",
       "      <td>20.6</td>\n",
       "      <td>21.0</td>\n",
       "      <td>-0.7</td>\n",
       "      <td>3.7</td>\n",
       "      <td>3.0</td>\n",
       "      <td>0.064</td>\n",
       "      <td>-1.9</td>\n",
       "      <td>0.8</td>\n",
       "      <td>-1.1</td>\n",
       "      <td>0.5</td>\n",
       "      <td>0</td>\n",
       "      <td>C</td>\n",
       "      <td>C</td>\n",
       "      <td>0</td>\n",
       "      <td>0</td>\n",
       "      <td>1</td>\n",
       "      <td>0</td>\n",
       "      <td>0.0</td>\n",
       "      <td>0.0</td>\n",
       "      <td>0.0</td>\n",
       "      <td>0.0</td>\n",
       "      <td>0.0</td>\n",
       "      <td>0</td>\n",
       "      <td>1750000.0</td>\n",
       "      <td>3991872.0</td>\n",
       "      <td>Los Angeles Clippers</td>\n",
       "      <td>W</td>\n",
       "      <td>P</td>\n",
       "      <td>31</td>\n",
       "      <td>51</td>\n",
       "      <td>0.378</td>\n",
       "      <td>18</td>\n",
       "      <td>Chicago Bulls</td>\n",
       "      <td>0</td>\n",
       "      <td>11871000.0</td>\n",
       "      <td>25499592.0</td>\n",
       "      <td>10245000.0</td>\n",
       "      <td>23369557.0</td>\n",
       "    </tr>\n",
       "  </tbody>\n",
       "</table>\n",
       "</div>"
      ],
      "text/plain": [
       "            player pos  age   tm   g  pg_gs  pg_mp  pg_fg  pg_fga  pg_fg%  \\\n",
       "0    Nick Anderson  SG   23  ORL  70   42.0     28    5.7    12.2   0.467   \n",
       "1     Ron Anderson  SF   32  PHI  82   13.0     28    6.2    12.9   0.485   \n",
       "2  Willie Anderson  SG   24  SAS  75   75.0     34    6.0    13.2   0.457   \n",
       "3     Thurl Bailey  PF   29  UTA  82   22.0     30    4.9    10.6   0.458   \n",
       "4  Benoit Benjamin   C   26  LAC  70   65.0     31    5.5    11.1   0.496   \n",
       "\n",
       "   pg_3p  pg_3pa  pg_3p%  pg_2p  pg_2pa  pg_2p%  pg_efg%  pg_ft  pg_fta  \\\n",
       "0    0.2     0.8   0.293    5.5    11.4   0.479    0.477    2.5     3.7   \n",
       "1    0.1     0.5   0.209    6.1    12.3   0.497    0.490    2.0     2.4   \n",
       "2    0.1     0.5   0.200    5.9    12.7   0.467    0.461    2.3     2.8   \n",
       "3    0.0     0.0   0.000    4.9    10.6   0.459    0.458    2.7     3.3   \n",
       "4    0.0     0.0   0.000    5.5    11.1   0.496    0.496    3.0     4.2   \n",
       "\n",
       "   pg_ft%  pg_orb  pg_drb  pg_trb  pg_ast  pg_stl  pg_blk  pg_tov  pg_pf  \\\n",
       "0   0.668     1.3     4.2     5.5     1.5     1.1     0.6     1.6    2.1   \n",
       "1   0.833     1.3     3.2     4.5     1.4     0.8     0.2     1.2    2.0   \n",
       "2   0.798     0.9     3.8     4.7     4.8     1.1     0.6     2.2    3.0   \n",
       "3   0.808     1.2     3.7     5.0     1.5     0.6     1.1     1.6    2.0   \n",
       "4   0.712     2.2     8.1    10.3     1.7     0.8     2.1     3.4    2.6   \n",
       "\n",
       "   pg_pts  year  tot_gs  tot_mp  tot_fg  tot_fga  tot_fg%  tot_3p  tot_3pa  \\\n",
       "0    14.1  1990    42.0    1971   400.0    857.0    0.467    17.0     58.0   \n",
       "1    14.6  1990    13.0    2340   512.0   1055.0    0.485     9.0     43.0   \n",
       "2    14.4  1990    75.0    2592   453.0    991.0    0.457     7.0     35.0   \n",
       "3    12.4  1990    22.0    2486   399.0    872.0    0.458     0.0      3.0   \n",
       "4    14.0  1990    65.0    2236   386.0    778.0    0.496     0.0      0.0   \n",
       "\n",
       "   tot_3p%  tot_2p  tot_2pa  tot_2p%  tot_efg%  tot_ft  tot_fta  tot_ft%  \\\n",
       "0    0.293   383.0    799.0    0.479     0.477   173.0    259.0    0.668   \n",
       "1    0.209   503.0   1012.0    0.497     0.490   165.0    198.0    0.833   \n",
       "2    0.200   446.0    956.0    0.467     0.461   170.0    213.0    0.798   \n",
       "3    0.000   399.0    869.0    0.459     0.458   219.0    271.0    0.808   \n",
       "4    0.000   386.0    778.0    0.496     0.496   210.0    295.0    0.712   \n",
       "\n",
       "   tot_orb  tot_drb  tot_trb  tot_ast  tot_stl  tot_blk  tot_tov  tot_pf  \\\n",
       "0     92.0    294.0    386.0    106.0     74.0     44.0    113.0   145.0   \n",
       "1    103.0    264.0    367.0    115.0     65.0     13.0    100.0   163.0   \n",
       "2     68.0    283.0    351.0    358.0     79.0     46.0    167.0   226.0   \n",
       "3    101.0    306.0    407.0    124.0     53.0     91.0    130.0   160.0   \n",
       "4    157.0    566.0    723.0    119.0     54.0    145.0    235.0   184.0   \n",
       "\n",
       "   tot_pts  adv_per  adv_ts%  adv_3par  adv_ftr  adv_orb%  adv_drb%  adv_trb%  \\\n",
       "0    990.0     15.1    0.510     0.068    0.302       4.9      16.7      10.7   \n",
       "1   1198.0     15.5    0.524     0.041    0.188       5.0      12.4       8.8   \n",
       "2   1083.0     13.0    0.499     0.035    0.215       3.1      11.5       7.5   \n",
       "3   1017.0     12.5    0.513     0.003    0.311       5.1      13.6       9.6   \n",
       "4    982.0     15.1    0.541     0.000    0.379       7.8      28.7      18.1   \n",
       "\n",
       "   adv_ast%  adv_stl%  adv_blk%  adv_tov%  adv_usg%  adv_ows  adv_dws  adv_ws  \\\n",
       "0       8.5       1.8       1.3      10.4      22.4      1.2      1.9     3.1   \n",
       "1       8.2       1.4       0.3       8.1      23.2      2.3      1.8     4.1   \n",
       "2      20.2       1.5       1.1      13.3      20.1      1.3      3.5     4.8   \n",
       "3       7.7       1.1       2.3      11.6      20.0      0.6      3.1     3.7   \n",
       "4       7.7       1.2       4.0      20.6      21.0     -0.7      3.7     3.0   \n",
       "\n",
       "   adv_ws/48  adv_obpm  adv_dbpm  adv_bpm  adv_vorp  gt1_pos pos_5 pos_3  f  \\\n",
       "0      0.075       0.0       0.3      0.3       1.1        0    SG    Gu  0   \n",
       "1      0.085      -0.2      -1.4     -1.6       0.2        0    SF     F  1   \n",
       "2      0.089      -0.9       1.0      0.1       1.4        0    SG    Gu  0   \n",
       "3      0.072      -1.4       0.0     -1.4       0.4        0    PF     F  1   \n",
       "4      0.064      -1.9       0.8     -1.1       0.5        0     C     C  0   \n",
       "\n",
       "   gu  midseason_trade all_nba_team  pts_won  pts_max  share  all_nba_winner  \\\n",
       "0   1                0            0      0.0      0.0    0.0             0.0   \n",
       "1   0                0            0      0.0      0.0    0.0             0.0   \n",
       "2   1                0            0      0.0      0.0    0.0             0.0   \n",
       "3   0                0            0      0.0      0.0    0.0             0.0   \n",
       "4   0                1            0      0.0      0.0    0.0             0.0   \n",
       "\n",
       "   n_allstar  all_star     salary  salary_adj                  team conf div  \\\n",
       "0        0.0         0   725000.0   1653775.0         Orlando Magic    W   M   \n",
       "1        0.0         0   425000.0    969454.0    Philadelphia 76ers    E   A   \n",
       "2        0.0         0   725000.0   1653775.0     San Antonio Spurs    W   M   \n",
       "3        0.0         0  1000000.0   2281070.0             Utah Jazz    W   M   \n",
       "4        0.0         0  1750000.0   3991872.0  Los Angeles Clippers    W   P   \n",
       "\n",
       "    w   l   w/l%  seed         champs  won_championship  salary_cap  \\\n",
       "0  31  51  0.378    19  Chicago Bulls                 0  11871000.0   \n",
       "1  44  38  0.537    12  Chicago Bulls                 0  11871000.0   \n",
       "2  55  27  0.671     6  Chicago Bulls                 0  11871000.0   \n",
       "3  54  28  0.659     7  Chicago Bulls                 0  11871000.0   \n",
       "4  31  51  0.378    18  Chicago Bulls                 0  11871000.0   \n",
       "\n",
       "   salary_cap_adj     payroll  payroll_adj  \n",
       "0      25499592.0   7532000.0   17181014.0  \n",
       "1      25499592.0  11640000.0   26551652.0  \n",
       "2      25499592.0  11057000.0   25221786.0  \n",
       "3      25499592.0  10695000.0   24396040.0  \n",
       "4      25499592.0  10245000.0   23369557.0  "
      ]
     },
     "execution_count": 5,
     "metadata": {},
     "output_type": "execute_result"
    }
   ],
   "source": [
    "df = pd.read_csv('../data/clean/stats_main.csv')\n",
    "df.head()"
   ]
  },
  {
   "cell_type": "code",
   "execution_count": 48,
   "id": "9b2ae1c1-650e-4b13-9244-3595b9dbbdeb",
   "metadata": {},
   "outputs": [
    {
     "data": {
      "text/plain": [
       "(4377, 102)"
      ]
     },
     "execution_count": 48,
     "metadata": {},
     "output_type": "execute_result"
    }
   ],
   "source": [
    "df.shape"
   ]
  },
  {
   "cell_type": "code",
   "execution_count": 6,
   "id": "32240b50-85c2-4746-9bba-a0302f6f3f16",
   "metadata": {},
   "outputs": [],
   "source": [
    "train_yrs = [i for i in range(1990, 2017)] #1990-2016\n",
    "test_yrs = [i for i in range(2017,2021)] #2017-2020\n",
    "hold_yrs = [2021, 2022] "
   ]
  },
  {
   "cell_type": "code",
   "execution_count": 234,
   "id": "1a0be4b7-a067-4f9c-bfec-ba4984c1f619",
   "metadata": {},
   "outputs": [],
   "source": [
    "feats = ['age', 'g', 'pg_gs', 'pg_mp', 'pg_fg', 'pg_fga', 'pg_fg%', 'pg_3p', 'pg_3pa', 'pg_3p%', 'pg_2p', 'pg_2pa', 'pg_2p%', 'pg_efg%', 'pg_ft', 'pg_fta', 'pg_ft%', 'pg_orb', 'pg_drb', 'pg_trb', 'pg_ast', 'pg_stl', 'pg_blk', 'pg_tov', 'pg_pf', 'pg_pts', 'tot_mp', 'tot_fg%', 'tot_3p', 'tot_3p%', 'tot_2p%', 'tot_efg%', 'tot_ft%', 'tot_pf', 'tot_pts', 'adv_per', 'adv_ts%', 'adv_3par', 'adv_ftr', 'adv_orb%', 'adv_drb%', 'adv_trb%', 'adv_ast%', 'adv_stl%', 'adv_blk%', 'adv_tov%', 'adv_usg%', 'adv_ows', 'adv_dws', 'adv_ws', 'adv_ws/48', 'adv_obpm', 'adv_dbpm', 'adv_bpm', 'adv_vorp', 'f', 'gu', 'w/l%', 'seed', 'all_star']"
   ]
  },
  {
   "cell_type": "code",
   "execution_count": 235,
   "id": "61a4688e-4e5b-4350-b643-8aa9a8d0ae90",
   "metadata": {},
   "outputs": [
    {
     "name": "stdout",
     "output_type": "stream",
     "text": [
      "Train: X: (3554, 60), y: (3554,)\n",
      "Test: X: (520, 60), y: (520,)\n",
      "Hold: X: (303, 60), y: (303,)\n"
     ]
    }
   ],
   "source": [
    "X_train = df[feats].loc[df.year.isin(train_yrs)].reset_index(drop=True)\n",
    "X_test = df[feats].loc[df.year.isin(test_yrs)].reset_index(drop=True)\n",
    "\n",
    "y_train = df['share'].loc[df.year.isin(train_yrs)]\n",
    "y_test = df['share'].loc[df.year.isin(test_yrs)]\n",
    "\n",
    "X_hold = df[feats].loc[df.year.isin(hold_yrs)].reset_index(drop=True)\n",
    "y_hold = df['share'].loc[df.year.isin(hold_yrs)]\n",
    "\n",
    "print(f'Train: X: {X_train.shape}, y: {y_train.shape}')\n",
    "print(f'Test: X: {X_test.shape}, y: {y_test.shape}')\n",
    "print(f'Hold: X: {X_hold.shape}, y: {y_hold.shape}')"
   ]
  },
  {
   "cell_type": "code",
   "execution_count": 75,
   "id": "65bbb147-b566-4279-ad0f-72f7b722469f",
   "metadata": {},
   "outputs": [
    {
     "data": {
      "text/plain": [
       "pandas.core.series.Series"
      ]
     },
     "execution_count": 75,
     "metadata": {},
     "output_type": "execute_result"
    }
   ],
   "source": [
    "type(y_test)"
   ]
  },
  {
   "cell_type": "code",
   "execution_count": 79,
   "id": "5eedd7f8-ca25-45a9-846f-8444324aa0a0",
   "metadata": {},
   "outputs": [
    {
     "name": "stdout",
     "output_type": "stream",
     "text": [
      "Null Model: 0.06836268992684298\n",
      "Null MSE: 0.04054201336316384\n",
      "Null R^2: 0.04362410030724004\n"
     ]
    }
   ],
   "source": [
    "null_mod = y_train.mean()\n",
    "null_mse = np.mean((y_train - null_mod)**2)\n",
    "null_pred = np.full_like(y_test, y_train.mean())\n",
    "\n",
    "print(f'Null Model: {null_mod}')\n",
    "print(f'Null MSE: {null_mse}')\n",
    "print(f'Null R^2: {mean_squared_error(y_test, null_pred)}')"
   ]
  },
  {
   "cell_type": "code",
   "execution_count": null,
   "id": "a922067c-704a-4307-8724-f8e86e30a040",
   "metadata": {},
   "outputs": [],
   "source": []
  },
  {
   "cell_type": "code",
   "execution_count": 14,
   "id": "c0406982-270b-41c3-9bd8-aaf5ee5b9836",
   "metadata": {},
   "outputs": [],
   "source": [
    "b1 = \"\\033[1m\"\n",
    "b0 = \"\\033[0m\""
   ]
  },
  {
   "cell_type": "markdown",
   "id": "987d8a1b-8355-46d4-82a1-1a932e160174",
   "metadata": {},
   "source": [
    "## Support Vector Regression"
   ]
  },
  {
   "cell_type": "code",
   "execution_count": null,
   "id": "e4c45a91-ed91-4d17-ab10-4d607fd2254e",
   "metadata": {},
   "outputs": [],
   "source": []
  },
  {
   "cell_type": "code",
   "execution_count": 54,
   "id": "f16c662c-6451-4e6c-8597-bd20294822a6",
   "metadata": {},
   "outputs": [
    {
     "data": {
      "text/plain": [
       "{'memory': None,\n",
       " 'steps': [('ss', StandardScaler()), ('svr', SVR())],\n",
       " 'verbose': False,\n",
       " 'ss': StandardScaler(),\n",
       " 'svr': SVR(),\n",
       " 'ss__copy': True,\n",
       " 'ss__with_mean': True,\n",
       " 'ss__with_std': True,\n",
       " 'svr__C': 1.0,\n",
       " 'svr__cache_size': 200,\n",
       " 'svr__coef0': 0.0,\n",
       " 'svr__degree': 3,\n",
       " 'svr__epsilon': 0.1,\n",
       " 'svr__gamma': 'scale',\n",
       " 'svr__kernel': 'rbf',\n",
       " 'svr__max_iter': -1,\n",
       " 'svr__shrinking': True,\n",
       " 'svr__tol': 0.001,\n",
       " 'svr__verbose': False}"
      ]
     },
     "execution_count": 54,
     "metadata": {},
     "output_type": "execute_result"
    }
   ],
   "source": [
    "pipe_svr = Pipeline([\n",
    "    ('sc', StandardScaler()),\n",
    "    ('svr', SVR())\n",
    "])\n",
    "\n",
    "pipe_svr.get_params()"
   ]
  },
  {
   "cell_type": "code",
   "execution_count": 74,
   "id": "077bc93a-d564-433c-b583-d4d927e0fcf9",
   "metadata": {},
   "outputs": [],
   "source": [
    "pgrid_svr =[\n",
    "    {\n",
    "     'svr__C': np.linspace(0.0001, 2, 10),\n",
    "     'svr__kernel': ['rbf'], #'poly', 'linear'\n",
    "     'svr__degree': [2, 3, 4],\n",
    "     'svr__gamma': ['scale','auto'],\n",
    "     'svr__epsilon': [0.1, 0.5, 1]\n",
    "    }\n",
    "]"
   ]
  },
  {
   "cell_type": "code",
   "execution_count": 75,
   "id": "e59476b6-4c73-406b-8928-ce5521ac548d",
   "metadata": {},
   "outputs": [
    {
     "name": "stdout",
     "output_type": "stream",
     "text": [
      "CPU times: total: 1.84 s\n",
      "Wall time: 7.78 s\n"
     ]
    },
    {
     "data": {
      "text/html": [
       "<style>#sk-container-id-4 {color: black;background-color: white;}#sk-container-id-4 pre{padding: 0;}#sk-container-id-4 div.sk-toggleable {background-color: white;}#sk-container-id-4 label.sk-toggleable__label {cursor: pointer;display: block;width: 100%;margin-bottom: 0;padding: 0.3em;box-sizing: border-box;text-align: center;}#sk-container-id-4 label.sk-toggleable__label-arrow:before {content: \"▸\";float: left;margin-right: 0.25em;color: #696969;}#sk-container-id-4 label.sk-toggleable__label-arrow:hover:before {color: black;}#sk-container-id-4 div.sk-estimator:hover label.sk-toggleable__label-arrow:before {color: black;}#sk-container-id-4 div.sk-toggleable__content {max-height: 0;max-width: 0;overflow: hidden;text-align: left;background-color: #f0f8ff;}#sk-container-id-4 div.sk-toggleable__content pre {margin: 0.2em;color: black;border-radius: 0.25em;background-color: #f0f8ff;}#sk-container-id-4 input.sk-toggleable__control:checked~div.sk-toggleable__content {max-height: 200px;max-width: 100%;overflow: auto;}#sk-container-id-4 input.sk-toggleable__control:checked~label.sk-toggleable__label-arrow:before {content: \"▾\";}#sk-container-id-4 div.sk-estimator input.sk-toggleable__control:checked~label.sk-toggleable__label {background-color: #d4ebff;}#sk-container-id-4 div.sk-label input.sk-toggleable__control:checked~label.sk-toggleable__label {background-color: #d4ebff;}#sk-container-id-4 input.sk-hidden--visually {border: 0;clip: rect(1px 1px 1px 1px);clip: rect(1px, 1px, 1px, 1px);height: 1px;margin: -1px;overflow: hidden;padding: 0;position: absolute;width: 1px;}#sk-container-id-4 div.sk-estimator {font-family: monospace;background-color: #f0f8ff;border: 1px dotted black;border-radius: 0.25em;box-sizing: border-box;margin-bottom: 0.5em;}#sk-container-id-4 div.sk-estimator:hover {background-color: #d4ebff;}#sk-container-id-4 div.sk-parallel-item::after {content: \"\";width: 100%;border-bottom: 1px solid gray;flex-grow: 1;}#sk-container-id-4 div.sk-label:hover label.sk-toggleable__label {background-color: #d4ebff;}#sk-container-id-4 div.sk-serial::before {content: \"\";position: absolute;border-left: 1px solid gray;box-sizing: border-box;top: 0;bottom: 0;left: 50%;z-index: 0;}#sk-container-id-4 div.sk-serial {display: flex;flex-direction: column;align-items: center;background-color: white;padding-right: 0.2em;padding-left: 0.2em;position: relative;}#sk-container-id-4 div.sk-item {position: relative;z-index: 1;}#sk-container-id-4 div.sk-parallel {display: flex;align-items: stretch;justify-content: center;background-color: white;position: relative;}#sk-container-id-4 div.sk-item::before, #sk-container-id-4 div.sk-parallel-item::before {content: \"\";position: absolute;border-left: 1px solid gray;box-sizing: border-box;top: 0;bottom: 0;left: 50%;z-index: -1;}#sk-container-id-4 div.sk-parallel-item {display: flex;flex-direction: column;z-index: 1;position: relative;background-color: white;}#sk-container-id-4 div.sk-parallel-item:first-child::after {align-self: flex-end;width: 50%;}#sk-container-id-4 div.sk-parallel-item:last-child::after {align-self: flex-start;width: 50%;}#sk-container-id-4 div.sk-parallel-item:only-child::after {width: 0;}#sk-container-id-4 div.sk-dashed-wrapped {border: 1px dashed gray;margin: 0 0.4em 0.5em 0.4em;box-sizing: border-box;padding-bottom: 0.4em;background-color: white;}#sk-container-id-4 div.sk-label label {font-family: monospace;font-weight: bold;display: inline-block;line-height: 1.2em;}#sk-container-id-4 div.sk-label-container {text-align: center;}#sk-container-id-4 div.sk-container {/* jupyter's `normalize.less` sets `[hidden] { display: none; }` but bootstrap.min.css set `[hidden] { display: none !important; }` so we also need the `!important` here to be able to override the default hidden behavior on the sphinx rendered scikit-learn.org. See: https://github.com/scikit-learn/scikit-learn/issues/21755 */display: inline-block !important;position: relative;}#sk-container-id-4 div.sk-text-repr-fallback {display: none;}</style><div id=\"sk-container-id-4\" class=\"sk-top-container\"><div class=\"sk-text-repr-fallback\"><pre>GridSearchCV(estimator=Pipeline(steps=[(&#x27;ss&#x27;, StandardScaler()),\n",
       "                                       (&#x27;svr&#x27;, SVR())]),\n",
       "             n_jobs=25,\n",
       "             param_grid=[{&#x27;svr__C&#x27;: array([1.00000000e-04, 2.22311111e-01, 4.44522222e-01, 6.66733333e-01,\n",
       "       8.88944444e-01, 1.11115556e+00, 1.33336667e+00, 1.55557778e+00,\n",
       "       1.77778889e+00, 2.00000000e+00]),\n",
       "                          &#x27;svr__degree&#x27;: [2, 3, 4],\n",
       "                          &#x27;svr__epsilon&#x27;: [0.1, 0.5, 1],\n",
       "                          &#x27;svr__gamma&#x27;: [&#x27;scale&#x27;, &#x27;auto&#x27;],\n",
       "                          &#x27;svr__kernel&#x27;: [&#x27;rbf&#x27;]}])</pre><b>In a Jupyter environment, please rerun this cell to show the HTML representation or trust the notebook. <br />On GitHub, the HTML representation is unable to render, please try loading this page with nbviewer.org.</b></div><div class=\"sk-container\" hidden><div class=\"sk-item sk-dashed-wrapped\"><div class=\"sk-label-container\"><div class=\"sk-label sk-toggleable\"><input class=\"sk-toggleable__control sk-hidden--visually\" id=\"sk-estimator-id-13\" type=\"checkbox\" ><label for=\"sk-estimator-id-13\" class=\"sk-toggleable__label sk-toggleable__label-arrow\">GridSearchCV</label><div class=\"sk-toggleable__content\"><pre>GridSearchCV(estimator=Pipeline(steps=[(&#x27;ss&#x27;, StandardScaler()),\n",
       "                                       (&#x27;svr&#x27;, SVR())]),\n",
       "             n_jobs=25,\n",
       "             param_grid=[{&#x27;svr__C&#x27;: array([1.00000000e-04, 2.22311111e-01, 4.44522222e-01, 6.66733333e-01,\n",
       "       8.88944444e-01, 1.11115556e+00, 1.33336667e+00, 1.55557778e+00,\n",
       "       1.77778889e+00, 2.00000000e+00]),\n",
       "                          &#x27;svr__degree&#x27;: [2, 3, 4],\n",
       "                          &#x27;svr__epsilon&#x27;: [0.1, 0.5, 1],\n",
       "                          &#x27;svr__gamma&#x27;: [&#x27;scale&#x27;, &#x27;auto&#x27;],\n",
       "                          &#x27;svr__kernel&#x27;: [&#x27;rbf&#x27;]}])</pre></div></div></div><div class=\"sk-parallel\"><div class=\"sk-parallel-item\"><div class=\"sk-item\"><div class=\"sk-label-container\"><div class=\"sk-label sk-toggleable\"><input class=\"sk-toggleable__control sk-hidden--visually\" id=\"sk-estimator-id-14\" type=\"checkbox\" ><label for=\"sk-estimator-id-14\" class=\"sk-toggleable__label sk-toggleable__label-arrow\">estimator: Pipeline</label><div class=\"sk-toggleable__content\"><pre>Pipeline(steps=[(&#x27;ss&#x27;, StandardScaler()), (&#x27;svr&#x27;, SVR())])</pre></div></div></div><div class=\"sk-serial\"><div class=\"sk-item\"><div class=\"sk-serial\"><div class=\"sk-item\"><div class=\"sk-estimator sk-toggleable\"><input class=\"sk-toggleable__control sk-hidden--visually\" id=\"sk-estimator-id-15\" type=\"checkbox\" ><label for=\"sk-estimator-id-15\" class=\"sk-toggleable__label sk-toggleable__label-arrow\">StandardScaler</label><div class=\"sk-toggleable__content\"><pre>StandardScaler()</pre></div></div></div><div class=\"sk-item\"><div class=\"sk-estimator sk-toggleable\"><input class=\"sk-toggleable__control sk-hidden--visually\" id=\"sk-estimator-id-16\" type=\"checkbox\" ><label for=\"sk-estimator-id-16\" class=\"sk-toggleable__label sk-toggleable__label-arrow\">SVR</label><div class=\"sk-toggleable__content\"><pre>SVR()</pre></div></div></div></div></div></div></div></div></div></div></div></div>"
      ],
      "text/plain": [
       "GridSearchCV(estimator=Pipeline(steps=[('ss', StandardScaler()),\n",
       "                                       ('svr', SVR())]),\n",
       "             n_jobs=25,\n",
       "             param_grid=[{'svr__C': array([1.00000000e-04, 2.22311111e-01, 4.44522222e-01, 6.66733333e-01,\n",
       "       8.88944444e-01, 1.11115556e+00, 1.33336667e+00, 1.55557778e+00,\n",
       "       1.77778889e+00, 2.00000000e+00]),\n",
       "                          'svr__degree': [2, 3, 4],\n",
       "                          'svr__epsilon': [0.1, 0.5, 1],\n",
       "                          'svr__gamma': ['scale', 'auto'],\n",
       "                          'svr__kernel': ['rbf']}])"
      ]
     },
     "execution_count": 75,
     "metadata": {},
     "output_type": "execute_result"
    }
   ],
   "source": [
    "%%time\n",
    "\n",
    "gs_svr = GridSearchCV(pipe_svr, pgrid_svr, n_jobs=25)\n",
    "gs_svr.fit(X_train, y_train)"
   ]
  },
  {
   "cell_type": "code",
   "execution_count": 76,
   "id": "deb1bf60-08ca-4dc1-9fda-b28837020a1b",
   "metadata": {},
   "outputs": [],
   "source": [
    "# Make predictions\n",
    "preds_svr = gs_svr.predict(X_test)"
   ]
  },
  {
   "cell_type": "code",
   "execution_count": 77,
   "id": "bac255f6-5b0c-4a4d-a9dd-7a469bedfe3f",
   "metadata": {},
   "outputs": [
    {
     "name": "stdout",
     "output_type": "stream",
     "text": [
      "----------------- \u001b[1mSVR w/ GridSearch\u001b[0m ----------------\n",
      "------------------ Train: 0.8627 -------------------\n",
      "------------------- Test: 0.7515 -------------------\n",
      "Best Params: {'svr__C': 0.4445222222222222, 'svr__degree': 2, 'svr__epsilon': 0.1, 'svr__gamma': 'scale', 'svr__kernel': 'rbf'}\n"
     ]
    }
   ],
   "source": [
    "print(f'----------------- {b1}SVR w/ GridSearch{b0} ----------------')\n",
    "print(f'------------------ Train: {round(gs_svr.score(X_train, y_train),4)} -------------------')\n",
    "print(f'------------------- Test: {round(gs_svr.score(X_test, y_test),4)} -------------------')\n",
    "print('Best Params:', gs_svr.best_params_)"
   ]
  },
  {
   "cell_type": "code",
   "execution_count": 512,
   "id": "5e2872e0-968a-4bf9-8230-497d70a3a454",
   "metadata": {},
   "outputs": [
    {
     "data": {
      "text/plain": [
       "0.008330220863588972"
      ]
     },
     "execution_count": 512,
     "metadata": {},
     "output_type": "execute_result"
    }
   ],
   "source": [
    "mse = mean_squared_error(y_test, preds_svr)\n",
    "mse"
   ]
  },
  {
   "cell_type": "code",
   "execution_count": 513,
   "id": "bf197f0e-801b-4f62-aa0c-ece5ffbae646",
   "metadata": {},
   "outputs": [
    {
     "data": {
      "text/plain": [
       "0.8090421417646867"
      ]
     },
     "execution_count": 513,
     "metadata": {},
     "output_type": "execute_result"
    }
   ],
   "source": [
    "r2 = r2_score(y_test, preds_svr)\n",
    "r2"
   ]
  },
  {
   "cell_type": "code",
   "execution_count": null,
   "id": "65e8165a-294c-44ac-b266-45cb341c32f6",
   "metadata": {},
   "outputs": [],
   "source": []
  },
  {
   "cell_type": "code",
   "execution_count": 119,
   "id": "1249501b-6090-4170-9f03-81ea74eec75d",
   "metadata": {},
   "outputs": [
    {
     "data": {
      "image/png": "[encoded data removed]",
      "text/plain": [
       "<Figure size 500x300 with 1 Axes>"
      ]
     },
     "metadata": {},
     "output_type": "display_data"
    }
   ],
   "source": [
    "sns.set_style('darkgrid')\n",
    "plt.figure(figsize=(5,3))\n",
    "plt.scatter(y_test, preds_svr, s=13, c=['mediumvioletred'])\n",
    "plt.xlabel('True Values')\n",
    "plt.ylabel('Predictions')\n",
    "plt.title('True vs. Predicted')\n",
    "plt.show()"
   ]
  },
  {
   "cell_type": "code",
   "execution_count": 110,
   "id": "b280ba17-f842-413a-acb4-346792b119dd",
   "metadata": {},
   "outputs": [
    {
     "data": {
      "image/png": "[encoded data removed]",
      "text/plain": [
       "<Figure size 600x400 with 1 Axes>"
      ]
     },
     "metadata": {},
     "output_type": "display_data"
    }
   ],
   "source": [
    "sns.set_style('darkgrid')\n",
    "plt.figure(figsize=(6,4))\n",
    "residuals = y_test - preds_svr\n",
    "plt.scatter(y_test, residuals, s=13, c=['mediumvioletred'])\n",
    "plt.axhline(y=0, color='blue', linestyle='--')\n",
    "plt.xlabel('True Values')\n",
    "plt.ylabel('Residuals')\n",
    "plt.title('Residual Plot')\n",
    "plt.show()"
   ]
  },
  {
   "cell_type": "code",
   "execution_count": 114,
   "id": "c58f00e9-e5d8-4c6a-945e-f9d3cd184a65",
   "metadata": {},
   "outputs": [
    {
     "data": {
      "image/png": "[encoded data removed]",
      "text/plain": [
       "<Figure size 640x480 with 1 Axes>"
      ]
     },
     "metadata": {},
     "output_type": "display_data"
    }
   ],
   "source": [
    "sns.histplot(residuals, kde=True)\n",
    "plt.xlabel('Residuals')\n",
    "plt.ylabel('Frequency')\n",
    "plt.title('Residual Histogram')\n",
    "plt.show()"
   ]
  },
  {
   "cell_type": "markdown",
   "id": "74b14cfd-1b05-430d-8bcd-43e220ccfc81",
   "metadata": {},
   "source": [
    "## Random Forest Regressor"
   ]
  },
  {
   "cell_type": "code",
   "execution_count": 115,
   "id": "0a8bb60d-8eb5-46dc-b0e2-b3355178531f",
   "metadata": {},
   "outputs": [
    {
     "data": {
      "text/plain": [
       "{'memory': None,\n",
       " 'steps': [('sc', StandardScaler()), ('rf', RandomForestRegressor())],\n",
       " 'verbose': False,\n",
       " 'sc': StandardScaler(),\n",
       " 'rf': RandomForestRegressor(),\n",
       " 'sc__copy': True,\n",
       " 'sc__with_mean': True,\n",
       " 'sc__with_std': True,\n",
       " 'rf__bootstrap': True,\n",
       " 'rf__ccp_alpha': 0.0,\n",
       " 'rf__criterion': 'squared_error',\n",
       " 'rf__max_depth': None,\n",
       " 'rf__max_features': 1.0,\n",
       " 'rf__max_leaf_nodes': None,\n",
       " 'rf__max_samples': None,\n",
       " 'rf__min_impurity_decrease': 0.0,\n",
       " 'rf__min_samples_leaf': 1,\n",
       " 'rf__min_samples_split': 2,\n",
       " 'rf__min_weight_fraction_leaf': 0.0,\n",
       " 'rf__n_estimators': 100,\n",
       " 'rf__n_jobs': None,\n",
       " 'rf__oob_score': False,\n",
       " 'rf__random_state': None,\n",
       " 'rf__verbose': 0,\n",
       " 'rf__warm_start': False}"
      ]
     },
     "execution_count": 115,
     "metadata": {},
     "output_type": "execute_result"
    }
   ],
   "source": [
    "# RANDOM FOREST\n",
    "pipe_rf = Pipeline([\n",
    "    ('sc', StandardScaler()),\n",
    "    ('rf', RandomForestRegressor())\n",
    "])\n",
    "\n",
    "pipe_rf.get_params()"
   ]
  },
  {
   "cell_type": "raw",
   "id": "046d56bf-3dd8-4a99-ba00-2733de74f221",
   "metadata": {},
   "source": [
    "pgrid_rf =[\n",
    "    {'rf__n_estimators': [15,25,50,64,100,150,200],\n",
    "     'rf__max_depth': list(np.arange(50, 100, 5)) + [None],\n",
    "     'rf__max_features': [2,3,4,5],\n",
    "     'rf__max_leaf_nodes': [None, 10, 50, 100],\n",
    "     'rf__max_samples': [None, 10, 50, 100]\n",
    "    } \n",
    "]\n",
    "# Best Params: {'rf__max_depth': 85, 'rf__max_features': 5, 'rf__max_leaf_nodes': None, 'rf__max_samples': None, 'rf__n_estimators': 200}"
   ]
  },
  {
   "cell_type": "code",
   "execution_count": 126,
   "id": "be1f0a6e-7f70-4c48-bc08-723d53becb25",
   "metadata": {},
   "outputs": [],
   "source": [
    "pgrid_rf =[\n",
    "    {'rf__n_estimators': [200],\n",
    "     'rf__max_depth': [85],\n",
    "     'rf__max_features': [10,15],\n",
    "     'rf__max_leaf_nodes': [None],\n",
    "     'rf__max_samples': [None]\n",
    "    } \n",
    "]"
   ]
  },
  {
   "cell_type": "code",
   "execution_count": 127,
   "id": "ea40f1fa-ccaf-45b6-8533-0d5b0bf6618b",
   "metadata": {},
   "outputs": [
    {
     "name": "stdout",
     "output_type": "stream",
     "text": [
      "CPU times: total: 1.69 s\n",
      "Wall time: 13.6 s\n"
     ]
    },
    {
     "data": {
      "text/html": [
       "<style>#sk-container-id-7 {color: black;background-color: white;}#sk-container-id-7 pre{padding: 0;}#sk-container-id-7 div.sk-toggleable {background-color: white;}#sk-container-id-7 label.sk-toggleable__label {cursor: pointer;display: block;width: 100%;margin-bottom: 0;padding: 0.3em;box-sizing: border-box;text-align: center;}#sk-container-id-7 label.sk-toggleable__label-arrow:before {content: \"▸\";float: left;margin-right: 0.25em;color: #696969;}#sk-container-id-7 label.sk-toggleable__label-arrow:hover:before {color: black;}#sk-container-id-7 div.sk-estimator:hover label.sk-toggleable__label-arrow:before {color: black;}#sk-container-id-7 div.sk-toggleable__content {max-height: 0;max-width: 0;overflow: hidden;text-align: left;background-color: #f0f8ff;}#sk-container-id-7 div.sk-toggleable__content pre {margin: 0.2em;color: black;border-radius: 0.25em;background-color: #f0f8ff;}#sk-container-id-7 input.sk-toggleable__control:checked~div.sk-toggleable__content {max-height: 200px;max-width: 100%;overflow: auto;}#sk-container-id-7 input.sk-toggleable__control:checked~label.sk-toggleable__label-arrow:before {content: \"▾\";}#sk-container-id-7 div.sk-estimator input.sk-toggleable__control:checked~label.sk-toggleable__label {background-color: #d4ebff;}#sk-container-id-7 div.sk-label input.sk-toggleable__control:checked~label.sk-toggleable__label {background-color: #d4ebff;}#sk-container-id-7 input.sk-hidden--visually {border: 0;clip: rect(1px 1px 1px 1px);clip: rect(1px, 1px, 1px, 1px);height: 1px;margin: -1px;overflow: hidden;padding: 0;position: absolute;width: 1px;}#sk-container-id-7 div.sk-estimator {font-family: monospace;background-color: #f0f8ff;border: 1px dotted black;border-radius: 0.25em;box-sizing: border-box;margin-bottom: 0.5em;}#sk-container-id-7 div.sk-estimator:hover {background-color: #d4ebff;}#sk-container-id-7 div.sk-parallel-item::after {content: \"\";width: 100%;border-bottom: 1px solid gray;flex-grow: 1;}#sk-container-id-7 div.sk-label:hover label.sk-toggleable__label {background-color: #d4ebff;}#sk-container-id-7 div.sk-serial::before {content: \"\";position: absolute;border-left: 1px solid gray;box-sizing: border-box;top: 0;bottom: 0;left: 50%;z-index: 0;}#sk-container-id-7 div.sk-serial {display: flex;flex-direction: column;align-items: center;background-color: white;padding-right: 0.2em;padding-left: 0.2em;position: relative;}#sk-container-id-7 div.sk-item {position: relative;z-index: 1;}#sk-container-id-7 div.sk-parallel {display: flex;align-items: stretch;justify-content: center;background-color: white;position: relative;}#sk-container-id-7 div.sk-item::before, #sk-container-id-7 div.sk-parallel-item::before {content: \"\";position: absolute;border-left: 1px solid gray;box-sizing: border-box;top: 0;bottom: 0;left: 50%;z-index: -1;}#sk-container-id-7 div.sk-parallel-item {display: flex;flex-direction: column;z-index: 1;position: relative;background-color: white;}#sk-container-id-7 div.sk-parallel-item:first-child::after {align-self: flex-end;width: 50%;}#sk-container-id-7 div.sk-parallel-item:last-child::after {align-self: flex-start;width: 50%;}#sk-container-id-7 div.sk-parallel-item:only-child::after {width: 0;}#sk-container-id-7 div.sk-dashed-wrapped {border: 1px dashed gray;margin: 0 0.4em 0.5em 0.4em;box-sizing: border-box;padding-bottom: 0.4em;background-color: white;}#sk-container-id-7 div.sk-label label {font-family: monospace;font-weight: bold;display: inline-block;line-height: 1.2em;}#sk-container-id-7 div.sk-label-container {text-align: center;}#sk-container-id-7 div.sk-container {/* jupyter's `normalize.less` sets `[hidden] { display: none; }` but bootstrap.min.css set `[hidden] { display: none !important; }` so we also need the `!important` here to be able to override the default hidden behavior on the sphinx rendered scikit-learn.org. See: https://github.com/scikit-learn/scikit-learn/issues/21755 */display: inline-block !important;position: relative;}#sk-container-id-7 div.sk-text-repr-fallback {display: none;}</style><div id=\"sk-container-id-7\" class=\"sk-top-container\"><div class=\"sk-text-repr-fallback\"><pre>GridSearchCV(cv=5,\n",
       "             estimator=Pipeline(steps=[(&#x27;sc&#x27;, StandardScaler()),\n",
       "                                       (&#x27;rf&#x27;, RandomForestRegressor())]),\n",
       "             n_jobs=25,\n",
       "             param_grid=[{&#x27;rf__max_depth&#x27;: [85], &#x27;rf__max_features&#x27;: [10, 15],\n",
       "                          &#x27;rf__max_leaf_nodes&#x27;: [None],\n",
       "                          &#x27;rf__max_samples&#x27;: [None],\n",
       "                          &#x27;rf__n_estimators&#x27;: [200]}])</pre><b>In a Jupyter environment, please rerun this cell to show the HTML representation or trust the notebook. <br />On GitHub, the HTML representation is unable to render, please try loading this page with nbviewer.org.</b></div><div class=\"sk-container\" hidden><div class=\"sk-item sk-dashed-wrapped\"><div class=\"sk-label-container\"><div class=\"sk-label sk-toggleable\"><input class=\"sk-toggleable__control sk-hidden--visually\" id=\"sk-estimator-id-25\" type=\"checkbox\" ><label for=\"sk-estimator-id-25\" class=\"sk-toggleable__label sk-toggleable__label-arrow\">GridSearchCV</label><div class=\"sk-toggleable__content\"><pre>GridSearchCV(cv=5,\n",
       "             estimator=Pipeline(steps=[(&#x27;sc&#x27;, StandardScaler()),\n",
       "                                       (&#x27;rf&#x27;, RandomForestRegressor())]),\n",
       "             n_jobs=25,\n",
       "             param_grid=[{&#x27;rf__max_depth&#x27;: [85], &#x27;rf__max_features&#x27;: [10, 15],\n",
       "                          &#x27;rf__max_leaf_nodes&#x27;: [None],\n",
       "                          &#x27;rf__max_samples&#x27;: [None],\n",
       "                          &#x27;rf__n_estimators&#x27;: [200]}])</pre></div></div></div><div class=\"sk-parallel\"><div class=\"sk-parallel-item\"><div class=\"sk-item\"><div class=\"sk-label-container\"><div class=\"sk-label sk-toggleable\"><input class=\"sk-toggleable__control sk-hidden--visually\" id=\"sk-estimator-id-26\" type=\"checkbox\" ><label for=\"sk-estimator-id-26\" class=\"sk-toggleable__label sk-toggleable__label-arrow\">estimator: Pipeline</label><div class=\"sk-toggleable__content\"><pre>Pipeline(steps=[(&#x27;sc&#x27;, StandardScaler()), (&#x27;rf&#x27;, RandomForestRegressor())])</pre></div></div></div><div class=\"sk-serial\"><div class=\"sk-item\"><div class=\"sk-serial\"><div class=\"sk-item\"><div class=\"sk-estimator sk-toggleable\"><input class=\"sk-toggleable__control sk-hidden--visually\" id=\"sk-estimator-id-27\" type=\"checkbox\" ><label for=\"sk-estimator-id-27\" class=\"sk-toggleable__label sk-toggleable__label-arrow\">StandardScaler</label><div class=\"sk-toggleable__content\"><pre>StandardScaler()</pre></div></div></div><div class=\"sk-item\"><div class=\"sk-estimator sk-toggleable\"><input class=\"sk-toggleable__control sk-hidden--visually\" id=\"sk-estimator-id-28\" type=\"checkbox\" ><label for=\"sk-estimator-id-28\" class=\"sk-toggleable__label sk-toggleable__label-arrow\">RandomForestRegressor</label><div class=\"sk-toggleable__content\"><pre>RandomForestRegressor()</pre></div></div></div></div></div></div></div></div></div></div></div></div>"
      ],
      "text/plain": [
       "GridSearchCV(cv=5,\n",
       "             estimator=Pipeline(steps=[('sc', StandardScaler()),\n",
       "                                       ('rf', RandomForestRegressor())]),\n",
       "             n_jobs=25,\n",
       "             param_grid=[{'rf__max_depth': [85], 'rf__max_features': [10, 15],\n",
       "                          'rf__max_leaf_nodes': [None],\n",
       "                          'rf__max_samples': [None],\n",
       "                          'rf__n_estimators': [200]}])"
      ]
     },
     "execution_count": 127,
     "metadata": {},
     "output_type": "execute_result"
    }
   ],
   "source": [
    "%%time\n",
    "\n",
    "gs_rf = GridSearchCV(pipe_rf, pgrid_rf, cv=5, n_jobs=25)\n",
    "gs_rf.fit(X_train, y_train)"
   ]
  },
  {
   "cell_type": "code",
   "execution_count": 128,
   "id": "79682fe5-58bf-4f19-95fd-ea4340b58217",
   "metadata": {},
   "outputs": [],
   "source": [
    "preds_rf = gs_rf.predict(X_test)"
   ]
  },
  {
   "cell_type": "code",
   "execution_count": 129,
   "id": "d641f911-a1ba-461a-8662-2ee7bddff73c",
   "metadata": {},
   "outputs": [
    {
     "name": "stdout",
     "output_type": "stream",
     "text": [
      "------------- \u001b[1mRandom Forest w/ GridSearch\u001b[0m ------------\n",
      "------------------- Train: 0.9718 --------------------\n",
      "------------------- Test: 0.7929 ---------------------\n",
      "Best Params: {'rf__max_depth': 85, 'rf__max_features': 10, 'rf__max_leaf_nodes': None, 'rf__max_samples': None, 'rf__n_estimators': 200}\n"
     ]
    }
   ],
   "source": [
    "print(f'------------- {b1}Random Forest w/ GridSearch{b0} ------------')\n",
    "print(f'------------------- Train: {round(gs_rf.score(X_train, y_train),4)} --------------------')\n",
    "print(f'------------------- Test: {round(gs_rf.score(X_test, y_test),4)} ---------------------')\n",
    "print('Best Params:', gs_rf.best_params_)"
   ]
  },
  {
   "cell_type": "code",
   "execution_count": 137,
   "id": "e90e38b4-e98a-42c9-b38b-7a11ec265451",
   "metadata": {},
   "outputs": [],
   "source": [
    "best_estimator = gs_rf.best_estimator_\n"
   ]
  },
  {
   "cell_type": "code",
   "execution_count": 160,
   "id": "54b4381e-672a-454f-adf9-4d6b513ec343",
   "metadata": {},
   "outputs": [
    {
     "name": "stdout",
     "output_type": "stream",
     "text": [
      "['age' 'g' 'pg_gs' 'pg_mp' 'pg_fg' 'pg_fga' 'pg_fg%' 'pg_3p' 'pg_3pa'\n",
      " 'pg_3p%' 'pg_2p' 'pg_2pa' 'pg_2p%' 'pg_efg%' 'pg_ft' 'pg_fta' 'pg_ft%'\n",
      " 'pg_orb' 'pg_drb' 'pg_trb' 'pg_ast' 'pg_stl' 'pg_blk' 'pg_tov' 'pg_pf'\n",
      " 'pg_pts' 'tot_mp' 'tot_fg%' 'tot_3p' 'tot_3p%' 'tot_2p%' 'tot_efg%'\n",
      " 'tot_ft%' 'tot_pf' 'tot_pts' 'adv_per' 'adv_ts%' 'adv_3par' 'adv_ftr'\n",
      " 'adv_orb%' 'adv_drb%' 'adv_trb%' 'adv_ast%' 'adv_stl%' 'adv_blk%'\n",
      " 'adv_tov%' 'adv_usg%' 'adv_ows' 'adv_dws' 'adv_ws' 'adv_ws/48' 'adv_obpm'\n",
      " 'adv_dbpm' 'adv_bpm' 'adv_vorp' 'f' 'gu' 'w/l%' 'seed' 'all_star']\n",
      "[0.00345372 0.0030971  0.0027812  0.00619622 0.03036739 0.01116469\n",
      " 0.00377946 0.00220666 0.00265882 0.00322954 0.02612918 0.01121011\n",
      " 0.00428796 0.00485886 0.0100053  0.01301063 0.00606572 0.00286429\n",
      " 0.00742472 0.00524027 0.00863726 0.00362685 0.00295428 0.01597282\n",
      " 0.00344872 0.0327362  0.00513544 0.00417904 0.00313888 0.0035471\n",
      " 0.00400724 0.00432649 0.00513724 0.00446598 0.03905422 0.12487536\n",
      " 0.00442538 0.00340424 0.00437026 0.0034673  0.00489262 0.0043383\n",
      " 0.00712513 0.00354182 0.0032192  0.00516083 0.01690201 0.02583257\n",
      " 0.01311145 0.11601387 0.07261034 0.04270826 0.0075336  0.06597466\n",
      " 0.09141445 0.00034761 0.00017178 0.01961444 0.01747472 0.04107017]\n"
     ]
    }
   ],
   "source": [
    "# source: https://github.com/scikit-learn/scikit-learn/issues/21349, ChatGPT\n",
    "best_estimator = gs_rf.best_estimator_\n",
    "random_forest = best_estimator.named_steps['rf']\n",
    "feature_importances = random_forest.feature_importances_\n",
    "best_preprocessor = best_estimator.named_steps['sc']\n",
    "\n",
    "feature_names = best_preprocessor.get_feature_names_out()\n",
    "feature_names_list = list(feature_names)\n",
    "\n",
    "print(feature_names)\n",
    "print(feature_importances)"
   ]
  },
  {
   "cell_type": "code",
   "execution_count": 162,
   "id": "5b061792-abc9-43e2-b94a-e6925d1c2b99",
   "metadata": {},
   "outputs": [
    {
     "data": {
      "text/html": [
       "<div>\n",
       "<style scoped>\n",
       "    .dataframe tbody tr th:only-of-type {\n",
       "        vertical-align: middle;\n",
       "    }\n",
       "\n",
       "    .dataframe tbody tr th {\n",
       "        vertical-align: top;\n",
       "    }\n",
       "\n",
       "    .dataframe thead th {\n",
       "        text-align: right;\n",
       "    }\n",
       "</style>\n",
       "<table border=\"1\" class=\"dataframe\">\n",
       "  <thead>\n",
       "    <tr style=\"text-align: right;\">\n",
       "      <th></th>\n",
       "      <th>feature_names</th>\n",
       "      <th>feature_importance</th>\n",
       "    </tr>\n",
       "  </thead>\n",
       "  <tbody>\n",
       "    <tr>\n",
       "      <th>0</th>\n",
       "      <td>adv_per</td>\n",
       "      <td>0.124875</td>\n",
       "    </tr>\n",
       "    <tr>\n",
       "      <th>1</th>\n",
       "      <td>adv_ws</td>\n",
       "      <td>0.116014</td>\n",
       "    </tr>\n",
       "    <tr>\n",
       "      <th>2</th>\n",
       "      <td>adv_vorp</td>\n",
       "      <td>0.091414</td>\n",
       "    </tr>\n",
       "    <tr>\n",
       "      <th>3</th>\n",
       "      <td>adv_ws/48</td>\n",
       "      <td>0.072610</td>\n",
       "    </tr>\n",
       "    <tr>\n",
       "      <th>4</th>\n",
       "      <td>adv_bpm</td>\n",
       "      <td>0.065975</td>\n",
       "    </tr>\n",
       "    <tr>\n",
       "      <th>5</th>\n",
       "      <td>adv_obpm</td>\n",
       "      <td>0.042708</td>\n",
       "    </tr>\n",
       "    <tr>\n",
       "      <th>6</th>\n",
       "      <td>all_star</td>\n",
       "      <td>0.041070</td>\n",
       "    </tr>\n",
       "    <tr>\n",
       "      <th>7</th>\n",
       "      <td>tot_pts</td>\n",
       "      <td>0.039054</td>\n",
       "    </tr>\n",
       "    <tr>\n",
       "      <th>8</th>\n",
       "      <td>pg_pts</td>\n",
       "      <td>0.032736</td>\n",
       "    </tr>\n",
       "    <tr>\n",
       "      <th>9</th>\n",
       "      <td>pg_fg</td>\n",
       "      <td>0.030367</td>\n",
       "    </tr>\n",
       "    <tr>\n",
       "      <th>10</th>\n",
       "      <td>pg_2p</td>\n",
       "      <td>0.026129</td>\n",
       "    </tr>\n",
       "    <tr>\n",
       "      <th>11</th>\n",
       "      <td>adv_ows</td>\n",
       "      <td>0.025833</td>\n",
       "    </tr>\n",
       "    <tr>\n",
       "      <th>12</th>\n",
       "      <td>w/l%</td>\n",
       "      <td>0.019614</td>\n",
       "    </tr>\n",
       "    <tr>\n",
       "      <th>13</th>\n",
       "      <td>seed</td>\n",
       "      <td>0.017475</td>\n",
       "    </tr>\n",
       "    <tr>\n",
       "      <th>14</th>\n",
       "      <td>adv_usg%</td>\n",
       "      <td>0.016902</td>\n",
       "    </tr>\n",
       "    <tr>\n",
       "      <th>15</th>\n",
       "      <td>pg_tov</td>\n",
       "      <td>0.015973</td>\n",
       "    </tr>\n",
       "    <tr>\n",
       "      <th>16</th>\n",
       "      <td>adv_dws</td>\n",
       "      <td>0.013111</td>\n",
       "    </tr>\n",
       "    <tr>\n",
       "      <th>17</th>\n",
       "      <td>pg_fta</td>\n",
       "      <td>0.013011</td>\n",
       "    </tr>\n",
       "    <tr>\n",
       "      <th>18</th>\n",
       "      <td>pg_2pa</td>\n",
       "      <td>0.011210</td>\n",
       "    </tr>\n",
       "    <tr>\n",
       "      <th>19</th>\n",
       "      <td>pg_fga</td>\n",
       "      <td>0.011165</td>\n",
       "    </tr>\n",
       "    <tr>\n",
       "      <th>20</th>\n",
       "      <td>pg_ft</td>\n",
       "      <td>0.010005</td>\n",
       "    </tr>\n",
       "    <tr>\n",
       "      <th>21</th>\n",
       "      <td>pg_ast</td>\n",
       "      <td>0.008637</td>\n",
       "    </tr>\n",
       "    <tr>\n",
       "      <th>22</th>\n",
       "      <td>adv_dbpm</td>\n",
       "      <td>0.007534</td>\n",
       "    </tr>\n",
       "    <tr>\n",
       "      <th>23</th>\n",
       "      <td>pg_drb</td>\n",
       "      <td>0.007425</td>\n",
       "    </tr>\n",
       "    <tr>\n",
       "      <th>24</th>\n",
       "      <td>adv_ast%</td>\n",
       "      <td>0.007125</td>\n",
       "    </tr>\n",
       "    <tr>\n",
       "      <th>25</th>\n",
       "      <td>pg_mp</td>\n",
       "      <td>0.006196</td>\n",
       "    </tr>\n",
       "    <tr>\n",
       "      <th>26</th>\n",
       "      <td>pg_ft%</td>\n",
       "      <td>0.006066</td>\n",
       "    </tr>\n",
       "    <tr>\n",
       "      <th>27</th>\n",
       "      <td>pg_trb</td>\n",
       "      <td>0.005240</td>\n",
       "    </tr>\n",
       "    <tr>\n",
       "      <th>28</th>\n",
       "      <td>adv_tov%</td>\n",
       "      <td>0.005161</td>\n",
       "    </tr>\n",
       "    <tr>\n",
       "      <th>29</th>\n",
       "      <td>tot_ft%</td>\n",
       "      <td>0.005137</td>\n",
       "    </tr>\n",
       "  </tbody>\n",
       "</table>\n",
       "</div>"
      ],
      "text/plain": [
       "   feature_names  feature_importance\n",
       "0        adv_per            0.124875\n",
       "1         adv_ws            0.116014\n",
       "2       adv_vorp            0.091414\n",
       "3      adv_ws/48            0.072610\n",
       "4        adv_bpm            0.065975\n",
       "5       adv_obpm            0.042708\n",
       "6       all_star            0.041070\n",
       "7        tot_pts            0.039054\n",
       "8         pg_pts            0.032736\n",
       "9          pg_fg            0.030367\n",
       "10         pg_2p            0.026129\n",
       "11       adv_ows            0.025833\n",
       "12          w/l%            0.019614\n",
       "13          seed            0.017475\n",
       "14      adv_usg%            0.016902\n",
       "15        pg_tov            0.015973\n",
       "16       adv_dws            0.013111\n",
       "17        pg_fta            0.013011\n",
       "18        pg_2pa            0.011210\n",
       "19        pg_fga            0.011165\n",
       "20         pg_ft            0.010005\n",
       "21        pg_ast            0.008637\n",
       "22      adv_dbpm            0.007534\n",
       "23        pg_drb            0.007425\n",
       "24      adv_ast%            0.007125\n",
       "25         pg_mp            0.006196\n",
       "26        pg_ft%            0.006066\n",
       "27        pg_trb            0.005240\n",
       "28      adv_tov%            0.005161\n",
       "29       tot_ft%            0.005137"
      ]
     },
     "execution_count": 162,
     "metadata": {},
     "output_type": "execute_result"
    }
   ],
   "source": [
    "# Make df\n",
    "fi = pd.DataFrame({'feature_names':feature_names,\n",
    "                   'feature_importance': feature_importances})\n",
    "\n",
    "#Sort by creasing feature importance\n",
    "fi.sort_values(by=['feature_importance'], ascending=False,inplace=True)\n",
    "fi2 = fi.reset_index().drop(columns = ['index']).head(30)"
   ]
  },
  {
   "cell_type": "code",
   "execution_count": 179,
   "id": "fea1ea94-39e4-437e-b1c3-c4d2c9e3a181",
   "metadata": {},
   "outputs": [
    {
     "data": {
      "text/plain": [
       "Text(0, 0.5, 'Feature Names')"
      ]
     },
     "execution_count": 179,
     "metadata": {},
     "output_type": "execute_result"
    },
    {
     "data": {
      "image/png": "[encoded data removed]",
      "text/plain": [
       "<Figure size 1000x800 with 1 Axes>"
      ]
     },
     "metadata": {},
     "output_type": "display_data"
    }
   ],
   "source": [
    "#Sort the DataFrame by descending\n",
    "plt.figure(figsize=(10,8))\n",
    "sns.barplot(x=fi2['feature_importance'], y=fi2['feature_names'])\n",
    "plt.title('Random Forest Top 30 Feature Importances')\n",
    "plt.xlabel('Feature Importance')\n",
    "plt.ylabel('Feature Names');\n",
    "\n",
    "#plt.savefig('../images/Feature_Importances_RF.png', dpi=192, bbox_inches='tight'); #Added"
   ]
  },
  {
   "cell_type": "code",
   "execution_count": 292,
   "id": "751e7bd5-4e3f-43e0-92a1-20560abe116a",
   "metadata": {},
   "outputs": [],
   "source": [
    "feat_updates = ['adv_per', 'adv_ws', 'adv_vorp', 'adv_ws/48', 'adv_bpm', 'ad_obpm', 'all_star', 'tot_pts', 'pg_pts', 'pg_2p', 'adv_ows', 'w/l%', 'seed', 'adv_usg%', 'pg_tov', 'adv_dws', 'pg_fta', 'pg_2pa', 'pg_fga', 'pg_ft', 'pg_ast', 'adv_dbpm', 'pg_drb', 'adv_ast%', 'pg_mp', 'pg_ft%',\n",
    "               'pg_trb', 'adv_tov%', 'tot_ft%']"
   ]
  },
  {
   "cell_type": "code",
   "execution_count": null,
   "id": "eaf53675-fe36-4f9e-a53c-2bf057852bb7",
   "metadata": {},
   "outputs": [],
   "source": [
    "### "
   ]
  },
  {
   "cell_type": "code",
   "execution_count": 164,
   "id": "509ba64f-08cc-46ec-ad69-96c77a379431",
   "metadata": {},
   "outputs": [
    {
     "data": {
      "text/plain": [
       "{'memory': None,\n",
       " 'steps': [('sc', StandardScaler()), ('el', ElasticNet())],\n",
       " 'verbose': False,\n",
       " 'sc': StandardScaler(),\n",
       " 'el': ElasticNet(),\n",
       " 'sc__copy': True,\n",
       " 'sc__with_mean': True,\n",
       " 'sc__with_std': True,\n",
       " 'el__alpha': 1.0,\n",
       " 'el__copy_X': True,\n",
       " 'el__fit_intercept': True,\n",
       " 'el__l1_ratio': 0.5,\n",
       " 'el__max_iter': 1000,\n",
       " 'el__positive': False,\n",
       " 'el__precompute': False,\n",
       " 'el__random_state': None,\n",
       " 'el__selection': 'cyclic',\n",
       " 'el__tol': 0.0001,\n",
       " 'el__warm_start': False}"
      ]
     },
     "execution_count": 164,
     "metadata": {},
     "output_type": "execute_result"
    }
   ],
   "source": [
    "# Elastic Net\n",
    "pipe_el = Pipeline([\n",
    "    ('sc', StandardScaler()),\n",
    "    ('el', ElasticNet())\n",
    "])\n",
    "\n",
    "pipe_el.get_params()"
   ]
  },
  {
   "cell_type": "code",
   "execution_count": 173,
   "id": "a745def2-df9c-41ca-abaa-678fe9e798f0",
   "metadata": {},
   "outputs": [],
   "source": [
    "pgrid_el =[\n",
    "    {'el__alpha': np.linspace(0.001, 10, 10), \n",
    "     'el__l1_ratio': np.linspace(0.01, 1, 10),\n",
    "     'el__random_state': [1527]\n",
    "    } \n",
    "]"
   ]
  },
  {
   "cell_type": "code",
   "execution_count": 174,
   "id": "67c4a0ef-02fb-4ef5-adea-7e3b801461b8",
   "metadata": {},
   "outputs": [
    {
     "name": "stdout",
     "output_type": "stream",
     "text": [
      "CPU times: total: 688 ms\n",
      "Wall time: 2.58 s\n"
     ]
    },
    {
     "data": {
      "text/html": [
       "<style>#sk-container-id-9 {color: black;background-color: white;}#sk-container-id-9 pre{padding: 0;}#sk-container-id-9 div.sk-toggleable {background-color: white;}#sk-container-id-9 label.sk-toggleable__label {cursor: pointer;display: block;width: 100%;margin-bottom: 0;padding: 0.3em;box-sizing: border-box;text-align: center;}#sk-container-id-9 label.sk-toggleable__label-arrow:before {content: \"▸\";float: left;margin-right: 0.25em;color: #696969;}#sk-container-id-9 label.sk-toggleable__label-arrow:hover:before {color: black;}#sk-container-id-9 div.sk-estimator:hover label.sk-toggleable__label-arrow:before {color: black;}#sk-container-id-9 div.sk-toggleable__content {max-height: 0;max-width: 0;overflow: hidden;text-align: left;background-color: #f0f8ff;}#sk-container-id-9 div.sk-toggleable__content pre {margin: 0.2em;color: black;border-radius: 0.25em;background-color: #f0f8ff;}#sk-container-id-9 input.sk-toggleable__control:checked~div.sk-toggleable__content {max-height: 200px;max-width: 100%;overflow: auto;}#sk-container-id-9 input.sk-toggleable__control:checked~label.sk-toggleable__label-arrow:before {content: \"▾\";}#sk-container-id-9 div.sk-estimator input.sk-toggleable__control:checked~label.sk-toggleable__label {background-color: #d4ebff;}#sk-container-id-9 div.sk-label input.sk-toggleable__control:checked~label.sk-toggleable__label {background-color: #d4ebff;}#sk-container-id-9 input.sk-hidden--visually {border: 0;clip: rect(1px 1px 1px 1px);clip: rect(1px, 1px, 1px, 1px);height: 1px;margin: -1px;overflow: hidden;padding: 0;position: absolute;width: 1px;}#sk-container-id-9 div.sk-estimator {font-family: monospace;background-color: #f0f8ff;border: 1px dotted black;border-radius: 0.25em;box-sizing: border-box;margin-bottom: 0.5em;}#sk-container-id-9 div.sk-estimator:hover {background-color: #d4ebff;}#sk-container-id-9 div.sk-parallel-item::after {content: \"\";width: 100%;border-bottom: 1px solid gray;flex-grow: 1;}#sk-container-id-9 div.sk-label:hover label.sk-toggleable__label {background-color: #d4ebff;}#sk-container-id-9 div.sk-serial::before {content: \"\";position: absolute;border-left: 1px solid gray;box-sizing: border-box;top: 0;bottom: 0;left: 50%;z-index: 0;}#sk-container-id-9 div.sk-serial {display: flex;flex-direction: column;align-items: center;background-color: white;padding-right: 0.2em;padding-left: 0.2em;position: relative;}#sk-container-id-9 div.sk-item {position: relative;z-index: 1;}#sk-container-id-9 div.sk-parallel {display: flex;align-items: stretch;justify-content: center;background-color: white;position: relative;}#sk-container-id-9 div.sk-item::before, #sk-container-id-9 div.sk-parallel-item::before {content: \"\";position: absolute;border-left: 1px solid gray;box-sizing: border-box;top: 0;bottom: 0;left: 50%;z-index: -1;}#sk-container-id-9 div.sk-parallel-item {display: flex;flex-direction: column;z-index: 1;position: relative;background-color: white;}#sk-container-id-9 div.sk-parallel-item:first-child::after {align-self: flex-end;width: 50%;}#sk-container-id-9 div.sk-parallel-item:last-child::after {align-self: flex-start;width: 50%;}#sk-container-id-9 div.sk-parallel-item:only-child::after {width: 0;}#sk-container-id-9 div.sk-dashed-wrapped {border: 1px dashed gray;margin: 0 0.4em 0.5em 0.4em;box-sizing: border-box;padding-bottom: 0.4em;background-color: white;}#sk-container-id-9 div.sk-label label {font-family: monospace;font-weight: bold;display: inline-block;line-height: 1.2em;}#sk-container-id-9 div.sk-label-container {text-align: center;}#sk-container-id-9 div.sk-container {/* jupyter's `normalize.less` sets `[hidden] { display: none; }` but bootstrap.min.css set `[hidden] { display: none !important; }` so we also need the `!important` here to be able to override the default hidden behavior on the sphinx rendered scikit-learn.org. See: https://github.com/scikit-learn/scikit-learn/issues/21755 */display: inline-block !important;position: relative;}#sk-container-id-9 div.sk-text-repr-fallback {display: none;}</style><div id=\"sk-container-id-9\" class=\"sk-top-container\"><div class=\"sk-text-repr-fallback\"><pre>GridSearchCV(cv=5,\n",
       "             estimator=Pipeline(steps=[(&#x27;sc&#x27;, StandardScaler()),\n",
       "                                       (&#x27;el&#x27;, ElasticNet())]),\n",
       "             n_jobs=25,\n",
       "             param_grid=[{&#x27;el__alpha&#x27;: array([1.000e-03, 1.112e+00, 2.223e+00, 3.334e+00, 4.445e+00, 5.556e+00,\n",
       "       6.667e+00, 7.778e+00, 8.889e+00, 1.000e+01]),\n",
       "                          &#x27;el__l1_ratio&#x27;: array([0.01, 0.12, 0.23, 0.34, 0.45, 0.56, 0.67, 0.78, 0.89, 1.  ]),\n",
       "                          &#x27;el__random_state&#x27;: [1527]}])</pre><b>In a Jupyter environment, please rerun this cell to show the HTML representation or trust the notebook. <br />On GitHub, the HTML representation is unable to render, please try loading this page with nbviewer.org.</b></div><div class=\"sk-container\" hidden><div class=\"sk-item sk-dashed-wrapped\"><div class=\"sk-label-container\"><div class=\"sk-label sk-toggleable\"><input class=\"sk-toggleable__control sk-hidden--visually\" id=\"sk-estimator-id-32\" type=\"checkbox\" ><label for=\"sk-estimator-id-32\" class=\"sk-toggleable__label sk-toggleable__label-arrow\">GridSearchCV</label><div class=\"sk-toggleable__content\"><pre>GridSearchCV(cv=5,\n",
       "             estimator=Pipeline(steps=[(&#x27;sc&#x27;, StandardScaler()),\n",
       "                                       (&#x27;el&#x27;, ElasticNet())]),\n",
       "             n_jobs=25,\n",
       "             param_grid=[{&#x27;el__alpha&#x27;: array([1.000e-03, 1.112e+00, 2.223e+00, 3.334e+00, 4.445e+00, 5.556e+00,\n",
       "       6.667e+00, 7.778e+00, 8.889e+00, 1.000e+01]),\n",
       "                          &#x27;el__l1_ratio&#x27;: array([0.01, 0.12, 0.23, 0.34, 0.45, 0.56, 0.67, 0.78, 0.89, 1.  ]),\n",
       "                          &#x27;el__random_state&#x27;: [1527]}])</pre></div></div></div><div class=\"sk-parallel\"><div class=\"sk-parallel-item\"><div class=\"sk-item\"><div class=\"sk-label-container\"><div class=\"sk-label sk-toggleable\"><input class=\"sk-toggleable__control sk-hidden--visually\" id=\"sk-estimator-id-33\" type=\"checkbox\" ><label for=\"sk-estimator-id-33\" class=\"sk-toggleable__label sk-toggleable__label-arrow\">estimator: Pipeline</label><div class=\"sk-toggleable__content\"><pre>Pipeline(steps=[(&#x27;sc&#x27;, StandardScaler()), (&#x27;el&#x27;, ElasticNet())])</pre></div></div></div><div class=\"sk-serial\"><div class=\"sk-item\"><div class=\"sk-serial\"><div class=\"sk-item\"><div class=\"sk-estimator sk-toggleable\"><input class=\"sk-toggleable__control sk-hidden--visually\" id=\"sk-estimator-id-34\" type=\"checkbox\" ><label for=\"sk-estimator-id-34\" class=\"sk-toggleable__label sk-toggleable__label-arrow\">StandardScaler</label><div class=\"sk-toggleable__content\"><pre>StandardScaler()</pre></div></div></div><div class=\"sk-item\"><div class=\"sk-estimator sk-toggleable\"><input class=\"sk-toggleable__control sk-hidden--visually\" id=\"sk-estimator-id-35\" type=\"checkbox\" ><label for=\"sk-estimator-id-35\" class=\"sk-toggleable__label sk-toggleable__label-arrow\">ElasticNet</label><div class=\"sk-toggleable__content\"><pre>ElasticNet()</pre></div></div></div></div></div></div></div></div></div></div></div></div>"
      ],
      "text/plain": [
       "GridSearchCV(cv=5,\n",
       "             estimator=Pipeline(steps=[('sc', StandardScaler()),\n",
       "                                       ('el', ElasticNet())]),\n",
       "             n_jobs=25,\n",
       "             param_grid=[{'el__alpha': array([1.000e-03, 1.112e+00, 2.223e+00, 3.334e+00, 4.445e+00, 5.556e+00,\n",
       "       6.667e+00, 7.778e+00, 8.889e+00, 1.000e+01]),\n",
       "                          'el__l1_ratio': array([0.01, 0.12, 0.23, 0.34, 0.45, 0.56, 0.67, 0.78, 0.89, 1.  ]),\n",
       "                          'el__random_state': [1527]}])"
      ]
     },
     "execution_count": 174,
     "metadata": {},
     "output_type": "execute_result"
    }
   ],
   "source": [
    "%%time\n",
    "\n",
    "gs_el = GridSearchCV(pipe_el, pgrid_el, cv=5, n_jobs=25)\n",
    "gs_el.fit(X_train, y_train)"
   ]
  },
  {
   "cell_type": "code",
   "execution_count": 176,
   "id": "fc8905f1-84c6-409f-a6b4-33761f7b61ae",
   "metadata": {},
   "outputs": [],
   "source": [
    "preds_el = gs_el.predict(X_test)"
   ]
  },
  {
   "cell_type": "code",
   "execution_count": 178,
   "id": "7a413070-1c6a-4eac-9c86-41d766122feb",
   "metadata": {},
   "outputs": [
    {
     "name": "stdout",
     "output_type": "stream",
     "text": [
      "------------- \u001b[1mElastic Net w/ GridSearch\u001b[0m ------------\n",
      "------------------- Train: 0.6521 --------------------\n",
      "------------------- Test: 0.6334 ---------------------\n",
      "Best Params: {'el__alpha': 0.001, 'el__l1_ratio': 0.01, 'el__random_state': 1527}\n"
     ]
    }
   ],
   "source": [
    "print(f'------------- {b1}Elastic Net w/ GridSearch{b0} ------------')\n",
    "print(f'------------------- Train: {round(gs_el.score(X_train, y_train),4)} --------------------')\n",
    "print(f'------------------- Test: {round(gs_el.score(X_test, y_test),4)} ---------------------')\n",
    "print('Best Params:', gs_el.best_params_)"
   ]
  },
  {
   "cell_type": "code",
   "execution_count": 196,
   "id": "513bb59e-1f76-4e37-a46d-af8f583f4d69",
   "metadata": {},
   "outputs": [],
   "source": [
    "best_el = gs_el.best_estimator_\n",
    "feature_importances = best_el.named_steps['el'].coef_"
   ]
  },
  {
   "cell_type": "code",
   "execution_count": 199,
   "id": "c7665269-9426-4695-bcc6-50b4cab43d76",
   "metadata": {},
   "outputs": [],
   "source": [
    "feature_names = X_train.columns.tolist()"
   ]
  },
  {
   "cell_type": "code",
   "execution_count": 200,
   "id": "4d3ee4e3-aa3f-45fb-914a-1da4d043e5f2",
   "metadata": {},
   "outputs": [],
   "source": [
    "# Make df\n",
    "f1 = pd.DataFrame({'feature_names':feature_names,\n",
    "                   'feature_importance': feature_importances})\n",
    "\n",
    "#Sort by creasing feature importance\n",
    "f1.sort_values(by=['feature_importance'], ascending=False,inplace=True)\n",
    "f12 = df.reset_index().drop(columns = ['index']).head(30)"
   ]
  },
  {
   "cell_type": "code",
   "execution_count": 203,
   "id": "fffa856f-4b60-44b0-9e98-eab6dd8dd899",
   "metadata": {},
   "outputs": [
    {
     "data": {
      "image/png": "[encoded data removed]",
      "text/plain": [
       "<Figure size 1000x800 with 1 Axes>"
      ]
     },
     "metadata": {},
     "output_type": "display_data"
    }
   ],
   "source": [
    "#Sort the DataFrame by descending\n",
    "plt.figure(figsize=(10,8))\n",
    "sns.barplot(x=f12['feature_importance'], y=f12['feature_names'])\n",
    "plt.title('Elastic Net Top 30 Feature Importances')\n",
    "plt.xlabel('Feature Importance')\n",
    "plt.ylabel('Feature Names');\n",
    "\n",
    "#plt.savefig('../images/Feature_Importances_RF.png', dpi=192, bbox_inches='tight'); #Added"
   ]
  },
  {
   "cell_type": "code",
   "execution_count": null,
   "id": "fe13cab2-b213-48d4-af35-e70e3ed3314b",
   "metadata": {},
   "outputs": [],
   "source": []
  },
  {
   "cell_type": "code",
   "execution_count": 211,
   "id": "0d2c3919-9ca1-4582-9bd6-c964a8d6d45b",
   "metadata": {},
   "outputs": [
    {
     "data": {
      "text/plain": [
       "{'memory': None,\n",
       " 'steps': [('sc', StandardScaler()), ('et', ExtraTreesRegressor())],\n",
       " 'verbose': False,\n",
       " 'sc': StandardScaler(),\n",
       " 'et': ExtraTreesRegressor(),\n",
       " 'sc__copy': True,\n",
       " 'sc__with_mean': True,\n",
       " 'sc__with_std': True,\n",
       " 'et__bootstrap': False,\n",
       " 'et__ccp_alpha': 0.0,\n",
       " 'et__criterion': 'squared_error',\n",
       " 'et__max_depth': None,\n",
       " 'et__max_features': 1.0,\n",
       " 'et__max_leaf_nodes': None,\n",
       " 'et__max_samples': None,\n",
       " 'et__min_impurity_decrease': 0.0,\n",
       " 'et__min_samples_leaf': 1,\n",
       " 'et__min_samples_split': 2,\n",
       " 'et__min_weight_fraction_leaf': 0.0,\n",
       " 'et__n_estimators': 100,\n",
       " 'et__n_jobs': None,\n",
       " 'et__oob_score': False,\n",
       " 'et__random_state': None,\n",
       " 'et__verbose': 0,\n",
       " 'et__warm_start': False}"
      ]
     },
     "execution_count": 211,
     "metadata": {},
     "output_type": "execute_result"
    }
   ],
   "source": [
    "# EXTRA TREES\n",
    "pipe_et = Pipeline([\n",
    "    ('sc', StandardScaler()),\n",
    "    ('et', ExtraTreesRegressor())\n",
    "])\n",
    "\n",
    "pipe_et.get_params()"
   ]
  },
  {
   "cell_type": "code",
   "execution_count": 217,
   "id": "94af920e-4811-4510-9a51-e37f8bdce5a8",
   "metadata": {},
   "outputs": [],
   "source": [
    "pgrid_et =[\n",
    "    {\n",
    "    'et__n_estimators': [150, 175],\n",
    "    'et__max_depth': [10, 20],\n",
    "    'et__max_features': [4, 5, 6],\n",
    "    'et__random_state': [1527],\n",
    "    'et__min_samples_leaf': [1, 3, 5],\n",
    "    }\n",
    "]"
   ]
  },
  {
   "cell_type": "code",
   "execution_count": 222,
   "id": "fd1650de-08b4-405c-beac-5085387e0277",
   "metadata": {},
   "outputs": [
    {
     "name": "stdout",
     "output_type": "stream",
     "text": [
      "CPU times: total: 328 ms\n",
      "Wall time: 19.2 s\n"
     ]
    },
    {
     "data": {
      "text/html": [
       "<style>#sk-container-id-13 {color: black;background-color: white;}#sk-container-id-13 pre{padding: 0;}#sk-container-id-13 div.sk-toggleable {background-color: white;}#sk-container-id-13 label.sk-toggleable__label {cursor: pointer;display: block;width: 100%;margin-bottom: 0;padding: 0.3em;box-sizing: border-box;text-align: center;}#sk-container-id-13 label.sk-toggleable__label-arrow:before {content: \"▸\";float: left;margin-right: 0.25em;color: #696969;}#sk-container-id-13 label.sk-toggleable__label-arrow:hover:before {color: black;}#sk-container-id-13 div.sk-estimator:hover label.sk-toggleable__label-arrow:before {color: black;}#sk-container-id-13 div.sk-toggleable__content {max-height: 0;max-width: 0;overflow: hidden;text-align: left;background-color: #f0f8ff;}#sk-container-id-13 div.sk-toggleable__content pre {margin: 0.2em;color: black;border-radius: 0.25em;background-color: #f0f8ff;}#sk-container-id-13 input.sk-toggleable__control:checked~div.sk-toggleable__content {max-height: 200px;max-width: 100%;overflow: auto;}#sk-container-id-13 input.sk-toggleable__control:checked~label.sk-toggleable__label-arrow:before {content: \"▾\";}#sk-container-id-13 div.sk-estimator input.sk-toggleable__control:checked~label.sk-toggleable__label {background-color: #d4ebff;}#sk-container-id-13 div.sk-label input.sk-toggleable__control:checked~label.sk-toggleable__label {background-color: #d4ebff;}#sk-container-id-13 input.sk-hidden--visually {border: 0;clip: rect(1px 1px 1px 1px);clip: rect(1px, 1px, 1px, 1px);height: 1px;margin: -1px;overflow: hidden;padding: 0;position: absolute;width: 1px;}#sk-container-id-13 div.sk-estimator {font-family: monospace;background-color: #f0f8ff;border: 1px dotted black;border-radius: 0.25em;box-sizing: border-box;margin-bottom: 0.5em;}#sk-container-id-13 div.sk-estimator:hover {background-color: #d4ebff;}#sk-container-id-13 div.sk-parallel-item::after {content: \"\";width: 100%;border-bottom: 1px solid gray;flex-grow: 1;}#sk-container-id-13 div.sk-label:hover label.sk-toggleable__label {background-color: #d4ebff;}#sk-container-id-13 div.sk-serial::before {content: \"\";position: absolute;border-left: 1px solid gray;box-sizing: border-box;top: 0;bottom: 0;left: 50%;z-index: 0;}#sk-container-id-13 div.sk-serial {display: flex;flex-direction: column;align-items: center;background-color: white;padding-right: 0.2em;padding-left: 0.2em;position: relative;}#sk-container-id-13 div.sk-item {position: relative;z-index: 1;}#sk-container-id-13 div.sk-parallel {display: flex;align-items: stretch;justify-content: center;background-color: white;position: relative;}#sk-container-id-13 div.sk-item::before, #sk-container-id-13 div.sk-parallel-item::before {content: \"\";position: absolute;border-left: 1px solid gray;box-sizing: border-box;top: 0;bottom: 0;left: 50%;z-index: -1;}#sk-container-id-13 div.sk-parallel-item {display: flex;flex-direction: column;z-index: 1;position: relative;background-color: white;}#sk-container-id-13 div.sk-parallel-item:first-child::after {align-self: flex-end;width: 50%;}#sk-container-id-13 div.sk-parallel-item:last-child::after {align-self: flex-start;width: 50%;}#sk-container-id-13 div.sk-parallel-item:only-child::after {width: 0;}#sk-container-id-13 div.sk-dashed-wrapped {border: 1px dashed gray;margin: 0 0.4em 0.5em 0.4em;box-sizing: border-box;padding-bottom: 0.4em;background-color: white;}#sk-container-id-13 div.sk-label label {font-family: monospace;font-weight: bold;display: inline-block;line-height: 1.2em;}#sk-container-id-13 div.sk-label-container {text-align: center;}#sk-container-id-13 div.sk-container {/* jupyter's `normalize.less` sets `[hidden] { display: none; }` but bootstrap.min.css set `[hidden] { display: none !important; }` so we also need the `!important` here to be able to override the default hidden behavior on the sphinx rendered scikit-learn.org. See: https://github.com/scikit-learn/scikit-learn/issues/21755 */display: inline-block !important;position: relative;}#sk-container-id-13 div.sk-text-repr-fallback {display: none;}</style><div id=\"sk-container-id-13\" class=\"sk-top-container\"><div class=\"sk-text-repr-fallback\"><pre>GridSearchCV(cv=5,\n",
       "             estimator=Pipeline(steps=[(&#x27;sc&#x27;, StandardScaler()),\n",
       "                                       (&#x27;et&#x27;, ExtraTreesRegressor())]),\n",
       "             n_jobs=10,\n",
       "             param_grid=[{&#x27;et__max_depth&#x27;: [10, 20],\n",
       "                          &#x27;et__max_features&#x27;: [4, 5, 6],\n",
       "                          &#x27;et__min_samples_leaf&#x27;: [1, 3, 5],\n",
       "                          &#x27;et__n_estimators&#x27;: [150, 175],\n",
       "                          &#x27;et__random_state&#x27;: [1527]}],\n",
       "             scoring=&#x27;r2&#x27;)</pre><b>In a Jupyter environment, please rerun this cell to show the HTML representation or trust the notebook. <br />On GitHub, the HTML representation is unable to render, please try loading this page with nbviewer.org.</b></div><div class=\"sk-container\" hidden><div class=\"sk-item sk-dashed-wrapped\"><div class=\"sk-label-container\"><div class=\"sk-label sk-toggleable\"><input class=\"sk-toggleable__control sk-hidden--visually\" id=\"sk-estimator-id-48\" type=\"checkbox\" ><label for=\"sk-estimator-id-48\" class=\"sk-toggleable__label sk-toggleable__label-arrow\">GridSearchCV</label><div class=\"sk-toggleable__content\"><pre>GridSearchCV(cv=5,\n",
       "             estimator=Pipeline(steps=[(&#x27;sc&#x27;, StandardScaler()),\n",
       "                                       (&#x27;et&#x27;, ExtraTreesRegressor())]),\n",
       "             n_jobs=10,\n",
       "             param_grid=[{&#x27;et__max_depth&#x27;: [10, 20],\n",
       "                          &#x27;et__max_features&#x27;: [4, 5, 6],\n",
       "                          &#x27;et__min_samples_leaf&#x27;: [1, 3, 5],\n",
       "                          &#x27;et__n_estimators&#x27;: [150, 175],\n",
       "                          &#x27;et__random_state&#x27;: [1527]}],\n",
       "             scoring=&#x27;r2&#x27;)</pre></div></div></div><div class=\"sk-parallel\"><div class=\"sk-parallel-item\"><div class=\"sk-item\"><div class=\"sk-label-container\"><div class=\"sk-label sk-toggleable\"><input class=\"sk-toggleable__control sk-hidden--visually\" id=\"sk-estimator-id-49\" type=\"checkbox\" ><label for=\"sk-estimator-id-49\" class=\"sk-toggleable__label sk-toggleable__label-arrow\">estimator: Pipeline</label><div class=\"sk-toggleable__content\"><pre>Pipeline(steps=[(&#x27;sc&#x27;, StandardScaler()), (&#x27;et&#x27;, ExtraTreesRegressor())])</pre></div></div></div><div class=\"sk-serial\"><div class=\"sk-item\"><div class=\"sk-serial\"><div class=\"sk-item\"><div class=\"sk-estimator sk-toggleable\"><input class=\"sk-toggleable__control sk-hidden--visually\" id=\"sk-estimator-id-50\" type=\"checkbox\" ><label for=\"sk-estimator-id-50\" class=\"sk-toggleable__label sk-toggleable__label-arrow\">StandardScaler</label><div class=\"sk-toggleable__content\"><pre>StandardScaler()</pre></div></div></div><div class=\"sk-item\"><div class=\"sk-estimator sk-toggleable\"><input class=\"sk-toggleable__control sk-hidden--visually\" id=\"sk-estimator-id-51\" type=\"checkbox\" ><label for=\"sk-estimator-id-51\" class=\"sk-toggleable__label sk-toggleable__label-arrow\">ExtraTreesRegressor</label><div class=\"sk-toggleable__content\"><pre>ExtraTreesRegressor()</pre></div></div></div></div></div></div></div></div></div></div></div></div>"
      ],
      "text/plain": [
       "GridSearchCV(cv=5,\n",
       "             estimator=Pipeline(steps=[('sc', StandardScaler()),\n",
       "                                       ('et', ExtraTreesRegressor())]),\n",
       "             n_jobs=10,\n",
       "             param_grid=[{'et__max_depth': [10, 20],\n",
       "                          'et__max_features': [4, 5, 6],\n",
       "                          'et__min_samples_leaf': [1, 3, 5],\n",
       "                          'et__n_estimators': [150, 175],\n",
       "                          'et__random_state': [1527]}],\n",
       "             scoring='r2')"
      ]
     },
     "execution_count": 222,
     "metadata": {},
     "output_type": "execute_result"
    }
   ],
   "source": [
    "%%time\n",
    "\n",
    "gs_et = GridSearchCV(pipe_et, pgrid_et, cv=5, scoring = 'r2', n_jobs=10)\n",
    "gs_et.fit(X_train, y_train)"
   ]
  },
  {
   "cell_type": "code",
   "execution_count": 223,
   "id": "9984631c-23a2-46dd-9d19-7578291237da",
   "metadata": {},
   "outputs": [],
   "source": [
    "# Make predictions for Accuracy Report\n",
    "preds_et = gs_et.predict(X_test)"
   ]
  },
  {
   "cell_type": "code",
   "execution_count": 224,
   "id": "4410318a-3a27-4ba7-ae3d-ad77f6d795ea",
   "metadata": {},
   "outputs": [
    {
     "name": "stdout",
     "output_type": "stream",
     "text": [
      "------------- \u001b[1mExtra Trees w/ GridSearch\u001b[0m -------------\n",
      "------------------- Train: 0.9388 -------------------\n",
      "------------------- Test: 0.8033 --------------------\n",
      "Best Params: {'et__max_depth': 10, 'et__max_features': 6, 'et__min_samples_leaf': 1, 'et__n_estimators': 175, 'et__random_state': 1527}\n"
     ]
    }
   ],
   "source": [
    "print(f'------------- {b1}Extra Trees w/ GridSearch{b0} -------------')\n",
    "print(f'------------------- Train: {round(gs_et.score(X_train, y_train),4)} -------------------')\n",
    "print(f'------------------- Test: {round(gs_et.score(X_test, y_test),4)} --------------------')\n",
    "print('Best Params:', gs_et.best_params_)"
   ]
  },
  {
   "cell_type": "code",
   "execution_count": 225,
   "id": "3dde838b-aaac-4457-9745-c1d2bfe60cc6",
   "metadata": {},
   "outputs": [
    {
     "data": {
      "text/plain": [
       "0.2767207287544757"
      ]
     },
     "execution_count": 225,
     "metadata": {},
     "output_type": "execute_result"
    }
   ],
   "source": [
    "gs_et.best_score_"
   ]
  },
  {
   "cell_type": "code",
   "execution_count": null,
   "id": "2907a00f-0faa-4e49-8e97-b01ba3dd1284",
   "metadata": {},
   "outputs": [],
   "source": []
  },
  {
   "cell_type": "code",
   "execution_count": null,
   "id": "efadf292-107f-49ea-bdc2-1299aa073fd5",
   "metadata": {},
   "outputs": [],
   "source": []
  },
  {
   "cell_type": "code",
   "execution_count": null,
   "id": "682da5d9-23ea-4a65-bc95-af12c68c7c83",
   "metadata": {},
   "outputs": [],
   "source": []
  },
  {
   "cell_type": "code",
   "execution_count": null,
   "id": "d29e1b74-3d30-4c2c-9ad1-b34513f7ede5",
   "metadata": {},
   "outputs": [],
   "source": []
  },
  {
   "cell_type": "code",
   "execution_count": null,
   "id": "baf38f20-4160-48dc-a0ba-0b9f02ca7598",
   "metadata": {},
   "outputs": [],
   "source": []
  },
  {
   "cell_type": "code",
   "execution_count": null,
   "id": "acff07c6-00e8-4017-9c86-fb41cb710e33",
   "metadata": {},
   "outputs": [],
   "source": []
  },
  {
   "cell_type": "code",
   "execution_count": null,
   "id": "b7bd3350-e2fa-4824-846b-7caeb4ecb828",
   "metadata": {},
   "outputs": [],
   "source": []
  },
  {
   "cell_type": "code",
   "execution_count": 296,
   "id": "ac0d854a-f0af-470c-ad18-b21a24fe7438",
   "metadata": {},
   "outputs": [],
   "source": [
    "#feat_updates = ['adv_per', 'adv_ws', 'adv_vorp', 'adv_ws/48', 'adv_bpm', 'adv_obpm', 'all_star', 'tot_pts', 'pg_pts', 'pg_2p', 'adv_ows', 'w/l%', 'seed', 'adv_usg%', 'pg_tov', \n",
    "#                'adv_dws', 'pg_fta', 'pg_2pa', 'pg_fga', 'pg_ft', 'pg_ast', 'adv_dbpm', 'pg_drb', 'adv_ast%', 'pg_mp', 'pg_ft%','pg_trb', 'adv_tov%', 'tot_ft%']"
   ]
  },
  {
   "cell_type": "code",
   "execution_count": 7,
   "id": "6bfbbdf9-ba89-4a3f-8514-134df44aa1ac",
   "metadata": {},
   "outputs": [],
   "source": [
    "feat_updates = ['g', 'pg_gs', 'pg_mp', 'adv_per', 'adv_ws', 'adv_vorp', 'adv_ws/48', 'adv_bpm', 'adv_obpm', 'all_star', 'tot_pts', 'pg_pts', 'pg_2p', 'adv_ts%', 'adv_ows', 'w/l%', 'seed', 'adv_usg%', 'f', 'gu']"
   ]
  },
  {
   "cell_type": "code",
   "execution_count": 8,
   "id": "bd819dd9-0a61-4d4b-a3be-7bcadded5242",
   "metadata": {},
   "outputs": [
    {
     "name": "stdout",
     "output_type": "stream",
     "text": [
      "Train: X: (3554, 20), y: (3554,)\n",
      "Test: X: (520, 20), y: (520,)\n",
      "Hold: X: (303, 20), y: (303,)\n"
     ]
    }
   ],
   "source": [
    "X_train = df[feat_updates].loc[df.year.isin(train_yrs)].reset_index(drop=True)\n",
    "X_test = df[feat_updates].loc[df.year.isin(test_yrs)].reset_index(drop=True)\n",
    "\n",
    "y_train = df['share'].loc[df.year.isin(train_yrs)]\n",
    "y_test = df['share'].loc[df.year.isin(test_yrs)]\n",
    "\n",
    "X_hold = df[feat_updates].loc[df.year.isin(hold_yrs)].reset_index(drop=True)\n",
    "y_hold = df['share'].loc[df.year.isin(hold_yrs)]\n",
    "\n",
    "print(f'Train: X: {X_train.shape}, y: {y_train.shape}')\n",
    "print(f'Test: X: {X_test.shape}, y: {y_test.shape}')\n",
    "print(f'Hold: X: {X_hold.shape}, y: {y_hold.shape}')"
   ]
  },
  {
   "cell_type": "code",
   "execution_count": 9,
   "id": "694f1aca-be1f-4394-b1dc-0558c8a01897",
   "metadata": {},
   "outputs": [
    {
     "data": {
      "text/plain": [
       "{'memory': None,\n",
       " 'steps': [('sc', StandardScaler()), ('svr', SVR())],\n",
       " 'verbose': False,\n",
       " 'sc': StandardScaler(),\n",
       " 'svr': SVR(),\n",
       " 'sc__copy': True,\n",
       " 'sc__with_mean': True,\n",
       " 'sc__with_std': True,\n",
       " 'svr__C': 1.0,\n",
       " 'svr__cache_size': 200,\n",
       " 'svr__coef0': 0.0,\n",
       " 'svr__degree': 3,\n",
       " 'svr__epsilon': 0.1,\n",
       " 'svr__gamma': 'scale',\n",
       " 'svr__kernel': 'rbf',\n",
       " 'svr__max_iter': -1,\n",
       " 'svr__shrinking': True,\n",
       " 'svr__tol': 0.001,\n",
       " 'svr__verbose': False}"
      ]
     },
     "execution_count": 9,
     "metadata": {},
     "output_type": "execute_result"
    }
   ],
   "source": [
    "pipe_svr = Pipeline([\n",
    "    ('sc', StandardScaler()),\n",
    "    ('svr', SVR())\n",
    "])\n",
    "\n",
    "pipe_svr.get_params()"
   ]
  },
  {
   "cell_type": "code",
   "execution_count": 10,
   "id": "437ebd0d-1d7c-4b40-81f6-7d15af3afb64",
   "metadata": {},
   "outputs": [],
   "source": [
    "pgrid_svr =[\n",
    "    {\n",
    "     'svr__C': np.linspace(0.0001, 2, 10),\n",
    "     'svr__kernel': ['rbf'], #poly, 'linear'],\n",
    "     'svr__degree': [2, 3, 4],\n",
    "     'svr__gamma': ['scale','auto'],\n",
    "     'svr__epsilon': [0.1, 0.5, 1]\n",
    "    }\n",
    "]"
   ]
  },
  {
   "cell_type": "code",
   "execution_count": 11,
   "id": "75d6ae4a-fa4e-4320-abb9-e41ac9de221c",
   "metadata": {},
   "outputs": [
    {
     "name": "stdout",
     "output_type": "stream",
     "text": [
      "CPU times: total: 4.3 s\n",
      "Wall time: 20.1 s\n"
     ]
    },
    {
     "data": {
      "text/html": [
       "<style>#sk-container-id-1 {color: black;background-color: white;}#sk-container-id-1 pre{padding: 0;}#sk-container-id-1 div.sk-toggleable {background-color: white;}#sk-container-id-1 label.sk-toggleable__label {cursor: pointer;display: block;width: 100%;margin-bottom: 0;padding: 0.3em;box-sizing: border-box;text-align: center;}#sk-container-id-1 label.sk-toggleable__label-arrow:before {content: \"▸\";float: left;margin-right: 0.25em;color: #696969;}#sk-container-id-1 label.sk-toggleable__label-arrow:hover:before {color: black;}#sk-container-id-1 div.sk-estimator:hover label.sk-toggleable__label-arrow:before {color: black;}#sk-container-id-1 div.sk-toggleable__content {max-height: 0;max-width: 0;overflow: hidden;text-align: left;background-color: #f0f8ff;}#sk-container-id-1 div.sk-toggleable__content pre {margin: 0.2em;color: black;border-radius: 0.25em;background-color: #f0f8ff;}#sk-container-id-1 input.sk-toggleable__control:checked~div.sk-toggleable__content {max-height: 200px;max-width: 100%;overflow: auto;}#sk-container-id-1 input.sk-toggleable__control:checked~label.sk-toggleable__label-arrow:before {content: \"▾\";}#sk-container-id-1 div.sk-estimator input.sk-toggleable__control:checked~label.sk-toggleable__label {background-color: #d4ebff;}#sk-container-id-1 div.sk-label input.sk-toggleable__control:checked~label.sk-toggleable__label {background-color: #d4ebff;}#sk-container-id-1 input.sk-hidden--visually {border: 0;clip: rect(1px 1px 1px 1px);clip: rect(1px, 1px, 1px, 1px);height: 1px;margin: -1px;overflow: hidden;padding: 0;position: absolute;width: 1px;}#sk-container-id-1 div.sk-estimator {font-family: monospace;background-color: #f0f8ff;border: 1px dotted black;border-radius: 0.25em;box-sizing: border-box;margin-bottom: 0.5em;}#sk-container-id-1 div.sk-estimator:hover {background-color: #d4ebff;}#sk-container-id-1 div.sk-parallel-item::after {content: \"\";width: 100%;border-bottom: 1px solid gray;flex-grow: 1;}#sk-container-id-1 div.sk-label:hover label.sk-toggleable__label {background-color: #d4ebff;}#sk-container-id-1 div.sk-serial::before {content: \"\";position: absolute;border-left: 1px solid gray;box-sizing: border-box;top: 0;bottom: 0;left: 50%;z-index: 0;}#sk-container-id-1 div.sk-serial {display: flex;flex-direction: column;align-items: center;background-color: white;padding-right: 0.2em;padding-left: 0.2em;position: relative;}#sk-container-id-1 div.sk-item {position: relative;z-index: 1;}#sk-container-id-1 div.sk-parallel {display: flex;align-items: stretch;justify-content: center;background-color: white;position: relative;}#sk-container-id-1 div.sk-item::before, #sk-container-id-1 div.sk-parallel-item::before {content: \"\";position: absolute;border-left: 1px solid gray;box-sizing: border-box;top: 0;bottom: 0;left: 50%;z-index: -1;}#sk-container-id-1 div.sk-parallel-item {display: flex;flex-direction: column;z-index: 1;position: relative;background-color: white;}#sk-container-id-1 div.sk-parallel-item:first-child::after {align-self: flex-end;width: 50%;}#sk-container-id-1 div.sk-parallel-item:last-child::after {align-self: flex-start;width: 50%;}#sk-container-id-1 div.sk-parallel-item:only-child::after {width: 0;}#sk-container-id-1 div.sk-dashed-wrapped {border: 1px dashed gray;margin: 0 0.4em 0.5em 0.4em;box-sizing: border-box;padding-bottom: 0.4em;background-color: white;}#sk-container-id-1 div.sk-label label {font-family: monospace;font-weight: bold;display: inline-block;line-height: 1.2em;}#sk-container-id-1 div.sk-label-container {text-align: center;}#sk-container-id-1 div.sk-container {/* jupyter's `normalize.less` sets `[hidden] { display: none; }` but bootstrap.min.css set `[hidden] { display: none !important; }` so we also need the `!important` here to be able to override the default hidden behavior on the sphinx rendered scikit-learn.org. See: https://github.com/scikit-learn/scikit-learn/issues/21755 */display: inline-block !important;position: relative;}#sk-container-id-1 div.sk-text-repr-fallback {display: none;}</style><div id=\"sk-container-id-1\" class=\"sk-top-container\"><div class=\"sk-text-repr-fallback\"><pre>GridSearchCV(estimator=Pipeline(steps=[(&#x27;sc&#x27;, StandardScaler()),\n",
       "                                       (&#x27;svr&#x27;, SVR())]),\n",
       "             n_jobs=25,\n",
       "             param_grid=[{&#x27;svr__C&#x27;: array([1.00000000e-04, 2.22311111e-01, 4.44522222e-01, 6.66733333e-01,\n",
       "       8.88944444e-01, 1.11115556e+00, 1.33336667e+00, 1.55557778e+00,\n",
       "       1.77778889e+00, 2.00000000e+00]),\n",
       "                          &#x27;svr__degree&#x27;: [2, 3, 4],\n",
       "                          &#x27;svr__epsilon&#x27;: [0.1, 0.5, 1],\n",
       "                          &#x27;svr__gamma&#x27;: [&#x27;scale&#x27;, &#x27;auto&#x27;],\n",
       "                          &#x27;svr__kernel&#x27;: [&#x27;rbf&#x27;]}])</pre><b>In a Jupyter environment, please rerun this cell to show the HTML representation or trust the notebook. <br />On GitHub, the HTML representation is unable to render, please try loading this page with nbviewer.org.</b></div><div class=\"sk-container\" hidden><div class=\"sk-item sk-dashed-wrapped\"><div class=\"sk-label-container\"><div class=\"sk-label sk-toggleable\"><input class=\"sk-toggleable__control sk-hidden--visually\" id=\"sk-estimator-id-1\" type=\"checkbox\" ><label for=\"sk-estimator-id-1\" class=\"sk-toggleable__label sk-toggleable__label-arrow\">GridSearchCV</label><div class=\"sk-toggleable__content\"><pre>GridSearchCV(estimator=Pipeline(steps=[(&#x27;sc&#x27;, StandardScaler()),\n",
       "                                       (&#x27;svr&#x27;, SVR())]),\n",
       "             n_jobs=25,\n",
       "             param_grid=[{&#x27;svr__C&#x27;: array([1.00000000e-04, 2.22311111e-01, 4.44522222e-01, 6.66733333e-01,\n",
       "       8.88944444e-01, 1.11115556e+00, 1.33336667e+00, 1.55557778e+00,\n",
       "       1.77778889e+00, 2.00000000e+00]),\n",
       "                          &#x27;svr__degree&#x27;: [2, 3, 4],\n",
       "                          &#x27;svr__epsilon&#x27;: [0.1, 0.5, 1],\n",
       "                          &#x27;svr__gamma&#x27;: [&#x27;scale&#x27;, &#x27;auto&#x27;],\n",
       "                          &#x27;svr__kernel&#x27;: [&#x27;rbf&#x27;]}])</pre></div></div></div><div class=\"sk-parallel\"><div class=\"sk-parallel-item\"><div class=\"sk-item\"><div class=\"sk-label-container\"><div class=\"sk-label sk-toggleable\"><input class=\"sk-toggleable__control sk-hidden--visually\" id=\"sk-estimator-id-2\" type=\"checkbox\" ><label for=\"sk-estimator-id-2\" class=\"sk-toggleable__label sk-toggleable__label-arrow\">estimator: Pipeline</label><div class=\"sk-toggleable__content\"><pre>Pipeline(steps=[(&#x27;sc&#x27;, StandardScaler()), (&#x27;svr&#x27;, SVR())])</pre></div></div></div><div class=\"sk-serial\"><div class=\"sk-item\"><div class=\"sk-serial\"><div class=\"sk-item\"><div class=\"sk-estimator sk-toggleable\"><input class=\"sk-toggleable__control sk-hidden--visually\" id=\"sk-estimator-id-3\" type=\"checkbox\" ><label for=\"sk-estimator-id-3\" class=\"sk-toggleable__label sk-toggleable__label-arrow\">StandardScaler</label><div class=\"sk-toggleable__content\"><pre>StandardScaler()</pre></div></div></div><div class=\"sk-item\"><div class=\"sk-estimator sk-toggleable\"><input class=\"sk-toggleable__control sk-hidden--visually\" id=\"sk-estimator-id-4\" type=\"checkbox\" ><label for=\"sk-estimator-id-4\" class=\"sk-toggleable__label sk-toggleable__label-arrow\">SVR</label><div class=\"sk-toggleable__content\"><pre>SVR()</pre></div></div></div></div></div></div></div></div></div></div></div></div>"
      ],
      "text/plain": [
       "GridSearchCV(estimator=Pipeline(steps=[('sc', StandardScaler()),\n",
       "                                       ('svr', SVR())]),\n",
       "             n_jobs=25,\n",
       "             param_grid=[{'svr__C': array([1.00000000e-04, 2.22311111e-01, 4.44522222e-01, 6.66733333e-01,\n",
       "       8.88944444e-01, 1.11115556e+00, 1.33336667e+00, 1.55557778e+00,\n",
       "       1.77778889e+00, 2.00000000e+00]),\n",
       "                          'svr__degree': [2, 3, 4],\n",
       "                          'svr__epsilon': [0.1, 0.5, 1],\n",
       "                          'svr__gamma': ['scale', 'auto'],\n",
       "                          'svr__kernel': ['rbf']}])"
      ]
     },
     "execution_count": 11,
     "metadata": {},
     "output_type": "execute_result"
    }
   ],
   "source": [
    "%%time\n",
    "\n",
    "gs_svr = GridSearchCV(pipe_svr, pgrid_svr, n_jobs=25)\n",
    "gs_svr.fit(X_train, y_train)"
   ]
  },
  {
   "cell_type": "code",
   "execution_count": 12,
   "id": "26d9146f-6882-4ddd-9d48-79e9c5bec3b6",
   "metadata": {},
   "outputs": [],
   "source": [
    "# Make predictions\n",
    "preds_svr = gs_svr.predict(X_test)"
   ]
  },
  {
   "cell_type": "code",
   "execution_count": 15,
   "id": "b8ec9eb7-8057-4054-a826-046ba9fbbe9c",
   "metadata": {},
   "outputs": [
    {
     "name": "stdout",
     "output_type": "stream",
     "text": [
      "----------------- \u001b[1mSVR w/ GridSearch\u001b[0m ----------------\n",
      "------------------ Train: 0.8078 -------------------\n",
      "------------------- Test: 0.809 -------------------\n",
      "Best Params: {'svr__C': 0.2223111111111111, 'svr__degree': 2, 'svr__epsilon': 0.1, 'svr__gamma': 'scale', 'svr__kernel': 'rbf'}\n"
     ]
    }
   ],
   "source": [
    "print(f'----------------- {b1}SVR w/ GridSearch{b0} ----------------')\n",
    "print(f'------------------ Train: {round(gs_svr.score(X_train, y_train),4)} -------------------')\n",
    "print(f'------------------- Test: {round(gs_svr.score(X_test, y_test),4)} -------------------')\n",
    "print('Best Params:', gs_svr.best_params_)"
   ]
  },
  {
   "cell_type": "code",
   "execution_count": 16,
   "id": "98c64587-dc91-42b1-927e-de8ddc8d3d0b",
   "metadata": {},
   "outputs": [
    {
     "data": {
      "text/plain": [
       "0.008330220863588972"
      ]
     },
     "execution_count": 16,
     "metadata": {},
     "output_type": "execute_result"
    }
   ],
   "source": [
    "mean_squared_error(y_test, preds_svr)"
   ]
  },
  {
   "cell_type": "code",
   "execution_count": null,
   "id": "06782cf8-ac46-46b9-b952-01f4687b6825",
   "metadata": {},
   "outputs": [],
   "source": []
  },
  {
   "cell_type": "code",
   "execution_count": null,
   "id": "381acca6-a3c1-4775-a95d-27c32518655c",
   "metadata": {},
   "outputs": [],
   "source": []
  },
  {
   "cell_type": "code",
   "execution_count": null,
   "id": "0acd3d98-43a0-49df-b781-adc86b185a14",
   "metadata": {},
   "outputs": [],
   "source": []
  },
  {
   "cell_type": "code",
   "execution_count": null,
   "id": "c06dd594-7a76-416f-97b2-841e521200c5",
   "metadata": {},
   "outputs": [],
   "source": []
  },
  {
   "cell_type": "code",
   "execution_count": null,
   "id": "03c0dcb1-8fda-4a70-acd2-e7e2aef3b460",
   "metadata": {},
   "outputs": [],
   "source": []
  },
  {
   "cell_type": "code",
   "execution_count": 569,
   "id": "6ee54b3c-f45e-4867-b923-2dd4573c6342",
   "metadata": {},
   "outputs": [
    {
     "data": {
      "text/plain": [
       "{'memory': None,\n",
       " 'steps': [('sc', StandardScaler()), ('rf', RandomForestRegressor())],\n",
       " 'verbose': False,\n",
       " 'sc': StandardScaler(),\n",
       " 'rf': RandomForestRegressor(),\n",
       " 'sc__copy': True,\n",
       " 'sc__with_mean': True,\n",
       " 'sc__with_std': True,\n",
       " 'rf__bootstrap': True,\n",
       " 'rf__ccp_alpha': 0.0,\n",
       " 'rf__criterion': 'squared_error',\n",
       " 'rf__max_depth': None,\n",
       " 'rf__max_features': 1.0,\n",
       " 'rf__max_leaf_nodes': None,\n",
       " 'rf__max_samples': None,\n",
       " 'rf__min_impurity_decrease': 0.0,\n",
       " 'rf__min_samples_leaf': 1,\n",
       " 'rf__min_samples_split': 2,\n",
       " 'rf__min_weight_fraction_leaf': 0.0,\n",
       " 'rf__n_estimators': 100,\n",
       " 'rf__n_jobs': None,\n",
       " 'rf__oob_score': False,\n",
       " 'rf__random_state': None,\n",
       " 'rf__verbose': 0,\n",
       " 'rf__warm_start': False}"
      ]
     },
     "execution_count": 569,
     "metadata": {},
     "output_type": "execute_result"
    }
   ],
   "source": [
    "# RANDOM FOREST\n",
    "pipe_rf = Pipeline([\n",
    "    ('sc', StandardScaler()),\n",
    "    ('rf', RandomForestRegressor())\n",
    "])\n",
    "\n",
    "pipe_rf.get_params()"
   ]
  },
  {
   "cell_type": "code",
   "execution_count": 559,
   "id": "4f6a2b22-271d-49ae-b7fe-c27102a54e30",
   "metadata": {},
   "outputs": [],
   "source": [
    "pgrid_rf =[\n",
    "    {'rf__n_estimators': [85],\n",
    "     'rf__max_depth': np.arange(20, 80, 10),\n",
    "     'rf__max_features': [3,5,7],\n",
    "     'rf__max_leaf_nodes': [75, 100],\n",
    "     'rf__max_samples': [None]\n",
    "    } \n",
    "]\n",
    "# Best Params: {'rf__max_depth': 85, 'rf__max_features': 5, 'rf__max_leaf_nodes': None, 'rf__max_samples': None, 'rf__n_estimators': 200}"
   ]
  },
  {
   "cell_type": "raw",
   "id": "ae1eea2a-40fc-434d-a0eb-ecb3437179dd",
   "metadata": {},
   "source": [
    "pgrid_rf =[\n",
    "    {'rf__n_estimators': [200],\n",
    "     'rf__max_depth': [85],\n",
    "     'rf__max_features': [10,15],\n",
    "     'rf__max_leaf_nodes': [None],\n",
    "     'rf__max_samples': [None]\n",
    "    } \n",
    "]"
   ]
  },
  {
   "cell_type": "code",
   "execution_count": 560,
   "id": "42d833b7-bb5b-4438-92a7-7b48d3f743ec",
   "metadata": {},
   "outputs": [
    {
     "name": "stdout",
     "output_type": "stream",
     "text": [
      "CPU times: total: 328 ms\n",
      "Wall time: 9.07 s\n"
     ]
    },
    {
     "data": {
      "text/html": [
       "<style>#sk-container-id-62 {color: black;background-color: white;}#sk-container-id-62 pre{padding: 0;}#sk-container-id-62 div.sk-toggleable {background-color: white;}#sk-container-id-62 label.sk-toggleable__label {cursor: pointer;display: block;width: 100%;margin-bottom: 0;padding: 0.3em;box-sizing: border-box;text-align: center;}#sk-container-id-62 label.sk-toggleable__label-arrow:before {content: \"▸\";float: left;margin-right: 0.25em;color: #696969;}#sk-container-id-62 label.sk-toggleable__label-arrow:hover:before {color: black;}#sk-container-id-62 div.sk-estimator:hover label.sk-toggleable__label-arrow:before {color: black;}#sk-container-id-62 div.sk-toggleable__content {max-height: 0;max-width: 0;overflow: hidden;text-align: left;background-color: #f0f8ff;}#sk-container-id-62 div.sk-toggleable__content pre {margin: 0.2em;color: black;border-radius: 0.25em;background-color: #f0f8ff;}#sk-container-id-62 input.sk-toggleable__control:checked~div.sk-toggleable__content {max-height: 200px;max-width: 100%;overflow: auto;}#sk-container-id-62 input.sk-toggleable__control:checked~label.sk-toggleable__label-arrow:before {content: \"▾\";}#sk-container-id-62 div.sk-estimator input.sk-toggleable__control:checked~label.sk-toggleable__label {background-color: #d4ebff;}#sk-container-id-62 div.sk-label input.sk-toggleable__control:checked~label.sk-toggleable__label {background-color: #d4ebff;}#sk-container-id-62 input.sk-hidden--visually {border: 0;clip: rect(1px 1px 1px 1px);clip: rect(1px, 1px, 1px, 1px);height: 1px;margin: -1px;overflow: hidden;padding: 0;position: absolute;width: 1px;}#sk-container-id-62 div.sk-estimator {font-family: monospace;background-color: #f0f8ff;border: 1px dotted black;border-radius: 0.25em;box-sizing: border-box;margin-bottom: 0.5em;}#sk-container-id-62 div.sk-estimator:hover {background-color: #d4ebff;}#sk-container-id-62 div.sk-parallel-item::after {content: \"\";width: 100%;border-bottom: 1px solid gray;flex-grow: 1;}#sk-container-id-62 div.sk-label:hover label.sk-toggleable__label {background-color: #d4ebff;}#sk-container-id-62 div.sk-serial::before {content: \"\";position: absolute;border-left: 1px solid gray;box-sizing: border-box;top: 0;bottom: 0;left: 50%;z-index: 0;}#sk-container-id-62 div.sk-serial {display: flex;flex-direction: column;align-items: center;background-color: white;padding-right: 0.2em;padding-left: 0.2em;position: relative;}#sk-container-id-62 div.sk-item {position: relative;z-index: 1;}#sk-container-id-62 div.sk-parallel {display: flex;align-items: stretch;justify-content: center;background-color: white;position: relative;}#sk-container-id-62 div.sk-item::before, #sk-container-id-62 div.sk-parallel-item::before {content: \"\";position: absolute;border-left: 1px solid gray;box-sizing: border-box;top: 0;bottom: 0;left: 50%;z-index: -1;}#sk-container-id-62 div.sk-parallel-item {display: flex;flex-direction: column;z-index: 1;position: relative;background-color: white;}#sk-container-id-62 div.sk-parallel-item:first-child::after {align-self: flex-end;width: 50%;}#sk-container-id-62 div.sk-parallel-item:last-child::after {align-self: flex-start;width: 50%;}#sk-container-id-62 div.sk-parallel-item:only-child::after {width: 0;}#sk-container-id-62 div.sk-dashed-wrapped {border: 1px dashed gray;margin: 0 0.4em 0.5em 0.4em;box-sizing: border-box;padding-bottom: 0.4em;background-color: white;}#sk-container-id-62 div.sk-label label {font-family: monospace;font-weight: bold;display: inline-block;line-height: 1.2em;}#sk-container-id-62 div.sk-label-container {text-align: center;}#sk-container-id-62 div.sk-container {/* jupyter's `normalize.less` sets `[hidden] { display: none; }` but bootstrap.min.css set `[hidden] { display: none !important; }` so we also need the `!important` here to be able to override the default hidden behavior on the sphinx rendered scikit-learn.org. See: https://github.com/scikit-learn/scikit-learn/issues/21755 */display: inline-block !important;position: relative;}#sk-container-id-62 div.sk-text-repr-fallback {display: none;}</style><div id=\"sk-container-id-62\" class=\"sk-top-container\"><div class=\"sk-text-repr-fallback\"><pre>GridSearchCV(cv=5,\n",
       "             estimator=Pipeline(steps=[(&#x27;sc&#x27;, StandardScaler()),\n",
       "                                       (&#x27;rf&#x27;, RandomForestRegressor())]),\n",
       "             n_jobs=25,\n",
       "             param_grid=[{&#x27;rf__max_depth&#x27;: array([20, 30, 40, 50, 60, 70]),\n",
       "                          &#x27;rf__max_features&#x27;: [3, 5, 7],\n",
       "                          &#x27;rf__max_leaf_nodes&#x27;: [75, 100],\n",
       "                          &#x27;rf__max_samples&#x27;: [None],\n",
       "                          &#x27;rf__n_estimators&#x27;: [85]}])</pre><b>In a Jupyter environment, please rerun this cell to show the HTML representation or trust the notebook. <br />On GitHub, the HTML representation is unable to render, please try loading this page with nbviewer.org.</b></div><div class=\"sk-container\" hidden><div class=\"sk-item sk-dashed-wrapped\"><div class=\"sk-label-container\"><div class=\"sk-label sk-toggleable\"><input class=\"sk-toggleable__control sk-hidden--visually\" id=\"sk-estimator-id-245\" type=\"checkbox\" ><label for=\"sk-estimator-id-245\" class=\"sk-toggleable__label sk-toggleable__label-arrow\">GridSearchCV</label><div class=\"sk-toggleable__content\"><pre>GridSearchCV(cv=5,\n",
       "             estimator=Pipeline(steps=[(&#x27;sc&#x27;, StandardScaler()),\n",
       "                                       (&#x27;rf&#x27;, RandomForestRegressor())]),\n",
       "             n_jobs=25,\n",
       "             param_grid=[{&#x27;rf__max_depth&#x27;: array([20, 30, 40, 50, 60, 70]),\n",
       "                          &#x27;rf__max_features&#x27;: [3, 5, 7],\n",
       "                          &#x27;rf__max_leaf_nodes&#x27;: [75, 100],\n",
       "                          &#x27;rf__max_samples&#x27;: [None],\n",
       "                          &#x27;rf__n_estimators&#x27;: [85]}])</pre></div></div></div><div class=\"sk-parallel\"><div class=\"sk-parallel-item\"><div class=\"sk-item\"><div class=\"sk-label-container\"><div class=\"sk-label sk-toggleable\"><input class=\"sk-toggleable__control sk-hidden--visually\" id=\"sk-estimator-id-246\" type=\"checkbox\" ><label for=\"sk-estimator-id-246\" class=\"sk-toggleable__label sk-toggleable__label-arrow\">estimator: Pipeline</label><div class=\"sk-toggleable__content\"><pre>Pipeline(steps=[(&#x27;sc&#x27;, StandardScaler()), (&#x27;rf&#x27;, RandomForestRegressor())])</pre></div></div></div><div class=\"sk-serial\"><div class=\"sk-item\"><div class=\"sk-serial\"><div class=\"sk-item\"><div class=\"sk-estimator sk-toggleable\"><input class=\"sk-toggleable__control sk-hidden--visually\" id=\"sk-estimator-id-247\" type=\"checkbox\" ><label for=\"sk-estimator-id-247\" class=\"sk-toggleable__label sk-toggleable__label-arrow\">StandardScaler</label><div class=\"sk-toggleable__content\"><pre>StandardScaler()</pre></div></div></div><div class=\"sk-item\"><div class=\"sk-estimator sk-toggleable\"><input class=\"sk-toggleable__control sk-hidden--visually\" id=\"sk-estimator-id-248\" type=\"checkbox\" ><label for=\"sk-estimator-id-248\" class=\"sk-toggleable__label sk-toggleable__label-arrow\">RandomForestRegressor</label><div class=\"sk-toggleable__content\"><pre>RandomForestRegressor()</pre></div></div></div></div></div></div></div></div></div></div></div></div>"
      ],
      "text/plain": [
       "GridSearchCV(cv=5,\n",
       "             estimator=Pipeline(steps=[('sc', StandardScaler()),\n",
       "                                       ('rf', RandomForestRegressor())]),\n",
       "             n_jobs=25,\n",
       "             param_grid=[{'rf__max_depth': array([20, 30, 40, 50, 60, 70]),\n",
       "                          'rf__max_features': [3, 5, 7],\n",
       "                          'rf__max_leaf_nodes': [75, 100],\n",
       "                          'rf__max_samples': [None],\n",
       "                          'rf__n_estimators': [85]}])"
      ]
     },
     "execution_count": 560,
     "metadata": {},
     "output_type": "execute_result"
    }
   ],
   "source": [
    "%%time\n",
    "\n",
    "gs_rf = GridSearchCV(pipe_rf, pgrid_rf, cv=5, n_jobs=25)\n",
    "gs_rf.fit(X_train, y_train)"
   ]
  },
  {
   "cell_type": "code",
   "execution_count": 561,
   "id": "07db7293-162b-4892-a097-e6fb7e820f3b",
   "metadata": {},
   "outputs": [],
   "source": [
    "preds_rf = gs_rf.predict(X_test)"
   ]
  },
  {
   "cell_type": "code",
   "execution_count": 562,
   "id": "9f16f8c8-9022-450f-bc68-c57cced837cf",
   "metadata": {},
   "outputs": [
    {
     "name": "stdout",
     "output_type": "stream",
     "text": [
      "------------- \u001b[1mRandom Forest w/ GridSearch\u001b[0m ------------\n",
      "------------------- Train: 0.9386 --------------------\n",
      "------------------- Test: 0.8056 ---------------------\n",
      "Best Params: {'rf__max_depth': 50, 'rf__max_features': 3, 'rf__max_leaf_nodes': 100, 'rf__max_samples': None, 'rf__n_estimators': 85}\n"
     ]
    }
   ],
   "source": [
    "print(f'------------- {b1}Random Forest w/ GridSearch{b0} ------------')\n",
    "print(f'------------------- Train: {round(gs_rf.score(X_train, y_train),4)} --------------------')\n",
    "print(f'------------------- Test: {round(gs_rf.score(X_test, y_test),4)} ---------------------')\n",
    "print('Best Params:', gs_rf.best_params_)"
   ]
  },
  {
   "cell_type": "code",
   "execution_count": null,
   "id": "236a250f-63ec-44a9-86b9-97f50b9671bc",
   "metadata": {},
   "outputs": [],
   "source": [
    "best_estimator = gs_rf.best_estimator_"
   ]
  },
  {
   "cell_type": "code",
   "execution_count": 570,
   "id": "5b602a97-b700-42bc-9b13-c29a4987324e",
   "metadata": {},
   "outputs": [
    {
     "name": "stdout",
     "output_type": "stream",
     "text": [
      "['g' 'pg_gs' 'pg_mp' 'adv_per' 'adv_ws' 'adv_vorp' 'adv_ws/48' 'adv_bpm'\n",
      " 'adv_obpm' 'all_star' 'tot_pts' 'pg_pts' 'pg_2p' 'adv_ts%' 'adv_ows'\n",
      " 'w/l%' 'seed' 'adv_usg%' 'f' 'gu']\n",
      "[0.01112466 0.01035761 0.01511947 0.12941363 0.14311735 0.15832004\n",
      " 0.06049333 0.07313755 0.04488368 0.05646531 0.04484959 0.04865175\n",
      " 0.04351798 0.0143377  0.04146938 0.02949551 0.0239655  0.0476808\n",
      " 0.00162489 0.00197428]\n"
     ]
    }
   ],
   "source": [
    "# source: https://github.com/scikit-learn/scikit-learn/issues/21349, ChatGPT\n",
    "best_estimator = gs_rf.best_estimator_\n",
    "random_forest = best_estimator.named_steps['rf']\n",
    "feature_importances = random_forest.feature_importances_\n",
    "best_preprocessor = best_estimator.named_steps['sc']\n",
    "\n",
    "feature_names = best_preprocessor.get_feature_names_out()\n",
    "feature_names_list = list(feature_names)\n",
    "\n",
    "print(feature_names)\n",
    "print(feature_importances)"
   ]
  },
  {
   "cell_type": "code",
   "execution_count": 571,
   "id": "9433cbfa-091a-4792-8ff6-7665d1810b13",
   "metadata": {},
   "outputs": [],
   "source": [
    "# Make df\n",
    "fi = pd.DataFrame({'feature_names':feature_names,\n",
    "                   'feature_importance': feature_importances})\n",
    "\n",
    "#Sort by creasing feature importance\n",
    "fi.sort_values(by=['feature_importance'], ascending=False,inplace=True)\n",
    "fi2 = fi.reset_index().drop(columns = ['index']).head(30)"
   ]
  },
  {
   "cell_type": "code",
   "execution_count": 572,
   "id": "15e89977-e797-4f33-90eb-148a97cf6a07",
   "metadata": {},
   "outputs": [
    {
     "data": {
      "image/png": "[encoded data removed]",
      "text/plain": [
       "<Figure size 1000x800 with 1 Axes>"
      ]
     },
     "metadata": {},
     "output_type": "display_data"
    }
   ],
   "source": [
    "#Sort the DataFrame by descending\n",
    "plt.figure(figsize=(10,8))\n",
    "sns.barplot(x=fi2['feature_importance'], y=fi2['feature_names'])\n",
    "plt.title('Random Forest Top 30 Feature Importances')\n",
    "plt.xlabel('Feature Importance')\n",
    "plt.ylabel('Feature Names');\n",
    "\n",
    "#plt.savefig('../images/Feature_Importances_RF.png', dpi=192, bbox_inches='tight'); #Added"
   ]
  },
  {
   "cell_type": "code",
   "execution_count": null,
   "id": "8dcb0bc3-308c-4cc1-967b-5ab8b5743427",
   "metadata": {},
   "outputs": [],
   "source": []
  },
  {
   "cell_type": "code",
   "execution_count": null,
   "id": "7e0f8092-d291-4ff5-b053-51df4ef033aa",
   "metadata": {},
   "outputs": [],
   "source": []
  },
  {
   "cell_type": "code",
   "execution_count": null,
   "id": "c3263a11-c0db-4fd1-afdc-8a591e1900ae",
   "metadata": {},
   "outputs": [],
   "source": []
  },
  {
   "cell_type": "code",
   "execution_count": null,
   "id": "ff162984-d7a4-43e2-8e60-f8c1a2a55860",
   "metadata": {},
   "outputs": [],
   "source": []
  },
  {
   "cell_type": "code",
   "execution_count": null,
   "id": "bcab12d5-6085-404a-973a-33f11272d2b2",
   "metadata": {},
   "outputs": [],
   "source": []
  },
  {
   "cell_type": "code",
   "execution_count": null,
   "id": "e71b172a-931c-4ba6-8d6a-5d1b8467c8f4",
   "metadata": {},
   "outputs": [],
   "source": []
  },
  {
   "cell_type": "code",
   "execution_count": null,
   "id": "e02a2671-9345-40d3-bb03-f4f56a33349b",
   "metadata": {},
   "outputs": [],
   "source": []
  },
  {
   "cell_type": "code",
   "execution_count": null,
   "id": "20197d3d-b1e2-4cc2-b9a0-e90217147f5b",
   "metadata": {},
   "outputs": [],
   "source": []
  },
  {
   "cell_type": "code",
   "execution_count": 573,
   "id": "025515cf-9057-40f4-8d5e-c96f33798459",
   "metadata": {},
   "outputs": [
    {
     "data": {
      "text/plain": [
       "{'memory': None,\n",
       " 'steps': [('sc', StandardScaler()), ('et', ExtraTreesRegressor())],\n",
       " 'verbose': False,\n",
       " 'sc': StandardScaler(),\n",
       " 'et': ExtraTreesRegressor(),\n",
       " 'sc__copy': True,\n",
       " 'sc__with_mean': True,\n",
       " 'sc__with_std': True,\n",
       " 'et__bootstrap': False,\n",
       " 'et__ccp_alpha': 0.0,\n",
       " 'et__criterion': 'squared_error',\n",
       " 'et__max_depth': None,\n",
       " 'et__max_features': 1.0,\n",
       " 'et__max_leaf_nodes': None,\n",
       " 'et__max_samples': None,\n",
       " 'et__min_impurity_decrease': 0.0,\n",
       " 'et__min_samples_leaf': 1,\n",
       " 'et__min_samples_split': 2,\n",
       " 'et__min_weight_fraction_leaf': 0.0,\n",
       " 'et__n_estimators': 100,\n",
       " 'et__n_jobs': None,\n",
       " 'et__oob_score': False,\n",
       " 'et__random_state': None,\n",
       " 'et__verbose': 0,\n",
       " 'et__warm_start': False}"
      ]
     },
     "execution_count": 573,
     "metadata": {},
     "output_type": "execute_result"
    }
   ],
   "source": [
    "# EXTRA TREES\n",
    "pipe_et = Pipeline([\n",
    "    ('sc', StandardScaler()),\n",
    "    ('et', ExtraTreesRegressor())\n",
    "])\n",
    "\n",
    "pipe_et.get_params()"
   ]
  },
  {
   "cell_type": "code",
   "execution_count": 574,
   "id": "f1564fe1-585c-408f-82e1-7726140ad30f",
   "metadata": {},
   "outputs": [],
   "source": [
    "pgrid_et =[\n",
    "    {\n",
    "    'et__n_estimators': [150, 175],\n",
    "    'et__max_depth': [10, 20],\n",
    "    'et__max_features': [4, 5, 6],\n",
    "    'et__random_state': [1527],\n",
    "    'et__min_samples_leaf': [1, 3, 5],\n",
    "    }\n",
    "]"
   ]
  },
  {
   "cell_type": "code",
   "execution_count": 575,
   "id": "61793b77-e6c7-4c31-95c3-01a80bc9668d",
   "metadata": {},
   "outputs": [
    {
     "name": "stdout",
     "output_type": "stream",
     "text": [
      "CPU times: total: 281 ms\n",
      "Wall time: 18.2 s\n"
     ]
    },
    {
     "data": {
      "text/html": [
       "<style>#sk-container-id-63 {color: black;background-color: white;}#sk-container-id-63 pre{padding: 0;}#sk-container-id-63 div.sk-toggleable {background-color: white;}#sk-container-id-63 label.sk-toggleable__label {cursor: pointer;display: block;width: 100%;margin-bottom: 0;padding: 0.3em;box-sizing: border-box;text-align: center;}#sk-container-id-63 label.sk-toggleable__label-arrow:before {content: \"▸\";float: left;margin-right: 0.25em;color: #696969;}#sk-container-id-63 label.sk-toggleable__label-arrow:hover:before {color: black;}#sk-container-id-63 div.sk-estimator:hover label.sk-toggleable__label-arrow:before {color: black;}#sk-container-id-63 div.sk-toggleable__content {max-height: 0;max-width: 0;overflow: hidden;text-align: left;background-color: #f0f8ff;}#sk-container-id-63 div.sk-toggleable__content pre {margin: 0.2em;color: black;border-radius: 0.25em;background-color: #f0f8ff;}#sk-container-id-63 input.sk-toggleable__control:checked~div.sk-toggleable__content {max-height: 200px;max-width: 100%;overflow: auto;}#sk-container-id-63 input.sk-toggleable__control:checked~label.sk-toggleable__label-arrow:before {content: \"▾\";}#sk-container-id-63 div.sk-estimator input.sk-toggleable__control:checked~label.sk-toggleable__label {background-color: #d4ebff;}#sk-container-id-63 div.sk-label input.sk-toggleable__control:checked~label.sk-toggleable__label {background-color: #d4ebff;}#sk-container-id-63 input.sk-hidden--visually {border: 0;clip: rect(1px 1px 1px 1px);clip: rect(1px, 1px, 1px, 1px);height: 1px;margin: -1px;overflow: hidden;padding: 0;position: absolute;width: 1px;}#sk-container-id-63 div.sk-estimator {font-family: monospace;background-color: #f0f8ff;border: 1px dotted black;border-radius: 0.25em;box-sizing: border-box;margin-bottom: 0.5em;}#sk-container-id-63 div.sk-estimator:hover {background-color: #d4ebff;}#sk-container-id-63 div.sk-parallel-item::after {content: \"\";width: 100%;border-bottom: 1px solid gray;flex-grow: 1;}#sk-container-id-63 div.sk-label:hover label.sk-toggleable__label {background-color: #d4ebff;}#sk-container-id-63 div.sk-serial::before {content: \"\";position: absolute;border-left: 1px solid gray;box-sizing: border-box;top: 0;bottom: 0;left: 50%;z-index: 0;}#sk-container-id-63 div.sk-serial {display: flex;flex-direction: column;align-items: center;background-color: white;padding-right: 0.2em;padding-left: 0.2em;position: relative;}#sk-container-id-63 div.sk-item {position: relative;z-index: 1;}#sk-container-id-63 div.sk-parallel {display: flex;align-items: stretch;justify-content: center;background-color: white;position: relative;}#sk-container-id-63 div.sk-item::before, #sk-container-id-63 div.sk-parallel-item::before {content: \"\";position: absolute;border-left: 1px solid gray;box-sizing: border-box;top: 0;bottom: 0;left: 50%;z-index: -1;}#sk-container-id-63 div.sk-parallel-item {display: flex;flex-direction: column;z-index: 1;position: relative;background-color: white;}#sk-container-id-63 div.sk-parallel-item:first-child::after {align-self: flex-end;width: 50%;}#sk-container-id-63 div.sk-parallel-item:last-child::after {align-self: flex-start;width: 50%;}#sk-container-id-63 div.sk-parallel-item:only-child::after {width: 0;}#sk-container-id-63 div.sk-dashed-wrapped {border: 1px dashed gray;margin: 0 0.4em 0.5em 0.4em;box-sizing: border-box;padding-bottom: 0.4em;background-color: white;}#sk-container-id-63 div.sk-label label {font-family: monospace;font-weight: bold;display: inline-block;line-height: 1.2em;}#sk-container-id-63 div.sk-label-container {text-align: center;}#sk-container-id-63 div.sk-container {/* jupyter's `normalize.less` sets `[hidden] { display: none; }` but bootstrap.min.css set `[hidden] { display: none !important; }` so we also need the `!important` here to be able to override the default hidden behavior on the sphinx rendered scikit-learn.org. See: https://github.com/scikit-learn/scikit-learn/issues/21755 */display: inline-block !important;position: relative;}#sk-container-id-63 div.sk-text-repr-fallback {display: none;}</style><div id=\"sk-container-id-63\" class=\"sk-top-container\"><div class=\"sk-text-repr-fallback\"><pre>GridSearchCV(cv=5,\n",
       "             estimator=Pipeline(steps=[(&#x27;sc&#x27;, StandardScaler()),\n",
       "                                       (&#x27;et&#x27;, ExtraTreesRegressor())]),\n",
       "             n_jobs=10,\n",
       "             param_grid=[{&#x27;et__max_depth&#x27;: [10, 20],\n",
       "                          &#x27;et__max_features&#x27;: [4, 5, 6],\n",
       "                          &#x27;et__min_samples_leaf&#x27;: [1, 3, 5],\n",
       "                          &#x27;et__n_estimators&#x27;: [150, 175],\n",
       "                          &#x27;et__random_state&#x27;: [1527]}],\n",
       "             scoring=&#x27;r2&#x27;)</pre><b>In a Jupyter environment, please rerun this cell to show the HTML representation or trust the notebook. <br />On GitHub, the HTML representation is unable to render, please try loading this page with nbviewer.org.</b></div><div class=\"sk-container\" hidden><div class=\"sk-item sk-dashed-wrapped\"><div class=\"sk-label-container\"><div class=\"sk-label sk-toggleable\"><input class=\"sk-toggleable__control sk-hidden--visually\" id=\"sk-estimator-id-249\" type=\"checkbox\" ><label for=\"sk-estimator-id-249\" class=\"sk-toggleable__label sk-toggleable__label-arrow\">GridSearchCV</label><div class=\"sk-toggleable__content\"><pre>GridSearchCV(cv=5,\n",
       "             estimator=Pipeline(steps=[(&#x27;sc&#x27;, StandardScaler()),\n",
       "                                       (&#x27;et&#x27;, ExtraTreesRegressor())]),\n",
       "             n_jobs=10,\n",
       "             param_grid=[{&#x27;et__max_depth&#x27;: [10, 20],\n",
       "                          &#x27;et__max_features&#x27;: [4, 5, 6],\n",
       "                          &#x27;et__min_samples_leaf&#x27;: [1, 3, 5],\n",
       "                          &#x27;et__n_estimators&#x27;: [150, 175],\n",
       "                          &#x27;et__random_state&#x27;: [1527]}],\n",
       "             scoring=&#x27;r2&#x27;)</pre></div></div></div><div class=\"sk-parallel\"><div class=\"sk-parallel-item\"><div class=\"sk-item\"><div class=\"sk-label-container\"><div class=\"sk-label sk-toggleable\"><input class=\"sk-toggleable__control sk-hidden--visually\" id=\"sk-estimator-id-250\" type=\"checkbox\" ><label for=\"sk-estimator-id-250\" class=\"sk-toggleable__label sk-toggleable__label-arrow\">estimator: Pipeline</label><div class=\"sk-toggleable__content\"><pre>Pipeline(steps=[(&#x27;sc&#x27;, StandardScaler()), (&#x27;et&#x27;, ExtraTreesRegressor())])</pre></div></div></div><div class=\"sk-serial\"><div class=\"sk-item\"><div class=\"sk-serial\"><div class=\"sk-item\"><div class=\"sk-estimator sk-toggleable\"><input class=\"sk-toggleable__control sk-hidden--visually\" id=\"sk-estimator-id-251\" type=\"checkbox\" ><label for=\"sk-estimator-id-251\" class=\"sk-toggleable__label sk-toggleable__label-arrow\">StandardScaler</label><div class=\"sk-toggleable__content\"><pre>StandardScaler()</pre></div></div></div><div class=\"sk-item\"><div class=\"sk-estimator sk-toggleable\"><input class=\"sk-toggleable__control sk-hidden--visually\" id=\"sk-estimator-id-252\" type=\"checkbox\" ><label for=\"sk-estimator-id-252\" class=\"sk-toggleable__label sk-toggleable__label-arrow\">ExtraTreesRegressor</label><div class=\"sk-toggleable__content\"><pre>ExtraTreesRegressor()</pre></div></div></div></div></div></div></div></div></div></div></div></div>"
      ],
      "text/plain": [
       "GridSearchCV(cv=5,\n",
       "             estimator=Pipeline(steps=[('sc', StandardScaler()),\n",
       "                                       ('et', ExtraTreesRegressor())]),\n",
       "             n_jobs=10,\n",
       "             param_grid=[{'et__max_depth': [10, 20],\n",
       "                          'et__max_features': [4, 5, 6],\n",
       "                          'et__min_samples_leaf': [1, 3, 5],\n",
       "                          'et__n_estimators': [150, 175],\n",
       "                          'et__random_state': [1527]}],\n",
       "             scoring='r2')"
      ]
     },
     "execution_count": 575,
     "metadata": {},
     "output_type": "execute_result"
    }
   ],
   "source": [
    "%%time\n",
    "\n",
    "gs_et = GridSearchCV(pipe_et, pgrid_et, cv=5, scoring = 'r2', n_jobs=10)\n",
    "gs_et.fit(X_train, y_train)"
   ]
  },
  {
   "cell_type": "code",
   "execution_count": 576,
   "id": "8776bbd8-7a17-47f9-bcf3-8c8b84055403",
   "metadata": {},
   "outputs": [],
   "source": [
    "preds_et = gs_et.predict(X_test)"
   ]
  },
  {
   "cell_type": "code",
   "execution_count": 577,
   "id": "4ea1619a-65cd-4f60-8339-bd5f2241414a",
   "metadata": {},
   "outputs": [
    {
     "name": "stdout",
     "output_type": "stream",
     "text": [
      "------------- \u001b[1mExtra Trees w/ GridSearch\u001b[0m -------------\n",
      "------------------- Train: 0.925 -------------------\n",
      "------------------- Test: 0.8147 --------------------\n",
      "Best Params: {'et__max_depth': 10, 'et__max_features': 4, 'et__min_samples_leaf': 1, 'et__n_estimators': 175, 'et__random_state': 1527}\n"
     ]
    }
   ],
   "source": [
    "print(f'------------- {b1}Extra Trees w/ GridSearch{b0} -------------')\n",
    "print(f'------------------- Train: {round(gs_et.score(X_train, y_train),4)} -------------------')\n",
    "print(f'------------------- Test: {round(gs_et.score(X_test, y_test),4)} --------------------')\n",
    "print('Best Params:', gs_et.best_params_)"
   ]
  },
  {
   "cell_type": "code",
   "execution_count": 578,
   "id": "9285bd81-4638-4f0f-8beb-4a59899bae18",
   "metadata": {},
   "outputs": [
    {
     "data": {
      "text/plain": [
       "0.27408771367152884"
      ]
     },
     "execution_count": 578,
     "metadata": {},
     "output_type": "execute_result"
    }
   ],
   "source": [
    "gs_et.best_score_"
   ]
  },
  {
   "cell_type": "code",
   "execution_count": 580,
   "id": "78a57b6a-d8b8-4a74-83e4-927004c760e8",
   "metadata": {},
   "outputs": [
    {
     "name": "stdout",
     "output_type": "stream",
     "text": [
      "['g' 'pg_gs' 'pg_mp' 'adv_per' 'adv_ws' 'adv_vorp' 'adv_ws/48' 'adv_bpm'\n",
      " 'adv_obpm' 'all_star' 'tot_pts' 'pg_pts' 'pg_2p' 'adv_ts%' 'adv_ows'\n",
      " 'w/l%' 'seed' 'adv_usg%' 'f' 'gu']\n",
      "[0.0082024  0.00773615 0.01247747 0.10211351 0.07652584 0.10056284\n",
      " 0.06584913 0.07563959 0.05668796 0.18373608 0.05104979 0.05841126\n",
      " 0.04655974 0.0101325  0.04542812 0.02544459 0.03618998 0.02739451\n",
      " 0.00476205 0.00509648]\n"
     ]
    }
   ],
   "source": [
    "# source: https://github.com/scikit-learn/scikit-learn/issues/21349, ChatGPT\n",
    "best_estimator = gs_et.best_estimator_\n",
    "extra = best_estimator.named_steps['et']\n",
    "feature_importances = extra.feature_importances_\n",
    "best_preprocessor = best_estimator.named_steps['sc']\n",
    "\n",
    "feature_names = best_preprocessor.get_feature_names_out()\n",
    "feature_names_list = list(feature_names)\n",
    "\n",
    "print(feature_names)\n",
    "print(feature_importances)"
   ]
  },
  {
   "cell_type": "code",
   "execution_count": 581,
   "id": "4542b237-1c29-4114-8518-870dd3b73960",
   "metadata": {},
   "outputs": [],
   "source": [
    "# Make df\n",
    "fi = pd.DataFrame({'feature_names':feature_names,\n",
    "                   'feature_importance': feature_importances})\n",
    "\n",
    "#Sort by creasing feature importance\n",
    "fi.sort_values(by=['feature_importance'], ascending=False,inplace=True)\n",
    "fi2 = fi.reset_index().drop(columns = ['index']).head(30)"
   ]
  },
  {
   "cell_type": "code",
   "execution_count": 582,
   "id": "6c393a16-912c-4fd4-940b-cc103fc2ff76",
   "metadata": {},
   "outputs": [
    {
     "data": {
      "image/png": "[encoded data removed]",
      "text/plain": [
       "<Figure size 1000x800 with 1 Axes>"
      ]
     },
     "metadata": {},
     "output_type": "display_data"
    }
   ],
   "source": [
    "#Sort the DataFrame by descending\n",
    "plt.figure(figsize=(10,8))\n",
    "sns.barplot(x=fi2['feature_importance'], y=fi2['feature_names'])\n",
    "plt.title('Extra Trees Top 30 Feature Importances')\n",
    "plt.xlabel('Feature Importance')\n",
    "plt.ylabel('Feature Names');\n",
    "\n",
    "#plt.savefig('../images/Feature_Importances_RF.png', dpi=192, bbox_inches='tight'); #Added"
   ]
  },
  {
   "cell_type": "code",
   "execution_count": 589,
   "id": "9170044b-a749-465e-9b8c-de62019a43d2",
   "metadata": {},
   "outputs": [
    {
     "data": {
      "text/plain": [
       "0.008082222788798768"
      ]
     },
     "execution_count": 589,
     "metadata": {},
     "output_type": "execute_result"
    }
   ],
   "source": [
    "mean_squared_error(y_test, preds_et)"
   ]
  },
  {
   "cell_type": "code",
   "execution_count": null,
   "id": "d41c7154-da48-4cd0-b07d-733f2c067813",
   "metadata": {},
   "outputs": [],
   "source": []
  },
  {
   "cell_type": "code",
   "execution_count": null,
   "id": "65ee204e-540e-4a4c-9ddf-6986d68ca1a0",
   "metadata": {},
   "outputs": [],
   "source": []
  },
  {
   "cell_type": "code",
   "execution_count": null,
   "id": "639fe5a4-3878-4b73-b41c-f5d351b6a08a",
   "metadata": {},
   "outputs": [],
   "source": []
  },
  {
   "cell_type": "code",
   "execution_count": null,
   "id": "e0fb04d0-9bfd-48dc-8175-a4ed16e15352",
   "metadata": {},
   "outputs": [],
   "source": []
  },
  {
   "cell_type": "code",
   "execution_count": null,
   "id": "52784d28-11b5-4f1e-8f57-0a3e01cce4d9",
   "metadata": {},
   "outputs": [],
   "source": []
  },
  {
   "cell_type": "code",
   "execution_count": null,
   "id": "5025efc5-26e2-447c-af67-26a6570d39aa",
   "metadata": {},
   "outputs": [],
   "source": [
    "## XBG"
   ]
  },
  {
   "cell_type": "code",
   "execution_count": 583,
   "id": "7093179b-9de7-4065-9c7d-dec5831a661a",
   "metadata": {},
   "outputs": [
    {
     "data": {
      "text/plain": [
       "{'memory': None,\n",
       " 'steps': [('sc', StandardScaler()),\n",
       "  ('xgb',\n",
       "   XGBRegressor(base_score=None, booster=None, callbacks=None,\n",
       "                colsample_bylevel=None, colsample_bynode=None,\n",
       "                colsample_bytree=None, early_stopping_rounds=None,\n",
       "                enable_categorical=False, eval_metric=None, feature_types=None,\n",
       "                gamma=None, gpu_id=None, grow_policy=None, importance_type=None,\n",
       "                interaction_constraints=None, learning_rate=None, max_bin=None,\n",
       "                max_cat_threshold=None, max_cat_to_onehot=None,\n",
       "                max_delta_step=None, max_depth=None, max_leaves=None,\n",
       "                min_child_weight=None, missing=nan, monotone_constraints=None,\n",
       "                n_estimators=100, n_jobs=None, num_parallel_tree=None,\n",
       "                predictor=None, random_state=1527, ...))],\n",
       " 'verbose': False,\n",
       " 'sc': StandardScaler(),\n",
       " 'xgb': XGBRegressor(base_score=None, booster=None, callbacks=None,\n",
       "              colsample_bylevel=None, colsample_bynode=None,\n",
       "              colsample_bytree=None, early_stopping_rounds=None,\n",
       "              enable_categorical=False, eval_metric=None, feature_types=None,\n",
       "              gamma=None, gpu_id=None, grow_policy=None, importance_type=None,\n",
       "              interaction_constraints=None, learning_rate=None, max_bin=None,\n",
       "              max_cat_threshold=None, max_cat_to_onehot=None,\n",
       "              max_delta_step=None, max_depth=None, max_leaves=None,\n",
       "              min_child_weight=None, missing=nan, monotone_constraints=None,\n",
       "              n_estimators=100, n_jobs=None, num_parallel_tree=None,\n",
       "              predictor=None, random_state=1527, ...),\n",
       " 'sc__copy': True,\n",
       " 'sc__with_mean': True,\n",
       " 'sc__with_std': True,\n",
       " 'xgb__objective': 'reg:squarederror',\n",
       " 'xgb__base_score': None,\n",
       " 'xgb__booster': None,\n",
       " 'xgb__callbacks': None,\n",
       " 'xgb__colsample_bylevel': None,\n",
       " 'xgb__colsample_bynode': None,\n",
       " 'xgb__colsample_bytree': None,\n",
       " 'xgb__early_stopping_rounds': None,\n",
       " 'xgb__enable_categorical': False,\n",
       " 'xgb__eval_metric': None,\n",
       " 'xgb__feature_types': None,\n",
       " 'xgb__gamma': None,\n",
       " 'xgb__gpu_id': None,\n",
       " 'xgb__grow_policy': None,\n",
       " 'xgb__importance_type': None,\n",
       " 'xgb__interaction_constraints': None,\n",
       " 'xgb__learning_rate': None,\n",
       " 'xgb__max_bin': None,\n",
       " 'xgb__max_cat_threshold': None,\n",
       " 'xgb__max_cat_to_onehot': None,\n",
       " 'xgb__max_delta_step': None,\n",
       " 'xgb__max_depth': None,\n",
       " 'xgb__max_leaves': None,\n",
       " 'xgb__min_child_weight': None,\n",
       " 'xgb__missing': nan,\n",
       " 'xgb__monotone_constraints': None,\n",
       " 'xgb__n_estimators': 100,\n",
       " 'xgb__n_jobs': None,\n",
       " 'xgb__num_parallel_tree': None,\n",
       " 'xgb__predictor': None,\n",
       " 'xgb__random_state': 1527,\n",
       " 'xgb__reg_alpha': None,\n",
       " 'xgb__reg_lambda': None,\n",
       " 'xgb__sampling_method': None,\n",
       " 'xgb__scale_pos_weight': None,\n",
       " 'xgb__subsample': None,\n",
       " 'xgb__tree_method': None,\n",
       " 'xgb__validate_parameters': None,\n",
       " 'xgb__verbosity': None}"
      ]
     },
     "execution_count": 583,
     "metadata": {},
     "output_type": "execute_result"
    }
   ],
   "source": [
    "pipe_xgb = Pipeline([\n",
    "    ('sc', StandardScaler()),\n",
    "    #('pc', PCA()),\n",
    "    ('xgb', XGBRegressor(random_state=1527))\n",
    "])\n",
    "\n",
    "pipe_xgb.get_params()"
   ]
  },
  {
   "cell_type": "code",
   "execution_count": null,
   "id": "97ed5bc1-83de-42e6-ab43-3d42b870d463",
   "metadata": {},
   "outputs": [],
   "source": [
    "pgrid_xgb = [{\n",
    "     'xgb__n_estimators': [None],\n",
    "     'xgb__max_depth': [None],\n",
    "     'xgb__learning_rate': np.linspace(0.1, .5, 10),\n",
    "     'xgb__subsample': [0.8, 0.9, 1.0],\n",
    "     'xgb__colsample_bytree': [None],\n",
    "     'xgb__reg_alpha': [0.01, 0.1, 1.0, 10]\n",
    "    \n",
    "    }]\n",
    "\n",
    "\n",
    "pgrid_xgb = [{\n",
    "     'xgb__n_estimators': [50],\n",
    "     'xgb__max_depth': [5, 10, 15, 20],\n",
    "     'xgb__learning_rate': np.linspace(0.1, .5, 10),\n",
    "     'xgb__subsample': [None],\n",
    "     'xgb__colsample_bytree': [None],\n",
    "     'xgb__reg_alpha': [None]\n",
    "    \n",
    "    }] 77%"
   ]
  },
  {
   "cell_type": "code",
   "execution_count": 584,
   "id": "596284a0-1750-42c7-89fd-caf0d6cc70c2",
   "metadata": {},
   "outputs": [],
   "source": [
    "pgrid_xgb = [{\n",
    "     'xgb__n_estimators': [65],\n",
    "     'xgb__max_depth': [3,4,5,6],\n",
    "     'xgb__learning_rate': np.linspace(0.01, .5, 10),\n",
    "     'xgb__subsample': [None],\n",
    "     'xgb__colsample_bytree': [None],\n",
    "     'xgb__reg_alpha': [0.15]\n",
    "    \n",
    "    }]\n",
    "\n",
    "gs_xgb = GridSearchCV(pipe_xgb, pgrid_xgb, cv=5, n_jobs=15)"
   ]
  },
  {
   "cell_type": "code",
   "execution_count": 585,
   "id": "6500e4db-870f-4a39-a680-4a8b1c9c80f7",
   "metadata": {},
   "outputs": [
    {
     "name": "stdout",
     "output_type": "stream",
     "text": [
      "CPU times: total: 438 ms\n",
      "Wall time: 5.32 s\n"
     ]
    },
    {
     "data": {
      "text/html": [
       "<style>#sk-container-id-64 {color: black;background-color: white;}#sk-container-id-64 pre{padding: 0;}#sk-container-id-64 div.sk-toggleable {background-color: white;}#sk-container-id-64 label.sk-toggleable__label {cursor: pointer;display: block;width: 100%;margin-bottom: 0;padding: 0.3em;box-sizing: border-box;text-align: center;}#sk-container-id-64 label.sk-toggleable__label-arrow:before {content: \"▸\";float: left;margin-right: 0.25em;color: #696969;}#sk-container-id-64 label.sk-toggleable__label-arrow:hover:before {color: black;}#sk-container-id-64 div.sk-estimator:hover label.sk-toggleable__label-arrow:before {color: black;}#sk-container-id-64 div.sk-toggleable__content {max-height: 0;max-width: 0;overflow: hidden;text-align: left;background-color: #f0f8ff;}#sk-container-id-64 div.sk-toggleable__content pre {margin: 0.2em;color: black;border-radius: 0.25em;background-color: #f0f8ff;}#sk-container-id-64 input.sk-toggleable__control:checked~div.sk-toggleable__content {max-height: 200px;max-width: 100%;overflow: auto;}#sk-container-id-64 input.sk-toggleable__control:checked~label.sk-toggleable__label-arrow:before {content: \"▾\";}#sk-container-id-64 div.sk-estimator input.sk-toggleable__control:checked~label.sk-toggleable__label {background-color: #d4ebff;}#sk-container-id-64 div.sk-label input.sk-toggleable__control:checked~label.sk-toggleable__label {background-color: #d4ebff;}#sk-container-id-64 input.sk-hidden--visually {border: 0;clip: rect(1px 1px 1px 1px);clip: rect(1px, 1px, 1px, 1px);height: 1px;margin: -1px;overflow: hidden;padding: 0;position: absolute;width: 1px;}#sk-container-id-64 div.sk-estimator {font-family: monospace;background-color: #f0f8ff;border: 1px dotted black;border-radius: 0.25em;box-sizing: border-box;margin-bottom: 0.5em;}#sk-container-id-64 div.sk-estimator:hover {background-color: #d4ebff;}#sk-container-id-64 div.sk-parallel-item::after {content: \"\";width: 100%;border-bottom: 1px solid gray;flex-grow: 1;}#sk-container-id-64 div.sk-label:hover label.sk-toggleable__label {background-color: #d4ebff;}#sk-container-id-64 div.sk-serial::before {content: \"\";position: absolute;border-left: 1px solid gray;box-sizing: border-box;top: 0;bottom: 0;left: 50%;z-index: 0;}#sk-container-id-64 div.sk-serial {display: flex;flex-direction: column;align-items: center;background-color: white;padding-right: 0.2em;padding-left: 0.2em;position: relative;}#sk-container-id-64 div.sk-item {position: relative;z-index: 1;}#sk-container-id-64 div.sk-parallel {display: flex;align-items: stretch;justify-content: center;background-color: white;position: relative;}#sk-container-id-64 div.sk-item::before, #sk-container-id-64 div.sk-parallel-item::before {content: \"\";position: absolute;border-left: 1px solid gray;box-sizing: border-box;top: 0;bottom: 0;left: 50%;z-index: -1;}#sk-container-id-64 div.sk-parallel-item {display: flex;flex-direction: column;z-index: 1;position: relative;background-color: white;}#sk-container-id-64 div.sk-parallel-item:first-child::after {align-self: flex-end;width: 50%;}#sk-container-id-64 div.sk-parallel-item:last-child::after {align-self: flex-start;width: 50%;}#sk-container-id-64 div.sk-parallel-item:only-child::after {width: 0;}#sk-container-id-64 div.sk-dashed-wrapped {border: 1px dashed gray;margin: 0 0.4em 0.5em 0.4em;box-sizing: border-box;padding-bottom: 0.4em;background-color: white;}#sk-container-id-64 div.sk-label label {font-family: monospace;font-weight: bold;display: inline-block;line-height: 1.2em;}#sk-container-id-64 div.sk-label-container {text-align: center;}#sk-container-id-64 div.sk-container {/* jupyter's `normalize.less` sets `[hidden] { display: none; }` but bootstrap.min.css set `[hidden] { display: none !important; }` so we also need the `!important` here to be able to override the default hidden behavior on the sphinx rendered scikit-learn.org. See: https://github.com/scikit-learn/scikit-learn/issues/21755 */display: inline-block !important;position: relative;}#sk-container-id-64 div.sk-text-repr-fallback {display: none;}</style><div id=\"sk-container-id-64\" class=\"sk-top-container\"><div class=\"sk-text-repr-fallback\"><pre>GridSearchCV(cv=5,\n",
       "             estimator=Pipeline(steps=[(&#x27;sc&#x27;, StandardScaler()),\n",
       "                                       (&#x27;xgb&#x27;,\n",
       "                                        XGBRegressor(base_score=None,\n",
       "                                                     booster=None,\n",
       "                                                     callbacks=None,\n",
       "                                                     colsample_bylevel=None,\n",
       "                                                     colsample_bynode=None,\n",
       "                                                     colsample_bytree=None,\n",
       "                                                     early_stopping_rounds=None,\n",
       "                                                     enable_categorical=False,\n",
       "                                                     eval_metric=None,\n",
       "                                                     feature_types=None,\n",
       "                                                     gamma=None, gpu_id=None,\n",
       "                                                     grow_policy=None,\n",
       "                                                     importance_type=None,\n",
       "                                                     in...\n",
       "                                                     n_jobs=None,\n",
       "                                                     num_parallel_tree=None,\n",
       "                                                     predictor=None,\n",
       "                                                     random_state=1527, ...))]),\n",
       "             n_jobs=10,\n",
       "             param_grid=[{&#x27;xgb__colsample_bytree&#x27;: [None],\n",
       "                          &#x27;xgb__learning_rate&#x27;: array([0.01      , 0.06444444, 0.11888889, 0.17333333, 0.22777778,\n",
       "       0.28222222, 0.33666667, 0.39111111, 0.44555556, 0.5       ]),\n",
       "                          &#x27;xgb__max_depth&#x27;: [3, 4, 5, 6],\n",
       "                          &#x27;xgb__n_estimators&#x27;: [65], &#x27;xgb__reg_alpha&#x27;: [0.15],\n",
       "                          &#x27;xgb__subsample&#x27;: [None]}])</pre><b>In a Jupyter environment, please rerun this cell to show the HTML representation or trust the notebook. <br />On GitHub, the HTML representation is unable to render, please try loading this page with nbviewer.org.</b></div><div class=\"sk-container\" hidden><div class=\"sk-item sk-dashed-wrapped\"><div class=\"sk-label-container\"><div class=\"sk-label sk-toggleable\"><input class=\"sk-toggleable__control sk-hidden--visually\" id=\"sk-estimator-id-253\" type=\"checkbox\" ><label for=\"sk-estimator-id-253\" class=\"sk-toggleable__label sk-toggleable__label-arrow\">GridSearchCV</label><div class=\"sk-toggleable__content\"><pre>GridSearchCV(cv=5,\n",
       "             estimator=Pipeline(steps=[(&#x27;sc&#x27;, StandardScaler()),\n",
       "                                       (&#x27;xgb&#x27;,\n",
       "                                        XGBRegressor(base_score=None,\n",
       "                                                     booster=None,\n",
       "                                                     callbacks=None,\n",
       "                                                     colsample_bylevel=None,\n",
       "                                                     colsample_bynode=None,\n",
       "                                                     colsample_bytree=None,\n",
       "                                                     early_stopping_rounds=None,\n",
       "                                                     enable_categorical=False,\n",
       "                                                     eval_metric=None,\n",
       "                                                     feature_types=None,\n",
       "                                                     gamma=None, gpu_id=None,\n",
       "                                                     grow_policy=None,\n",
       "                                                     importance_type=None,\n",
       "                                                     in...\n",
       "                                                     n_jobs=None,\n",
       "                                                     num_parallel_tree=None,\n",
       "                                                     predictor=None,\n",
       "                                                     random_state=1527, ...))]),\n",
       "             n_jobs=10,\n",
       "             param_grid=[{&#x27;xgb__colsample_bytree&#x27;: [None],\n",
       "                          &#x27;xgb__learning_rate&#x27;: array([0.01      , 0.06444444, 0.11888889, 0.17333333, 0.22777778,\n",
       "       0.28222222, 0.33666667, 0.39111111, 0.44555556, 0.5       ]),\n",
       "                          &#x27;xgb__max_depth&#x27;: [3, 4, 5, 6],\n",
       "                          &#x27;xgb__n_estimators&#x27;: [65], &#x27;xgb__reg_alpha&#x27;: [0.15],\n",
       "                          &#x27;xgb__subsample&#x27;: [None]}])</pre></div></div></div><div class=\"sk-parallel\"><div class=\"sk-parallel-item\"><div class=\"sk-item\"><div class=\"sk-label-container\"><div class=\"sk-label sk-toggleable\"><input class=\"sk-toggleable__control sk-hidden--visually\" id=\"sk-estimator-id-254\" type=\"checkbox\" ><label for=\"sk-estimator-id-254\" class=\"sk-toggleable__label sk-toggleable__label-arrow\">estimator: Pipeline</label><div class=\"sk-toggleable__content\"><pre>Pipeline(steps=[(&#x27;sc&#x27;, StandardScaler()),\n",
       "                (&#x27;xgb&#x27;,\n",
       "                 XGBRegressor(base_score=None, booster=None, callbacks=None,\n",
       "                              colsample_bylevel=None, colsample_bynode=None,\n",
       "                              colsample_bytree=None, early_stopping_rounds=None,\n",
       "                              enable_categorical=False, eval_metric=None,\n",
       "                              feature_types=None, gamma=None, gpu_id=None,\n",
       "                              grow_policy=None, importance_type=None,\n",
       "                              interaction_constraints=None, learning_rate=None,\n",
       "                              max_bin=None, max_cat_threshold=None,\n",
       "                              max_cat_to_onehot=None, max_delta_step=None,\n",
       "                              max_depth=None, max_leaves=None,\n",
       "                              min_child_weight=None, missing=nan,\n",
       "                              monotone_constraints=None, n_estimators=100,\n",
       "                              n_jobs=None, num_parallel_tree=None,\n",
       "                              predictor=None, random_state=1527, ...))])</pre></div></div></div><div class=\"sk-serial\"><div class=\"sk-item\"><div class=\"sk-serial\"><div class=\"sk-item\"><div class=\"sk-estimator sk-toggleable\"><input class=\"sk-toggleable__control sk-hidden--visually\" id=\"sk-estimator-id-255\" type=\"checkbox\" ><label for=\"sk-estimator-id-255\" class=\"sk-toggleable__label sk-toggleable__label-arrow\">StandardScaler</label><div class=\"sk-toggleable__content\"><pre>StandardScaler()</pre></div></div></div><div class=\"sk-item\"><div class=\"sk-estimator sk-toggleable\"><input class=\"sk-toggleable__control sk-hidden--visually\" id=\"sk-estimator-id-256\" type=\"checkbox\" ><label for=\"sk-estimator-id-256\" class=\"sk-toggleable__label sk-toggleable__label-arrow\">XGBRegressor</label><div class=\"sk-toggleable__content\"><pre>XGBRegressor(base_score=None, booster=None, callbacks=None,\n",
       "             colsample_bylevel=None, colsample_bynode=None,\n",
       "             colsample_bytree=None, early_stopping_rounds=None,\n",
       "             enable_categorical=False, eval_metric=None, feature_types=None,\n",
       "             gamma=None, gpu_id=None, grow_policy=None, importance_type=None,\n",
       "             interaction_constraints=None, learning_rate=None, max_bin=None,\n",
       "             max_cat_threshold=None, max_cat_to_onehot=None,\n",
       "             max_delta_step=None, max_depth=None, max_leaves=None,\n",
       "             min_child_weight=None, missing=nan, monotone_constraints=None,\n",
       "             n_estimators=100, n_jobs=None, num_parallel_tree=None,\n",
       "             predictor=None, random_state=1527, ...)</pre></div></div></div></div></div></div></div></div></div></div></div></div>"
      ],
      "text/plain": [
       "GridSearchCV(cv=5,\n",
       "             estimator=Pipeline(steps=[('sc', StandardScaler()),\n",
       "                                       ('xgb',\n",
       "                                        XGBRegressor(base_score=None,\n",
       "                                                     booster=None,\n",
       "                                                     callbacks=None,\n",
       "                                                     colsample_bylevel=None,\n",
       "                                                     colsample_bynode=None,\n",
       "                                                     colsample_bytree=None,\n",
       "                                                     early_stopping_rounds=None,\n",
       "                                                     enable_categorical=False,\n",
       "                                                     eval_metric=None,\n",
       "                                                     feature_types=None,\n",
       "                                                     gamma=None, gpu_id=None,\n",
       "                                                     grow_policy=None,\n",
       "                                                     importance_type=None,\n",
       "                                                     in...\n",
       "                                                     n_jobs=None,\n",
       "                                                     num_parallel_tree=None,\n",
       "                                                     predictor=None,\n",
       "                                                     random_state=1527, ...))]),\n",
       "             n_jobs=10,\n",
       "             param_grid=[{'xgb__colsample_bytree': [None],\n",
       "                          'xgb__learning_rate': array([0.01      , 0.06444444, 0.11888889, 0.17333333, 0.22777778,\n",
       "       0.28222222, 0.33666667, 0.39111111, 0.44555556, 0.5       ]),\n",
       "                          'xgb__max_depth': [3, 4, 5, 6],\n",
       "                          'xgb__n_estimators': [65], 'xgb__reg_alpha': [0.15],\n",
       "                          'xgb__subsample': [None]}])"
      ]
     },
     "execution_count": 585,
     "metadata": {},
     "output_type": "execute_result"
    }
   ],
   "source": [
    "%%time\n",
    "\n",
    "gs_xgb = GridSearchCV(pipe_xgb, pgrid_xgb, cv=5, n_jobs=10)\n",
    "gs_xgb.fit(X_train, y_train)"
   ]
  },
  {
   "cell_type": "code",
   "execution_count": 586,
   "id": "b5ae5fcb-a967-4eae-82fc-858b031b1cfa",
   "metadata": {},
   "outputs": [],
   "source": [
    "# Make predictions for Accuracy Report\n",
    "preds_xgb = gs_xgb.predict(X_test)"
   ]
  },
  {
   "cell_type": "code",
   "execution_count": 587,
   "id": "c31a0106-c4b0-4811-9ec5-cdd279010cea",
   "metadata": {},
   "outputs": [
    {
     "name": "stdout",
     "output_type": "stream",
     "text": [
      "------------- \u001b[1mExtra Trees w/ GridSearch\u001b[0m -------------\n",
      "------------------- Train: 0.8492 -------------------\n",
      "------------------- Test: 0.7852 --------------------\n",
      "Best Params: {'xgb__colsample_bytree': None, 'xgb__learning_rate': 0.06444444444444444, 'xgb__max_depth': 3, 'xgb__n_estimators': 65, 'xgb__reg_alpha': 0.15, 'xgb__subsample': None}\n"
     ]
    }
   ],
   "source": [
    "print(f'------------- {b1}Xtreme Gradient Boosting w/ GridSearch{b0} -------------')\n",
    "print(f'------------------- Train: {round(gs_xgb.score(X_train, y_train),4)} -------------------')\n",
    "print(f'------------------- Test: {round(gs_xgb.score(X_test, y_test),4)} --------------------')\n",
    "print('Best Params:', gs_xgb.best_params_)"
   ]
  },
  {
   "cell_type": "code",
   "execution_count": 588,
   "id": "7d48c9bc-6e74-4d3c-9698-d5cdd322d87b",
   "metadata": {},
   "outputs": [
    {
     "data": {
      "text/plain": [
       "0.009372373183146076"
      ]
     },
     "execution_count": 588,
     "metadata": {},
     "output_type": "execute_result"
    }
   ],
   "source": [
    "mean_squared_error(y_test, preds_xgb)"
   ]
  },
  {
   "cell_type": "code",
   "execution_count": null,
   "id": "d160d7a3-b1d0-46f3-b6a2-d1dee9d73c81",
   "metadata": {},
   "outputs": [],
   "source": []
  },
  {
   "cell_type": "code",
   "execution_count": null,
   "id": "a87c2e80-8fca-4575-beb9-4a254a9163c1",
   "metadata": {},
   "outputs": [],
   "source": []
  },
  {
   "cell_type": "code",
   "execution_count": null,
   "id": "de3c8279-7079-44b5-9321-929372cb60b6",
   "metadata": {},
   "outputs": [],
   "source": []
  },
  {
   "cell_type": "code",
   "execution_count": null,
   "id": "518bf5ac-29ec-4c2b-ad3a-607ecaa7b3f4",
   "metadata": {},
   "outputs": [],
   "source": []
  },
  {
   "cell_type": "code",
   "execution_count": null,
   "id": "9189cae7-390e-4103-8215-f7f87784ff42",
   "metadata": {},
   "outputs": [],
   "source": [
    "## Gradient Boosting Regressor"
   ]
  },
  {
   "cell_type": "code",
   "execution_count": 594,
   "id": "2a16d103-f811-492b-8a71-e22f99dc4553",
   "metadata": {},
   "outputs": [
    {
     "data": {
      "text/plain": [
       "{'memory': None,\n",
       " 'steps': [('sc', StandardScaler()),\n",
       "  ('gb', GradientBoostingRegressor(random_state=1527))],\n",
       " 'verbose': False,\n",
       " 'sc': StandardScaler(),\n",
       " 'gb': GradientBoostingRegressor(random_state=1527),\n",
       " 'sc__copy': True,\n",
       " 'sc__with_mean': True,\n",
       " 'sc__with_std': True,\n",
       " 'gb__alpha': 0.9,\n",
       " 'gb__ccp_alpha': 0.0,\n",
       " 'gb__criterion': 'friedman_mse',\n",
       " 'gb__init': None,\n",
       " 'gb__learning_rate': 0.1,\n",
       " 'gb__loss': 'squared_error',\n",
       " 'gb__max_depth': 3,\n",
       " 'gb__max_features': None,\n",
       " 'gb__max_leaf_nodes': None,\n",
       " 'gb__min_impurity_decrease': 0.0,\n",
       " 'gb__min_samples_leaf': 1,\n",
       " 'gb__min_samples_split': 2,\n",
       " 'gb__min_weight_fraction_leaf': 0.0,\n",
       " 'gb__n_estimators': 100,\n",
       " 'gb__n_iter_no_change': None,\n",
       " 'gb__random_state': 1527,\n",
       " 'gb__subsample': 1.0,\n",
       " 'gb__tol': 0.0001,\n",
       " 'gb__validation_fraction': 0.1,\n",
       " 'gb__verbose': 0,\n",
       " 'gb__warm_start': False}"
      ]
     },
     "execution_count": 594,
     "metadata": {},
     "output_type": "execute_result"
    }
   ],
   "source": [
    "pipe_gb = Pipeline([\n",
    "    ('sc', StandardScaler()),\n",
    "    #('pc', PCA()),\n",
    "    ('gb', GradientBoostingRegressor(random_state=1527))\n",
    "])\n",
    "\n",
    "pipe_gb.get_params()"
   ]
  },
  {
   "cell_type": "code",
   "execution_count": 608,
   "id": "b5b366d7-0f52-4958-8f8d-02f3e4edab31",
   "metadata": {},
   "outputs": [],
   "source": [
    "pgrid_gb = [{\n",
    "     'gb__n_estimators': [30],\n",
    "     'gb__max_depth': [3],\n",
    "     'gb__learning_rate': np.linspace(0.01, .5, 10),\n",
    "     'gb__alpha': np.linspace(0.01, .5, 10)\n",
    "    }]\n",
    "\n",
    "gs_gb = GridSearchCV(pipe_gb, pgrid_gb, cv=5, n_jobs=15)"
   ]
  },
  {
   "cell_type": "code",
   "execution_count": 609,
   "id": "2b72cad8-77d6-4308-b42c-74c78539a277",
   "metadata": {},
   "outputs": [
    {
     "name": "stdout",
     "output_type": "stream",
     "text": [
      "CPU times: total: 969 ms\n",
      "Wall time: 2min 51s\n"
     ]
    },
    {
     "data": {
      "text/html": [
       "<style>#sk-container-id-68 {color: black;background-color: white;}#sk-container-id-68 pre{padding: 0;}#sk-container-id-68 div.sk-toggleable {background-color: white;}#sk-container-id-68 label.sk-toggleable__label {cursor: pointer;display: block;width: 100%;margin-bottom: 0;padding: 0.3em;box-sizing: border-box;text-align: center;}#sk-container-id-68 label.sk-toggleable__label-arrow:before {content: \"▸\";float: left;margin-right: 0.25em;color: #696969;}#sk-container-id-68 label.sk-toggleable__label-arrow:hover:before {color: black;}#sk-container-id-68 div.sk-estimator:hover label.sk-toggleable__label-arrow:before {color: black;}#sk-container-id-68 div.sk-toggleable__content {max-height: 0;max-width: 0;overflow: hidden;text-align: left;background-color: #f0f8ff;}#sk-container-id-68 div.sk-toggleable__content pre {margin: 0.2em;color: black;border-radius: 0.25em;background-color: #f0f8ff;}#sk-container-id-68 input.sk-toggleable__control:checked~div.sk-toggleable__content {max-height: 200px;max-width: 100%;overflow: auto;}#sk-container-id-68 input.sk-toggleable__control:checked~label.sk-toggleable__label-arrow:before {content: \"▾\";}#sk-container-id-68 div.sk-estimator input.sk-toggleable__control:checked~label.sk-toggleable__label {background-color: #d4ebff;}#sk-container-id-68 div.sk-label input.sk-toggleable__control:checked~label.sk-toggleable__label {background-color: #d4ebff;}#sk-container-id-68 input.sk-hidden--visually {border: 0;clip: rect(1px 1px 1px 1px);clip: rect(1px, 1px, 1px, 1px);height: 1px;margin: -1px;overflow: hidden;padding: 0;position: absolute;width: 1px;}#sk-container-id-68 div.sk-estimator {font-family: monospace;background-color: #f0f8ff;border: 1px dotted black;border-radius: 0.25em;box-sizing: border-box;margin-bottom: 0.5em;}#sk-container-id-68 div.sk-estimator:hover {background-color: #d4ebff;}#sk-container-id-68 div.sk-parallel-item::after {content: \"\";width: 100%;border-bottom: 1px solid gray;flex-grow: 1;}#sk-container-id-68 div.sk-label:hover label.sk-toggleable__label {background-color: #d4ebff;}#sk-container-id-68 div.sk-serial::before {content: \"\";position: absolute;border-left: 1px solid gray;box-sizing: border-box;top: 0;bottom: 0;left: 50%;z-index: 0;}#sk-container-id-68 div.sk-serial {display: flex;flex-direction: column;align-items: center;background-color: white;padding-right: 0.2em;padding-left: 0.2em;position: relative;}#sk-container-id-68 div.sk-item {position: relative;z-index: 1;}#sk-container-id-68 div.sk-parallel {display: flex;align-items: stretch;justify-content: center;background-color: white;position: relative;}#sk-container-id-68 div.sk-item::before, #sk-container-id-68 div.sk-parallel-item::before {content: \"\";position: absolute;border-left: 1px solid gray;box-sizing: border-box;top: 0;bottom: 0;left: 50%;z-index: -1;}#sk-container-id-68 div.sk-parallel-item {display: flex;flex-direction: column;z-index: 1;position: relative;background-color: white;}#sk-container-id-68 div.sk-parallel-item:first-child::after {align-self: flex-end;width: 50%;}#sk-container-id-68 div.sk-parallel-item:last-child::after {align-self: flex-start;width: 50%;}#sk-container-id-68 div.sk-parallel-item:only-child::after {width: 0;}#sk-container-id-68 div.sk-dashed-wrapped {border: 1px dashed gray;margin: 0 0.4em 0.5em 0.4em;box-sizing: border-box;padding-bottom: 0.4em;background-color: white;}#sk-container-id-68 div.sk-label label {font-family: monospace;font-weight: bold;display: inline-block;line-height: 1.2em;}#sk-container-id-68 div.sk-label-container {text-align: center;}#sk-container-id-68 div.sk-container {/* jupyter's `normalize.less` sets `[hidden] { display: none; }` but bootstrap.min.css set `[hidden] { display: none !important; }` so we also need the `!important` here to be able to override the default hidden behavior on the sphinx rendered scikit-learn.org. See: https://github.com/scikit-learn/scikit-learn/issues/21755 */display: inline-block !important;position: relative;}#sk-container-id-68 div.sk-text-repr-fallback {display: none;}</style><div id=\"sk-container-id-68\" class=\"sk-top-container\"><div class=\"sk-text-repr-fallback\"><pre>GridSearchCV(cv=5,\n",
       "             estimator=Pipeline(steps=[(&#x27;sc&#x27;, StandardScaler()),\n",
       "                                       (&#x27;gb&#x27;,\n",
       "                                        GradientBoostingRegressor(random_state=1527))]),\n",
       "             n_jobs=10,\n",
       "             param_grid=[{&#x27;gb__alpha&#x27;: array([0.01      , 0.06444444, 0.11888889, 0.17333333, 0.22777778,\n",
       "       0.28222222, 0.33666667, 0.39111111, 0.44555556, 0.5       ]),\n",
       "                          &#x27;gb__learning_rate&#x27;: array([0.01      , 0.06444444, 0.11888889, 0.17333333, 0.22777778,\n",
       "       0.28222222, 0.33666667, 0.39111111, 0.44555556, 0.5       ]),\n",
       "                          &#x27;gb__max_depth&#x27;: [None, 3],\n",
       "                          &#x27;gb__n_estimators&#x27;: [30]}])</pre><b>In a Jupyter environment, please rerun this cell to show the HTML representation or trust the notebook. <br />On GitHub, the HTML representation is unable to render, please try loading this page with nbviewer.org.</b></div><div class=\"sk-container\" hidden><div class=\"sk-item sk-dashed-wrapped\"><div class=\"sk-label-container\"><div class=\"sk-label sk-toggleable\"><input class=\"sk-toggleable__control sk-hidden--visually\" id=\"sk-estimator-id-269\" type=\"checkbox\" ><label for=\"sk-estimator-id-269\" class=\"sk-toggleable__label sk-toggleable__label-arrow\">GridSearchCV</label><div class=\"sk-toggleable__content\"><pre>GridSearchCV(cv=5,\n",
       "             estimator=Pipeline(steps=[(&#x27;sc&#x27;, StandardScaler()),\n",
       "                                       (&#x27;gb&#x27;,\n",
       "                                        GradientBoostingRegressor(random_state=1527))]),\n",
       "             n_jobs=10,\n",
       "             param_grid=[{&#x27;gb__alpha&#x27;: array([0.01      , 0.06444444, 0.11888889, 0.17333333, 0.22777778,\n",
       "       0.28222222, 0.33666667, 0.39111111, 0.44555556, 0.5       ]),\n",
       "                          &#x27;gb__learning_rate&#x27;: array([0.01      , 0.06444444, 0.11888889, 0.17333333, 0.22777778,\n",
       "       0.28222222, 0.33666667, 0.39111111, 0.44555556, 0.5       ]),\n",
       "                          &#x27;gb__max_depth&#x27;: [None, 3],\n",
       "                          &#x27;gb__n_estimators&#x27;: [30]}])</pre></div></div></div><div class=\"sk-parallel\"><div class=\"sk-parallel-item\"><div class=\"sk-item\"><div class=\"sk-label-container\"><div class=\"sk-label sk-toggleable\"><input class=\"sk-toggleable__control sk-hidden--visually\" id=\"sk-estimator-id-270\" type=\"checkbox\" ><label for=\"sk-estimator-id-270\" class=\"sk-toggleable__label sk-toggleable__label-arrow\">estimator: Pipeline</label><div class=\"sk-toggleable__content\"><pre>Pipeline(steps=[(&#x27;sc&#x27;, StandardScaler()),\n",
       "                (&#x27;gb&#x27;, GradientBoostingRegressor(random_state=1527))])</pre></div></div></div><div class=\"sk-serial\"><div class=\"sk-item\"><div class=\"sk-serial\"><div class=\"sk-item\"><div class=\"sk-estimator sk-toggleable\"><input class=\"sk-toggleable__control sk-hidden--visually\" id=\"sk-estimator-id-271\" type=\"checkbox\" ><label for=\"sk-estimator-id-271\" class=\"sk-toggleable__label sk-toggleable__label-arrow\">StandardScaler</label><div class=\"sk-toggleable__content\"><pre>StandardScaler()</pre></div></div></div><div class=\"sk-item\"><div class=\"sk-estimator sk-toggleable\"><input class=\"sk-toggleable__control sk-hidden--visually\" id=\"sk-estimator-id-272\" type=\"checkbox\" ><label for=\"sk-estimator-id-272\" class=\"sk-toggleable__label sk-toggleable__label-arrow\">GradientBoostingRegressor</label><div class=\"sk-toggleable__content\"><pre>GradientBoostingRegressor(random_state=1527)</pre></div></div></div></div></div></div></div></div></div></div></div></div>"
      ],
      "text/plain": [
       "GridSearchCV(cv=5,\n",
       "             estimator=Pipeline(steps=[('sc', StandardScaler()),\n",
       "                                       ('gb',\n",
       "                                        GradientBoostingRegressor(random_state=1527))]),\n",
       "             n_jobs=10,\n",
       "             param_grid=[{'gb__alpha': array([0.01      , 0.06444444, 0.11888889, 0.17333333, 0.22777778,\n",
       "       0.28222222, 0.33666667, 0.39111111, 0.44555556, 0.5       ]),\n",
       "                          'gb__learning_rate': array([0.01      , 0.06444444, 0.11888889, 0.17333333, 0.22777778,\n",
       "       0.28222222, 0.33666667, 0.39111111, 0.44555556, 0.5       ]),\n",
       "                          'gb__max_depth': [None, 3],\n",
       "                          'gb__n_estimators': [30]}])"
      ]
     },
     "execution_count": 609,
     "metadata": {},
     "output_type": "execute_result"
    }
   ],
   "source": [
    "%%time\n",
    "\n",
    "gs_gb = GridSearchCV(pipe_gb, pgrid_gb, cv=5, n_jobs=10)\n",
    "gs_gb.fit(X_train, y_train)"
   ]
  },
  {
   "cell_type": "code",
   "execution_count": 610,
   "id": "3e0fd069-d9b3-4e8e-a952-1719f005f7be",
   "metadata": {},
   "outputs": [],
   "source": [
    "# Make predictions for Accuracy Report\n",
    "preds_gb = gs_gb.predict(X_test)"
   ]
  },
  {
   "cell_type": "code",
   "execution_count": 611,
   "id": "221783df-14cf-4e73-bdab-994edd57c15e",
   "metadata": {},
   "outputs": [
    {
     "name": "stdout",
     "output_type": "stream",
     "text": [
      "------------- \u001b[1mExtra Trees w/ GridSearch\u001b[0m -------------\n",
      "------------------- Train: 0.8651 -------------------\n",
      "------------------- Test: 0.7998 --------------------\n",
      "Best Params: {'gb__alpha': 0.01, 'gb__learning_rate': 0.17333333333333334, 'gb__max_depth': 3, 'gb__n_estimators': 30}\n"
     ]
    }
   ],
   "source": [
    "print(f'------------- {b1}Gradient Boosting w/ GridSearch{b0} -------------')\n",
    "print(f'------------------- Train: {round(gs_gb.score(X_train, y_train),4)} -------------------')\n",
    "print(f'------------------- Test: {round(gs_gb.score(X_test, y_test),4)} --------------------')\n",
    "print('Best Params:', gs_gb.best_params_)"
   ]
  },
  {
   "cell_type": "code",
   "execution_count": 612,
   "id": "d8623f41-280a-4046-8079-f04b65e4048a",
   "metadata": {},
   "outputs": [
    {
     "data": {
      "text/plain": [
       "0.00873423257870833"
      ]
     },
     "execution_count": 612,
     "metadata": {},
     "output_type": "execute_result"
    }
   ],
   "source": [
    "mean_squared_error(y_test, preds_gb)"
   ]
  },
  {
   "cell_type": "code",
   "execution_count": null,
   "id": "6aa26044-1c3c-43da-adbe-e70d3b28c509",
   "metadata": {},
   "outputs": [],
   "source": []
  },
  {
   "cell_type": "code",
   "execution_count": null,
   "id": "7166ea8f-22ed-4cf1-816d-9f6c50c3e9d8",
   "metadata": {},
   "outputs": [],
   "source": []
  },
  {
   "cell_type": "code",
   "execution_count": null,
   "id": "f3f9391f-2ddb-4985-b377-325d755c2ce7",
   "metadata": {},
   "outputs": [],
   "source": []
  },
  {
   "cell_type": "code",
   "execution_count": 615,
   "id": "c51998e4-2f55-41ad-a45e-bb503f28fe97",
   "metadata": {},
   "outputs": [
    {
     "data": {
      "text/plain": [
       "{'memory': None,\n",
       " 'steps': [('sc', StandardScaler()),\n",
       "  ('ada', AdaBoostRegressor(random_state=1527))],\n",
       " 'verbose': False,\n",
       " 'sc': StandardScaler(),\n",
       " 'ada': AdaBoostRegressor(random_state=1527),\n",
       " 'sc__copy': True,\n",
       " 'sc__with_mean': True,\n",
       " 'sc__with_std': True,\n",
       " 'ada__base_estimator': 'deprecated',\n",
       " 'ada__estimator': None,\n",
       " 'ada__learning_rate': 1.0,\n",
       " 'ada__loss': 'linear',\n",
       " 'ada__n_estimators': 50,\n",
       " 'ada__random_state': 1527}"
      ]
     },
     "execution_count": 615,
     "metadata": {},
     "output_type": "execute_result"
    }
   ],
   "source": [
    "pipe_ada = Pipeline([\n",
    "    ('sc', StandardScaler()),\n",
    "    #('pc', PCA()),\n",
    "    ('ada', AdaBoostRegressor(random_state=1527))\n",
    "])\n",
    "\n",
    "pipe_ada.get_params()"
   ]
  },
  {
   "cell_type": "code",
   "execution_count": 648,
   "id": "3e7c4d23-d374-4ddc-90ed-337b2af55f99",
   "metadata": {},
   "outputs": [],
   "source": [
    "pgrid_ada = [{\n",
    "     'ada__n_estimators': [70],\n",
    "     'ada__learning_rate': np.linspace(0.01, .5, 15)\n",
    "    }]\n",
    "\n",
    "gs_ada = GridSearchCV(pipe_ada, pgrid_ada, cv=5, n_jobs=5)"
   ]
  },
  {
   "cell_type": "code",
   "execution_count": 649,
   "id": "04a1d606-de3d-4c26-a908-50aa8ecd8d85",
   "metadata": {},
   "outputs": [
    {
     "name": "stdout",
     "output_type": "stream",
     "text": [
      "CPU times: total: 219 ms\n",
      "Wall time: 10.4 s\n"
     ]
    },
    {
     "data": {
      "text/html": [
       "<style>#sk-container-id-76 {color: black;background-color: white;}#sk-container-id-76 pre{padding: 0;}#sk-container-id-76 div.sk-toggleable {background-color: white;}#sk-container-id-76 label.sk-toggleable__label {cursor: pointer;display: block;width: 100%;margin-bottom: 0;padding: 0.3em;box-sizing: border-box;text-align: center;}#sk-container-id-76 label.sk-toggleable__label-arrow:before {content: \"▸\";float: left;margin-right: 0.25em;color: #696969;}#sk-container-id-76 label.sk-toggleable__label-arrow:hover:before {color: black;}#sk-container-id-76 div.sk-estimator:hover label.sk-toggleable__label-arrow:before {color: black;}#sk-container-id-76 div.sk-toggleable__content {max-height: 0;max-width: 0;overflow: hidden;text-align: left;background-color: #f0f8ff;}#sk-container-id-76 div.sk-toggleable__content pre {margin: 0.2em;color: black;border-radius: 0.25em;background-color: #f0f8ff;}#sk-container-id-76 input.sk-toggleable__control:checked~div.sk-toggleable__content {max-height: 200px;max-width: 100%;overflow: auto;}#sk-container-id-76 input.sk-toggleable__control:checked~label.sk-toggleable__label-arrow:before {content: \"▾\";}#sk-container-id-76 div.sk-estimator input.sk-toggleable__control:checked~label.sk-toggleable__label {background-color: #d4ebff;}#sk-container-id-76 div.sk-label input.sk-toggleable__control:checked~label.sk-toggleable__label {background-color: #d4ebff;}#sk-container-id-76 input.sk-hidden--visually {border: 0;clip: rect(1px 1px 1px 1px);clip: rect(1px, 1px, 1px, 1px);height: 1px;margin: -1px;overflow: hidden;padding: 0;position: absolute;width: 1px;}#sk-container-id-76 div.sk-estimator {font-family: monospace;background-color: #f0f8ff;border: 1px dotted black;border-radius: 0.25em;box-sizing: border-box;margin-bottom: 0.5em;}#sk-container-id-76 div.sk-estimator:hover {background-color: #d4ebff;}#sk-container-id-76 div.sk-parallel-item::after {content: \"\";width: 100%;border-bottom: 1px solid gray;flex-grow: 1;}#sk-container-id-76 div.sk-label:hover label.sk-toggleable__label {background-color: #d4ebff;}#sk-container-id-76 div.sk-serial::before {content: \"\";position: absolute;border-left: 1px solid gray;box-sizing: border-box;top: 0;bottom: 0;left: 50%;z-index: 0;}#sk-container-id-76 div.sk-serial {display: flex;flex-direction: column;align-items: center;background-color: white;padding-right: 0.2em;padding-left: 0.2em;position: relative;}#sk-container-id-76 div.sk-item {position: relative;z-index: 1;}#sk-container-id-76 div.sk-parallel {display: flex;align-items: stretch;justify-content: center;background-color: white;position: relative;}#sk-container-id-76 div.sk-item::before, #sk-container-id-76 div.sk-parallel-item::before {content: \"\";position: absolute;border-left: 1px solid gray;box-sizing: border-box;top: 0;bottom: 0;left: 50%;z-index: -1;}#sk-container-id-76 div.sk-parallel-item {display: flex;flex-direction: column;z-index: 1;position: relative;background-color: white;}#sk-container-id-76 div.sk-parallel-item:first-child::after {align-self: flex-end;width: 50%;}#sk-container-id-76 div.sk-parallel-item:last-child::after {align-self: flex-start;width: 50%;}#sk-container-id-76 div.sk-parallel-item:only-child::after {width: 0;}#sk-container-id-76 div.sk-dashed-wrapped {border: 1px dashed gray;margin: 0 0.4em 0.5em 0.4em;box-sizing: border-box;padding-bottom: 0.4em;background-color: white;}#sk-container-id-76 div.sk-label label {font-family: monospace;font-weight: bold;display: inline-block;line-height: 1.2em;}#sk-container-id-76 div.sk-label-container {text-align: center;}#sk-container-id-76 div.sk-container {/* jupyter's `normalize.less` sets `[hidden] { display: none; }` but bootstrap.min.css set `[hidden] { display: none !important; }` so we also need the `!important` here to be able to override the default hidden behavior on the sphinx rendered scikit-learn.org. See: https://github.com/scikit-learn/scikit-learn/issues/21755 */display: inline-block !important;position: relative;}#sk-container-id-76 div.sk-text-repr-fallback {display: none;}</style><div id=\"sk-container-id-76\" class=\"sk-top-container\"><div class=\"sk-text-repr-fallback\"><pre>GridSearchCV(cv=5,\n",
       "             estimator=Pipeline(steps=[(&#x27;sc&#x27;, StandardScaler()),\n",
       "                                       (&#x27;ada&#x27;,\n",
       "                                        AdaBoostRegressor(random_state=1527))]),\n",
       "             n_jobs=5,\n",
       "             param_grid=[{&#x27;ada__learning_rate&#x27;: array([0.01 , 0.045, 0.08 , 0.115, 0.15 , 0.185, 0.22 , 0.255, 0.29 ,\n",
       "       0.325, 0.36 , 0.395, 0.43 , 0.465, 0.5  ]),\n",
       "                          &#x27;ada__n_estimators&#x27;: [70]}])</pre><b>In a Jupyter environment, please rerun this cell to show the HTML representation or trust the notebook. <br />On GitHub, the HTML representation is unable to render, please try loading this page with nbviewer.org.</b></div><div class=\"sk-container\" hidden><div class=\"sk-item sk-dashed-wrapped\"><div class=\"sk-label-container\"><div class=\"sk-label sk-toggleable\"><input class=\"sk-toggleable__control sk-hidden--visually\" id=\"sk-estimator-id-301\" type=\"checkbox\" ><label for=\"sk-estimator-id-301\" class=\"sk-toggleable__label sk-toggleable__label-arrow\">GridSearchCV</label><div class=\"sk-toggleable__content\"><pre>GridSearchCV(cv=5,\n",
       "             estimator=Pipeline(steps=[(&#x27;sc&#x27;, StandardScaler()),\n",
       "                                       (&#x27;ada&#x27;,\n",
       "                                        AdaBoostRegressor(random_state=1527))]),\n",
       "             n_jobs=5,\n",
       "             param_grid=[{&#x27;ada__learning_rate&#x27;: array([0.01 , 0.045, 0.08 , 0.115, 0.15 , 0.185, 0.22 , 0.255, 0.29 ,\n",
       "       0.325, 0.36 , 0.395, 0.43 , 0.465, 0.5  ]),\n",
       "                          &#x27;ada__n_estimators&#x27;: [70]}])</pre></div></div></div><div class=\"sk-parallel\"><div class=\"sk-parallel-item\"><div class=\"sk-item\"><div class=\"sk-label-container\"><div class=\"sk-label sk-toggleable\"><input class=\"sk-toggleable__control sk-hidden--visually\" id=\"sk-estimator-id-302\" type=\"checkbox\" ><label for=\"sk-estimator-id-302\" class=\"sk-toggleable__label sk-toggleable__label-arrow\">estimator: Pipeline</label><div class=\"sk-toggleable__content\"><pre>Pipeline(steps=[(&#x27;sc&#x27;, StandardScaler()),\n",
       "                (&#x27;ada&#x27;, AdaBoostRegressor(random_state=1527))])</pre></div></div></div><div class=\"sk-serial\"><div class=\"sk-item\"><div class=\"sk-serial\"><div class=\"sk-item\"><div class=\"sk-estimator sk-toggleable\"><input class=\"sk-toggleable__control sk-hidden--visually\" id=\"sk-estimator-id-303\" type=\"checkbox\" ><label for=\"sk-estimator-id-303\" class=\"sk-toggleable__label sk-toggleable__label-arrow\">StandardScaler</label><div class=\"sk-toggleable__content\"><pre>StandardScaler()</pre></div></div></div><div class=\"sk-item\"><div class=\"sk-estimator sk-toggleable\"><input class=\"sk-toggleable__control sk-hidden--visually\" id=\"sk-estimator-id-304\" type=\"checkbox\" ><label for=\"sk-estimator-id-304\" class=\"sk-toggleable__label sk-toggleable__label-arrow\">AdaBoostRegressor</label><div class=\"sk-toggleable__content\"><pre>AdaBoostRegressor(random_state=1527)</pre></div></div></div></div></div></div></div></div></div></div></div></div>"
      ],
      "text/plain": [
       "GridSearchCV(cv=5,\n",
       "             estimator=Pipeline(steps=[('sc', StandardScaler()),\n",
       "                                       ('ada',\n",
       "                                        AdaBoostRegressor(random_state=1527))]),\n",
       "             n_jobs=5,\n",
       "             param_grid=[{'ada__learning_rate': array([0.01 , 0.045, 0.08 , 0.115, 0.15 , 0.185, 0.22 , 0.255, 0.29 ,\n",
       "       0.325, 0.36 , 0.395, 0.43 , 0.465, 0.5  ]),\n",
       "                          'ada__n_estimators': [70]}])"
      ]
     },
     "execution_count": 649,
     "metadata": {},
     "output_type": "execute_result"
    }
   ],
   "source": [
    "%%time\n",
    "\n",
    "gs_ada = GridSearchCV(pipe_ada, pgrid_ada, cv=5, n_jobs=5)\n",
    "gs_ada.fit(X_train, y_train)"
   ]
  },
  {
   "cell_type": "code",
   "execution_count": 650,
   "id": "c75d4d37-ba23-4338-83b2-ad61bda6dd81",
   "metadata": {},
   "outputs": [],
   "source": [
    "# Make predictions for Accuracy Report\n",
    "preds_ada = gs_ada.predict(X_test)"
   ]
  },
  {
   "cell_type": "code",
   "execution_count": 651,
   "id": "a19c514b-315a-4fc6-a325-62e50b2ce759",
   "metadata": {},
   "outputs": [
    {
     "name": "stdout",
     "output_type": "stream",
     "text": [
      "------------- \u001b[1mAdaBoost w/ GridSearch\u001b[0m -------------\n",
      "------------------- Train: 0.7784 -------------------\n",
      "------------------- Test: 0.7338 --------------------\n",
      "Best Params: {'ada__learning_rate': 0.07999999999999999, 'ada__n_estimators': 70}\n"
     ]
    }
   ],
   "source": [
    "print(f'------------- {b1}AdaBoost w/ GridSearch{b0} -------------')\n",
    "print(f'------------------- Train: {round(gs_ada.score(X_train, y_train),4)} -------------------')\n",
    "print(f'------------------- Test: {round(gs_ada.score(X_test, y_test),4)} --------------------')\n",
    "print('Best Params:', gs_ada.best_params_)"
   ]
  },
  {
   "cell_type": "code",
   "execution_count": 652,
   "id": "abd006cd-0111-4ead-8970-e491e4cf1cff",
   "metadata": {},
   "outputs": [
    {
     "data": {
      "text/plain": [
       "0.011611047634190803"
      ]
     },
     "execution_count": 652,
     "metadata": {},
     "output_type": "execute_result"
    }
   ],
   "source": [
    "mean_squared_error(y_test, preds_ada)"
   ]
  },
  {
   "cell_type": "code",
   "execution_count": null,
   "id": "f330d5b7-1155-44e9-9fb4-e4551142aa6c",
   "metadata": {},
   "outputs": [],
   "source": []
  },
  {
   "cell_type": "code",
   "execution_count": null,
   "id": "5c648eed-b145-4ba3-af9e-c7ec7e6ac9d2",
   "metadata": {},
   "outputs": [],
   "source": []
  },
  {
   "cell_type": "code",
   "execution_count": null,
   "id": "686f038c-c1ba-410a-8c49-7b44a12854ee",
   "metadata": {},
   "outputs": [],
   "source": []
  },
  {
   "cell_type": "code",
   "execution_count": null,
   "id": "0b7231a7-c80d-48e3-a0f8-896ac7d9c45b",
   "metadata": {},
   "outputs": [],
   "source": []
  },
  {
   "cell_type": "code",
   "execution_count": 23,
   "id": "be5a43cd-20f6-40b7-9a35-a72e0624e1d7",
   "metadata": {},
   "outputs": [
    {
     "data": {
      "text/plain": [
       "{'memory': None,\n",
       " 'steps': [('sc', StandardScaler()),\n",
       "  ('lgbm', LGBMRegressor(random_state=1527))],\n",
       " 'verbose': False,\n",
       " 'sc': StandardScaler(),\n",
       " 'lgbm': LGBMRegressor(random_state=1527),\n",
       " 'sc__copy': True,\n",
       " 'sc__with_mean': True,\n",
       " 'sc__with_std': True,\n",
       " 'lgbm__boosting_type': 'gbdt',\n",
       " 'lgbm__class_weight': None,\n",
       " 'lgbm__colsample_bytree': 1.0,\n",
       " 'lgbm__importance_type': 'split',\n",
       " 'lgbm__learning_rate': 0.1,\n",
       " 'lgbm__max_depth': -1,\n",
       " 'lgbm__min_child_samples': 20,\n",
       " 'lgbm__min_child_weight': 0.001,\n",
       " 'lgbm__min_split_gain': 0.0,\n",
       " 'lgbm__n_estimators': 100,\n",
       " 'lgbm__n_jobs': None,\n",
       " 'lgbm__num_leaves': 31,\n",
       " 'lgbm__objective': None,\n",
       " 'lgbm__random_state': 1527,\n",
       " 'lgbm__reg_alpha': 0.0,\n",
       " 'lgbm__reg_lambda': 0.0,\n",
       " 'lgbm__subsample': 1.0,\n",
       " 'lgbm__subsample_for_bin': 200000,\n",
       " 'lgbm__subsample_freq': 0}"
      ]
     },
     "execution_count": 23,
     "metadata": {},
     "output_type": "execute_result"
    }
   ],
   "source": [
    "pipe_lgbm = Pipeline([\n",
    "    ('sc', StandardScaler()),\n",
    "    #('pc', PCA()),\n",
    "    ('lgbm', LGBMRegressor(random_state=1527))\n",
    "])\n",
    "\n",
    "pipe_lgbm.get_params()"
   ]
  },
  {
   "cell_type": "code",
   "execution_count": 33,
   "id": "7c4c7a67-3cbc-4ced-ba37-5dc7d0632a7b",
   "metadata": {},
   "outputs": [],
   "source": [
    "pgrid_lgbm = [{\n",
    "     'lgbm__learning_rate': np.linspace(0.01, .5, 15),\n",
    "     'lgbm__max_depth': [5],\n",
    "     'lgbm__n_estimators': [100],\n",
    "     'lgbm__num_leaves': [12],\n",
    "    }]\n",
    "\n",
    "gs_lgbm = GridSearchCV(pipe_lgbm, pgrid_lgbm, cv=5, n_jobs=5)\n",
    "\n",
    "81.95%"
   ]
  },
  {
   "cell_type": "code",
   "execution_count": 61,
   "id": "220672b8-d98d-4c22-bcf9-d5c46473bbd5",
   "metadata": {},
   "outputs": [
    {
     "name": "stdout",
     "output_type": "stream",
     "text": [
      "[LightGBM] [Warning] Auto-choosing col-wise multi-threading, the overhead of testing was 0.000458 seconds.\n",
      "You can set `force_col_wise=true` to remove the overhead.\n",
      "[LightGBM] [Info] Total Bins 2348\n",
      "[LightGBM] [Info] Number of data points in the train set: 3554, number of used features: 20\n",
      "[LightGBM] [Info] Start training from score 0.068363\n",
      "[LightGBM] [Warning] No further splits with positive gain, best gain: -inf\n",
      "[LightGBM] [Warning] No further splits with positive gain, best gain: -inf\n",
      "[LightGBM] [Warning] No further splits with positive gain, best gain: -inf\n",
      "[LightGBM] [Warning] No further splits with positive gain, best gain: -inf\n",
      "[LightGBM] [Warning] No further splits with positive gain, best gain: -inf\n",
      "[LightGBM] [Warning] No further splits with positive gain, best gain: -inf\n",
      "[LightGBM] [Warning] No further splits with positive gain, best gain: -inf\n",
      "[LightGBM] [Warning] No further splits with positive gain, best gain: -inf\n",
      "[LightGBM] [Warning] No further splits with positive gain, best gain: -inf\n",
      "[LightGBM] [Warning] No further splits with positive gain, best gain: -inf\n",
      "[LightGBM] [Warning] No further splits with positive gain, best gain: -inf\n",
      "[LightGBM] [Warning] No further splits with positive gain, best gain: -inf\n",
      "CPU times: total: 422 ms\n",
      "Wall time: 2.64 s\n"
     ]
    },
    {
     "data": {
      "text/html": [
       "<style>#sk-container-id-11 {color: black;background-color: white;}#sk-container-id-11 pre{padding: 0;}#sk-container-id-11 div.sk-toggleable {background-color: white;}#sk-container-id-11 label.sk-toggleable__label {cursor: pointer;display: block;width: 100%;margin-bottom: 0;padding: 0.3em;box-sizing: border-box;text-align: center;}#sk-container-id-11 label.sk-toggleable__label-arrow:before {content: \"▸\";float: left;margin-right: 0.25em;color: #696969;}#sk-container-id-11 label.sk-toggleable__label-arrow:hover:before {color: black;}#sk-container-id-11 div.sk-estimator:hover label.sk-toggleable__label-arrow:before {color: black;}#sk-container-id-11 div.sk-toggleable__content {max-height: 0;max-width: 0;overflow: hidden;text-align: left;background-color: #f0f8ff;}#sk-container-id-11 div.sk-toggleable__content pre {margin: 0.2em;color: black;border-radius: 0.25em;background-color: #f0f8ff;}#sk-container-id-11 input.sk-toggleable__control:checked~div.sk-toggleable__content {max-height: 200px;max-width: 100%;overflow: auto;}#sk-container-id-11 input.sk-toggleable__control:checked~label.sk-toggleable__label-arrow:before {content: \"▾\";}#sk-container-id-11 div.sk-estimator input.sk-toggleable__control:checked~label.sk-toggleable__label {background-color: #d4ebff;}#sk-container-id-11 div.sk-label input.sk-toggleable__control:checked~label.sk-toggleable__label {background-color: #d4ebff;}#sk-container-id-11 input.sk-hidden--visually {border: 0;clip: rect(1px 1px 1px 1px);clip: rect(1px, 1px, 1px, 1px);height: 1px;margin: -1px;overflow: hidden;padding: 0;position: absolute;width: 1px;}#sk-container-id-11 div.sk-estimator {font-family: monospace;background-color: #f0f8ff;border: 1px dotted black;border-radius: 0.25em;box-sizing: border-box;margin-bottom: 0.5em;}#sk-container-id-11 div.sk-estimator:hover {background-color: #d4ebff;}#sk-container-id-11 div.sk-parallel-item::after {content: \"\";width: 100%;border-bottom: 1px solid gray;flex-grow: 1;}#sk-container-id-11 div.sk-label:hover label.sk-toggleable__label {background-color: #d4ebff;}#sk-container-id-11 div.sk-serial::before {content: \"\";position: absolute;border-left: 1px solid gray;box-sizing: border-box;top: 0;bottom: 0;left: 50%;z-index: 0;}#sk-container-id-11 div.sk-serial {display: flex;flex-direction: column;align-items: center;background-color: white;padding-right: 0.2em;padding-left: 0.2em;position: relative;}#sk-container-id-11 div.sk-item {position: relative;z-index: 1;}#sk-container-id-11 div.sk-parallel {display: flex;align-items: stretch;justify-content: center;background-color: white;position: relative;}#sk-container-id-11 div.sk-item::before, #sk-container-id-11 div.sk-parallel-item::before {content: \"\";position: absolute;border-left: 1px solid gray;box-sizing: border-box;top: 0;bottom: 0;left: 50%;z-index: -1;}#sk-container-id-11 div.sk-parallel-item {display: flex;flex-direction: column;z-index: 1;position: relative;background-color: white;}#sk-container-id-11 div.sk-parallel-item:first-child::after {align-self: flex-end;width: 50%;}#sk-container-id-11 div.sk-parallel-item:last-child::after {align-self: flex-start;width: 50%;}#sk-container-id-11 div.sk-parallel-item:only-child::after {width: 0;}#sk-container-id-11 div.sk-dashed-wrapped {border: 1px dashed gray;margin: 0 0.4em 0.5em 0.4em;box-sizing: border-box;padding-bottom: 0.4em;background-color: white;}#sk-container-id-11 div.sk-label label {font-family: monospace;font-weight: bold;display: inline-block;line-height: 1.2em;}#sk-container-id-11 div.sk-label-container {text-align: center;}#sk-container-id-11 div.sk-container {/* jupyter's `normalize.less` sets `[hidden] { display: none; }` but bootstrap.min.css set `[hidden] { display: none !important; }` so we also need the `!important` here to be able to override the default hidden behavior on the sphinx rendered scikit-learn.org. See: https://github.com/scikit-learn/scikit-learn/issues/21755 */display: inline-block !important;position: relative;}#sk-container-id-11 div.sk-text-repr-fallback {display: none;}</style><div id=\"sk-container-id-11\" class=\"sk-top-container\"><div class=\"sk-text-repr-fallback\"><pre>GridSearchCV(cv=5,\n",
       "             estimator=Pipeline(steps=[(&#x27;sc&#x27;, StandardScaler()),\n",
       "                                       (&#x27;lgbm&#x27;,\n",
       "                                        LGBMRegressor(random_state=1527))]),\n",
       "             n_jobs=5,\n",
       "             param_grid=[{&#x27;lgbm__learning_rate&#x27;: array([0.01 , 0.045, 0.08 , 0.115, 0.15 , 0.185, 0.22 , 0.255, 0.29 ,\n",
       "       0.325, 0.36 , 0.395, 0.43 , 0.465, 0.5  ]),\n",
       "                          &#x27;lgbm__max_depth&#x27;: [5], &#x27;lgbm__n_estimators&#x27;: [100],\n",
       "                          &#x27;lgbm__num_leaves&#x27;: [12]}])</pre><b>In a Jupyter environment, please rerun this cell to show the HTML representation or trust the notebook. <br />On GitHub, the HTML representation is unable to render, please try loading this page with nbviewer.org.</b></div><div class=\"sk-container\" hidden><div class=\"sk-item sk-dashed-wrapped\"><div class=\"sk-label-container\"><div class=\"sk-label sk-toggleable\"><input class=\"sk-toggleable__control sk-hidden--visually\" id=\"sk-estimator-id-41\" type=\"checkbox\" ><label for=\"sk-estimator-id-41\" class=\"sk-toggleable__label sk-toggleable__label-arrow\">GridSearchCV</label><div class=\"sk-toggleable__content\"><pre>GridSearchCV(cv=5,\n",
       "             estimator=Pipeline(steps=[(&#x27;sc&#x27;, StandardScaler()),\n",
       "                                       (&#x27;lgbm&#x27;,\n",
       "                                        LGBMRegressor(random_state=1527))]),\n",
       "             n_jobs=5,\n",
       "             param_grid=[{&#x27;lgbm__learning_rate&#x27;: array([0.01 , 0.045, 0.08 , 0.115, 0.15 , 0.185, 0.22 , 0.255, 0.29 ,\n",
       "       0.325, 0.36 , 0.395, 0.43 , 0.465, 0.5  ]),\n",
       "                          &#x27;lgbm__max_depth&#x27;: [5], &#x27;lgbm__n_estimators&#x27;: [100],\n",
       "                          &#x27;lgbm__num_leaves&#x27;: [12]}])</pre></div></div></div><div class=\"sk-parallel\"><div class=\"sk-parallel-item\"><div class=\"sk-item\"><div class=\"sk-label-container\"><div class=\"sk-label sk-toggleable\"><input class=\"sk-toggleable__control sk-hidden--visually\" id=\"sk-estimator-id-42\" type=\"checkbox\" ><label for=\"sk-estimator-id-42\" class=\"sk-toggleable__label sk-toggleable__label-arrow\">estimator: Pipeline</label><div class=\"sk-toggleable__content\"><pre>Pipeline(steps=[(&#x27;sc&#x27;, StandardScaler()),\n",
       "                (&#x27;lgbm&#x27;, LGBMRegressor(random_state=1527))])</pre></div></div></div><div class=\"sk-serial\"><div class=\"sk-item\"><div class=\"sk-serial\"><div class=\"sk-item\"><div class=\"sk-estimator sk-toggleable\"><input class=\"sk-toggleable__control sk-hidden--visually\" id=\"sk-estimator-id-43\" type=\"checkbox\" ><label for=\"sk-estimator-id-43\" class=\"sk-toggleable__label sk-toggleable__label-arrow\">StandardScaler</label><div class=\"sk-toggleable__content\"><pre>StandardScaler()</pre></div></div></div><div class=\"sk-item\"><div class=\"sk-estimator sk-toggleable\"><input class=\"sk-toggleable__control sk-hidden--visually\" id=\"sk-estimator-id-44\" type=\"checkbox\" ><label for=\"sk-estimator-id-44\" class=\"sk-toggleable__label sk-toggleable__label-arrow\">LGBMRegressor</label><div class=\"sk-toggleable__content\"><pre>LGBMRegressor(random_state=1527)</pre></div></div></div></div></div></div></div></div></div></div></div></div>"
      ],
      "text/plain": [
       "GridSearchCV(cv=5,\n",
       "             estimator=Pipeline(steps=[('sc', StandardScaler()),\n",
       "                                       ('lgbm',\n",
       "                                        LGBMRegressor(random_state=1527))]),\n",
       "             n_jobs=5,\n",
       "             param_grid=[{'lgbm__learning_rate': array([0.01 , 0.045, 0.08 , 0.115, 0.15 , 0.185, 0.22 , 0.255, 0.29 ,\n",
       "       0.325, 0.36 , 0.395, 0.43 , 0.465, 0.5  ]),\n",
       "                          'lgbm__max_depth': [5], 'lgbm__n_estimators': [100],\n",
       "                          'lgbm__num_leaves': [12]}])"
      ]
     },
     "execution_count": 61,
     "metadata": {},
     "output_type": "execute_result"
    }
   ],
   "source": [
    "%%time\n",
    "\n",
    "gs_lgbm = GridSearchCV(pipe_lgbm, pgrid_lgbm, cv=5, n_jobs=5)\n",
    "gs_lgbm.fit(X_train, y_train)"
   ]
  },
  {
   "cell_type": "code",
   "execution_count": 62,
   "id": "ca65de3f-1a16-4ea1-89e1-34d9ef4b695c",
   "metadata": {},
   "outputs": [],
   "source": [
    "# Make predictions for Accuracy Report\n",
    "preds_lgbm = gs_lgbm.predict(X_test)"
   ]
  },
  {
   "cell_type": "code",
   "execution_count": 63,
   "id": "66a8dd6f-be53-4ff1-af4e-e4037fff6c72",
   "metadata": {},
   "outputs": [
    {
     "name": "stdout",
     "output_type": "stream",
     "text": [
      "------------- \u001b[1mLGBM w/ GridSearch\u001b[0m -------------\n",
      "------------------- Train: 0.8886 -------------------\n",
      "------------------- Test: 0.8195 --------------------\n",
      "Best Params: {'lgbm__learning_rate': 0.045, 'lgbm__max_depth': 5, 'lgbm__n_estimators': 100, 'lgbm__num_leaves': 12}\n"
     ]
    }
   ],
   "source": [
    "print(f'------------- {b1}LGBM w/ GridSearch{b0} -------------')\n",
    "print(f'------------------- Train: {round(gs_lgbm.score(X_train, y_train),4)} -------------------')\n",
    "print(f'------------------- Test: {round(gs_lgbm.score(X_test, y_test),4)} --------------------')\n",
    "print('Best Params:', gs_lgbm.best_params_)"
   ]
  },
  {
   "cell_type": "code",
   "execution_count": 65,
   "id": "fe4611c0-f4af-47a0-96c1-ad9c99fcacbc",
   "metadata": {},
   "outputs": [
    {
     "data": {
      "text/plain": [
       "0.007875992402257342"
      ]
     },
     "execution_count": 65,
     "metadata": {},
     "output_type": "execute_result"
    }
   ],
   "source": [
    "mean_squared_error(y_test, preds_lgbm)"
   ]
  },
  {
   "cell_type": "code",
   "execution_count": null,
   "id": "2cde608d-7335-4316-8920-5c17b68763bc",
   "metadata": {},
   "outputs": [],
   "source": []
  },
  {
   "cell_type": "code",
   "execution_count": null,
   "id": "9547b2c8-4bf7-4612-81f9-098aa7ac66a2",
   "metadata": {},
   "outputs": [],
   "source": []
  },
  {
   "cell_type": "code",
   "execution_count": null,
   "id": "82e9d638-ae3f-4fb2-90ab-084a6b598af8",
   "metadata": {},
   "outputs": [],
   "source": []
  },
  {
   "cell_type": "code",
   "execution_count": null,
   "id": "30adb2b4-2ec4-4759-9848-7f9ec66ca0be",
   "metadata": {},
   "outputs": [],
   "source": []
  },
  {
   "cell_type": "code",
   "execution_count": null,
   "id": "cea320d5-9d8e-43ef-82cd-d8181485b3dd",
   "metadata": {},
   "outputs": [],
   "source": []
  },
  {
   "cell_type": "code",
   "execution_count": null,
   "id": "0a9e3c84-c250-4be2-a3e2-f68eb7bd82a8",
   "metadata": {},
   "outputs": [],
   "source": []
  },
  {
   "cell_type": "code",
   "execution_count": null,
   "id": "7e7c2129-2463-4396-8866-036dec0b6454",
   "metadata": {},
   "outputs": [],
   "source": []
  },
  {
   "cell_type": "code",
   "execution_count": null,
   "id": "c3d530ac-079a-4027-b047-79ba9cccf588",
   "metadata": {},
   "outputs": [],
   "source": []
  },
  {
   "cell_type": "code",
   "execution_count": null,
   "id": "a2a7e8a1-d46a-43cf-b29e-c278a7fbdd4b",
   "metadata": {},
   "outputs": [],
   "source": []
  },
  {
   "cell_type": "code",
   "execution_count": null,
   "id": "e2e43b17-0c9c-4fc7-ae42-55ef3e6f713f",
   "metadata": {},
   "outputs": [],
   "source": []
  },
  {
   "cell_type": "code",
   "execution_count": null,
   "id": "c720f831-ae4a-4184-af04-1cc8410cd646",
   "metadata": {},
   "outputs": [],
   "source": []
  },
  {
   "cell_type": "code",
   "execution_count": null,
   "id": "e902fd71-63b6-4453-9d6b-86e87b37e067",
   "metadata": {},
   "outputs": [],
   "source": []
  },
  {
   "cell_type": "code",
   "execution_count": 322,
   "id": "e49c2f30-6a66-4eb6-ac75-43adad6dd21e",
   "metadata": {},
   "outputs": [],
   "source": [
    "feats = ['age', 'g', 'pg_gs', 'pg_mp', 'pg_fg', 'pg_fga', 'pg_fg%', 'pg_3p', 'pg_3pa', 'pg_3p%', 'pg_2p', 'pg_2pa', 'pg_2p%', 'pg_efg%', 'pg_ft', 'pg_fta', 'pg_ft%', 'pg_orb', 'pg_drb', 'pg_trb', 'pg_ast', 'pg_stl', 'pg_blk', 'pg_tov', 'pg_pf', 'pg_pts', 'tot_mp', 'tot_fg%', 'tot_3p', 'tot_3p%', 'tot_2p%', 'tot_efg%', 'tot_ft%', 'tot_pf', 'tot_pts', 'adv_per', 'adv_ts%', 'adv_3par', 'adv_ftr', 'adv_orb%', 'adv_drb%', 'adv_trb%', 'adv_ast%', 'adv_stl%', 'adv_blk%', 'adv_tov%', 'adv_usg%', 'adv_ows', 'adv_dws', 'adv_ws', 'adv_ws/48', 'adv_obpm', 'adv_dbpm', 'adv_bpm', 'adv_vorp', 'f', 'gu', 'w/l%', 'seed', 'all_star']"
   ]
  },
  {
   "cell_type": "code",
   "execution_count": 323,
   "id": "9a306314-a2c5-4461-80aa-9984419dc0f1",
   "metadata": {},
   "outputs": [
    {
     "name": "stdout",
     "output_type": "stream",
     "text": [
      "Train: X: (3554, 60), y: (3554,)\n",
      "Test: X: (520, 60), y: (520,)\n",
      "Hold: X: (303, 60), y: (303,)\n"
     ]
    }
   ],
   "source": [
    "X_train = df[feats].loc[df.year.isin(train_yrs)].reset_index(drop=True)\n",
    "X_test = df[feats].loc[df.year.isin(test_yrs)].reset_index(drop=True)\n",
    "\n",
    "y_train = df['share'].loc[df.year.isin(train_yrs)]\n",
    "y_test = df['share'].loc[df.year.isin(test_yrs)]\n",
    "\n",
    "X_hold = df[feats].loc[df.year.isin(hold_yrs)].reset_index(drop=True)\n",
    "y_hold = df['share'].loc[df.year.isin(hold_yrs)]\n",
    "\n",
    "print(f'Train: X: {X_train.shape}, y: {y_train.shape}')\n",
    "print(f'Test: X: {X_test.shape}, y: {y_test.shape}')\n",
    "print(f'Hold: X: {X_hold.shape}, y: {y_hold.shape}')"
   ]
  },
  {
   "cell_type": "code",
   "execution_count": 324,
   "id": "765636ce-7f5e-4e0d-bf0e-e0b499ced07b",
   "metadata": {},
   "outputs": [
    {
     "data": {
      "text/plain": [
       "{'memory': None,\n",
       " 'steps': [('sc', StandardScaler()),\n",
       "  ('pc', PCA()),\n",
       "  ('rf', RandomForestRegressor())],\n",
       " 'verbose': False,\n",
       " 'sc': StandardScaler(),\n",
       " 'pc': PCA(),\n",
       " 'rf': RandomForestRegressor(),\n",
       " 'sc__copy': True,\n",
       " 'sc__with_mean': True,\n",
       " 'sc__with_std': True,\n",
       " 'pc__copy': True,\n",
       " 'pc__iterated_power': 'auto',\n",
       " 'pc__n_components': None,\n",
       " 'pc__n_oversamples': 10,\n",
       " 'pc__power_iteration_normalizer': 'auto',\n",
       " 'pc__random_state': None,\n",
       " 'pc__svd_solver': 'auto',\n",
       " 'pc__tol': 0.0,\n",
       " 'pc__whiten': False,\n",
       " 'rf__bootstrap': True,\n",
       " 'rf__ccp_alpha': 0.0,\n",
       " 'rf__criterion': 'squared_error',\n",
       " 'rf__max_depth': None,\n",
       " 'rf__max_features': 1.0,\n",
       " 'rf__max_leaf_nodes': None,\n",
       " 'rf__max_samples': None,\n",
       " 'rf__min_impurity_decrease': 0.0,\n",
       " 'rf__min_samples_leaf': 1,\n",
       " 'rf__min_samples_split': 2,\n",
       " 'rf__min_weight_fraction_leaf': 0.0,\n",
       " 'rf__n_estimators': 100,\n",
       " 'rf__n_jobs': None,\n",
       " 'rf__oob_score': False,\n",
       " 'rf__random_state': None,\n",
       " 'rf__verbose': 0,\n",
       " 'rf__warm_start': False}"
      ]
     },
     "execution_count": 324,
     "metadata": {},
     "output_type": "execute_result"
    }
   ],
   "source": [
    "pipe_rf2 = Pipeline([\n",
    "    ('sc', StandardScaler()),\n",
    "    ('pc', PCA()),\n",
    "    ('rf', RandomForestRegressor())\n",
    "])\n",
    "\n",
    "pipe_rf2.get_params()"
   ]
  },
  {
   "cell_type": "code",
   "execution_count": null,
   "id": "efc1b111-338c-4759-a241-91b5899b7636",
   "metadata": {},
   "outputs": [],
   "source": []
  },
  {
   "cell_type": "code",
   "execution_count": 334,
   "id": "b86d7381-8851-431a-9c23-d0a5b2ee8259",
   "metadata": {},
   "outputs": [],
   "source": [
    "pgrid_rf2 = [{\n",
    "     #'pc__n_components': np.arange(1, 60),\n",
    "      \n",
    "     'rf__max_depth': [60], \n",
    "     'rf__max_features': [3], \n",
    "     'rf__max_leaf_nodes': [125], \n",
    "     'rf__max_samples': [None], \n",
    "     'rf__n_estimators': [150]\n",
    "    }]\n",
    "\n",
    "gs = GridSearchCV(pipe_rf2, pgrid, cv=5, n_jobs=5)"
   ]
  },
  {
   "cell_type": "code",
   "execution_count": 335,
   "id": "cda4f52a-5d11-467e-bcf0-08969d67ae9c",
   "metadata": {},
   "outputs": [
    {
     "name": "stdout",
     "output_type": "stream",
     "text": [
      "CPU times: total: 328 ms\n",
      "Wall time: 1min 28s\n"
     ]
    },
    {
     "data": {
      "text/html": [
       "<style>#sk-container-id-26 {color: black;background-color: white;}#sk-container-id-26 pre{padding: 0;}#sk-container-id-26 div.sk-toggleable {background-color: white;}#sk-container-id-26 label.sk-toggleable__label {cursor: pointer;display: block;width: 100%;margin-bottom: 0;padding: 0.3em;box-sizing: border-box;text-align: center;}#sk-container-id-26 label.sk-toggleable__label-arrow:before {content: \"▸\";float: left;margin-right: 0.25em;color: #696969;}#sk-container-id-26 label.sk-toggleable__label-arrow:hover:before {color: black;}#sk-container-id-26 div.sk-estimator:hover label.sk-toggleable__label-arrow:before {color: black;}#sk-container-id-26 div.sk-toggleable__content {max-height: 0;max-width: 0;overflow: hidden;text-align: left;background-color: #f0f8ff;}#sk-container-id-26 div.sk-toggleable__content pre {margin: 0.2em;color: black;border-radius: 0.25em;background-color: #f0f8ff;}#sk-container-id-26 input.sk-toggleable__control:checked~div.sk-toggleable__content {max-height: 200px;max-width: 100%;overflow: auto;}#sk-container-id-26 input.sk-toggleable__control:checked~label.sk-toggleable__label-arrow:before {content: \"▾\";}#sk-container-id-26 div.sk-estimator input.sk-toggleable__control:checked~label.sk-toggleable__label {background-color: #d4ebff;}#sk-container-id-26 div.sk-label input.sk-toggleable__control:checked~label.sk-toggleable__label {background-color: #d4ebff;}#sk-container-id-26 input.sk-hidden--visually {border: 0;clip: rect(1px 1px 1px 1px);clip: rect(1px, 1px, 1px, 1px);height: 1px;margin: -1px;overflow: hidden;padding: 0;position: absolute;width: 1px;}#sk-container-id-26 div.sk-estimator {font-family: monospace;background-color: #f0f8ff;border: 1px dotted black;border-radius: 0.25em;box-sizing: border-box;margin-bottom: 0.5em;}#sk-container-id-26 div.sk-estimator:hover {background-color: #d4ebff;}#sk-container-id-26 div.sk-parallel-item::after {content: \"\";width: 100%;border-bottom: 1px solid gray;flex-grow: 1;}#sk-container-id-26 div.sk-label:hover label.sk-toggleable__label {background-color: #d4ebff;}#sk-container-id-26 div.sk-serial::before {content: \"\";position: absolute;border-left: 1px solid gray;box-sizing: border-box;top: 0;bottom: 0;left: 50%;z-index: 0;}#sk-container-id-26 div.sk-serial {display: flex;flex-direction: column;align-items: center;background-color: white;padding-right: 0.2em;padding-left: 0.2em;position: relative;}#sk-container-id-26 div.sk-item {position: relative;z-index: 1;}#sk-container-id-26 div.sk-parallel {display: flex;align-items: stretch;justify-content: center;background-color: white;position: relative;}#sk-container-id-26 div.sk-item::before, #sk-container-id-26 div.sk-parallel-item::before {content: \"\";position: absolute;border-left: 1px solid gray;box-sizing: border-box;top: 0;bottom: 0;left: 50%;z-index: -1;}#sk-container-id-26 div.sk-parallel-item {display: flex;flex-direction: column;z-index: 1;position: relative;background-color: white;}#sk-container-id-26 div.sk-parallel-item:first-child::after {align-self: flex-end;width: 50%;}#sk-container-id-26 div.sk-parallel-item:last-child::after {align-self: flex-start;width: 50%;}#sk-container-id-26 div.sk-parallel-item:only-child::after {width: 0;}#sk-container-id-26 div.sk-dashed-wrapped {border: 1px dashed gray;margin: 0 0.4em 0.5em 0.4em;box-sizing: border-box;padding-bottom: 0.4em;background-color: white;}#sk-container-id-26 div.sk-label label {font-family: monospace;font-weight: bold;display: inline-block;line-height: 1.2em;}#sk-container-id-26 div.sk-label-container {text-align: center;}#sk-container-id-26 div.sk-container {/* jupyter's `normalize.less` sets `[hidden] { display: none; }` but bootstrap.min.css set `[hidden] { display: none !important; }` so we also need the `!important` here to be able to override the default hidden behavior on the sphinx rendered scikit-learn.org. See: https://github.com/scikit-learn/scikit-learn/issues/21755 */display: inline-block !important;position: relative;}#sk-container-id-26 div.sk-text-repr-fallback {display: none;}</style><div id=\"sk-container-id-26\" class=\"sk-top-container\"><div class=\"sk-text-repr-fallback\"><pre>GridSearchCV(cv=5,\n",
       "             estimator=Pipeline(steps=[(&#x27;sc&#x27;, StandardScaler()), (&#x27;pc&#x27;, PCA()),\n",
       "                                       (&#x27;rf&#x27;, RandomForestRegressor())]),\n",
       "             n_jobs=10,\n",
       "             param_grid=[{&#x27;pc__n_components&#x27;: array([ 1,  2,  3,  4,  5,  6,  7,  8,  9, 10, 11, 12, 13, 14, 15, 16, 17,\n",
       "       18, 19, 20, 21, 22, 23, 24, 25, 26, 27, 28, 29, 30, 31, 32, 33, 34,\n",
       "       35, 36, 37, 38, 39, 40, 41, 42, 43, 44, 45, 46, 47, 48, 49, 50, 51,\n",
       "       52, 53, 54, 55, 56, 57, 58, 59]),\n",
       "                          &#x27;rf__max_depth&#x27;: [60], &#x27;rf__max_features&#x27;: [3],\n",
       "                          &#x27;rf__max_leaf_nodes&#x27;: [125],\n",
       "                          &#x27;rf__max_samples&#x27;: [None],\n",
       "                          &#x27;rf__n_estimators&#x27;: [150]}],\n",
       "             scoring=&#x27;r2&#x27;)</pre><b>In a Jupyter environment, please rerun this cell to show the HTML representation or trust the notebook. <br />On GitHub, the HTML representation is unable to render, please try loading this page with nbviewer.org.</b></div><div class=\"sk-container\" hidden><div class=\"sk-item sk-dashed-wrapped\"><div class=\"sk-label-container\"><div class=\"sk-label sk-toggleable\"><input class=\"sk-toggleable__control sk-hidden--visually\" id=\"sk-estimator-id-100\" type=\"checkbox\" ><label for=\"sk-estimator-id-100\" class=\"sk-toggleable__label sk-toggleable__label-arrow\">GridSearchCV</label><div class=\"sk-toggleable__content\"><pre>GridSearchCV(cv=5,\n",
       "             estimator=Pipeline(steps=[(&#x27;sc&#x27;, StandardScaler()), (&#x27;pc&#x27;, PCA()),\n",
       "                                       (&#x27;rf&#x27;, RandomForestRegressor())]),\n",
       "             n_jobs=10,\n",
       "             param_grid=[{&#x27;pc__n_components&#x27;: array([ 1,  2,  3,  4,  5,  6,  7,  8,  9, 10, 11, 12, 13, 14, 15, 16, 17,\n",
       "       18, 19, 20, 21, 22, 23, 24, 25, 26, 27, 28, 29, 30, 31, 32, 33, 34,\n",
       "       35, 36, 37, 38, 39, 40, 41, 42, 43, 44, 45, 46, 47, 48, 49, 50, 51,\n",
       "       52, 53, 54, 55, 56, 57, 58, 59]),\n",
       "                          &#x27;rf__max_depth&#x27;: [60], &#x27;rf__max_features&#x27;: [3],\n",
       "                          &#x27;rf__max_leaf_nodes&#x27;: [125],\n",
       "                          &#x27;rf__max_samples&#x27;: [None],\n",
       "                          &#x27;rf__n_estimators&#x27;: [150]}],\n",
       "             scoring=&#x27;r2&#x27;)</pre></div></div></div><div class=\"sk-parallel\"><div class=\"sk-parallel-item\"><div class=\"sk-item\"><div class=\"sk-label-container\"><div class=\"sk-label sk-toggleable\"><input class=\"sk-toggleable__control sk-hidden--visually\" id=\"sk-estimator-id-101\" type=\"checkbox\" ><label for=\"sk-estimator-id-101\" class=\"sk-toggleable__label sk-toggleable__label-arrow\">estimator: Pipeline</label><div class=\"sk-toggleable__content\"><pre>Pipeline(steps=[(&#x27;sc&#x27;, StandardScaler()), (&#x27;pc&#x27;, PCA()),\n",
       "                (&#x27;rf&#x27;, RandomForestRegressor())])</pre></div></div></div><div class=\"sk-serial\"><div class=\"sk-item\"><div class=\"sk-serial\"><div class=\"sk-item\"><div class=\"sk-estimator sk-toggleable\"><input class=\"sk-toggleable__control sk-hidden--visually\" id=\"sk-estimator-id-102\" type=\"checkbox\" ><label for=\"sk-estimator-id-102\" class=\"sk-toggleable__label sk-toggleable__label-arrow\">StandardScaler</label><div class=\"sk-toggleable__content\"><pre>StandardScaler()</pre></div></div></div><div class=\"sk-item\"><div class=\"sk-estimator sk-toggleable\"><input class=\"sk-toggleable__control sk-hidden--visually\" id=\"sk-estimator-id-103\" type=\"checkbox\" ><label for=\"sk-estimator-id-103\" class=\"sk-toggleable__label sk-toggleable__label-arrow\">PCA</label><div class=\"sk-toggleable__content\"><pre>PCA()</pre></div></div></div><div class=\"sk-item\"><div class=\"sk-estimator sk-toggleable\"><input class=\"sk-toggleable__control sk-hidden--visually\" id=\"sk-estimator-id-104\" type=\"checkbox\" ><label for=\"sk-estimator-id-104\" class=\"sk-toggleable__label sk-toggleable__label-arrow\">RandomForestRegressor</label><div class=\"sk-toggleable__content\"><pre>RandomForestRegressor()</pre></div></div></div></div></div></div></div></div></div></div></div></div>"
      ],
      "text/plain": [
       "GridSearchCV(cv=5,\n",
       "             estimator=Pipeline(steps=[('sc', StandardScaler()), ('pc', PCA()),\n",
       "                                       ('rf', RandomForestRegressor())]),\n",
       "             n_jobs=10,\n",
       "             param_grid=[{'pc__n_components': array([ 1,  2,  3,  4,  5,  6,  7,  8,  9, 10, 11, 12, 13, 14, 15, 16, 17,\n",
       "       18, 19, 20, 21, 22, 23, 24, 25, 26, 27, 28, 29, 30, 31, 32, 33, 34,\n",
       "       35, 36, 37, 38, 39, 40, 41, 42, 43, 44, 45, 46, 47, 48, 49, 50, 51,\n",
       "       52, 53, 54, 55, 56, 57, 58, 59]),\n",
       "                          'rf__max_depth': [60], 'rf__max_features': [3],\n",
       "                          'rf__max_leaf_nodes': [125],\n",
       "                          'rf__max_samples': [None],\n",
       "                          'rf__n_estimators': [150]}],\n",
       "             scoring='r2')"
      ]
     },
     "execution_count": 335,
     "metadata": {},
     "output_type": "execute_result"
    }
   ],
   "source": [
    "%%time\n",
    "\n",
    "gs_rf2 = GridSearchCV(pipe_rf2, pgrid_rf2, cv=5, scoring = 'r2', n_jobs=10)\n",
    "gs_rf2.fit(X_train, y_train)"
   ]
  },
  {
   "cell_type": "code",
   "execution_count": 590,
   "id": "293d57c0-1ee2-4823-9e76-246b1d075e55",
   "metadata": {},
   "outputs": [
    {
     "ename": "ValueError",
     "evalue": "The feature names should match those that were passed during fit.\nFeature names seen at fit time, yet now missing:\n- adv_3par\n- adv_ast%\n- adv_blk%\n- adv_dbpm\n- adv_drb%\n- ...\n",
     "output_type": "error",
     "traceback": [
      "\u001b[1;31m---------------------------------------------------------------------------\u001b[0m",
      "\u001b[1;31mValueError\u001b[0m                                Traceback (most recent call last)",
      "Cell \u001b[1;32mIn[590], line 2\u001b[0m\n\u001b[0;32m      1\u001b[0m \u001b[38;5;66;03m# Make predictions for Accuracy Report\u001b[39;00m\n\u001b[1;32m----> 2\u001b[0m preds_rf2 \u001b[38;5;241m=\u001b[39m \u001b[43mgs_rf2\u001b[49m\u001b[38;5;241;43m.\u001b[39;49m\u001b[43mpredict\u001b[49m\u001b[43m(\u001b[49m\u001b[43mX_test\u001b[49m\u001b[43m)\u001b[49m\n",
      "File \u001b[1;32m~\\anaconda3\\lib\\site-packages\\sklearn\\model_selection\\_search.py:499\u001b[0m, in \u001b[0;36mBaseSearchCV.predict\u001b[1;34m(self, X)\u001b[0m\n\u001b[0;32m    481\u001b[0m \u001b[38;5;250m\u001b[39m\u001b[38;5;124;03m\"\"\"Call predict on the estimator with the best found parameters.\u001b[39;00m\n\u001b[0;32m    482\u001b[0m \n\u001b[0;32m    483\u001b[0m \u001b[38;5;124;03mOnly available if ``refit=True`` and the underlying estimator supports\u001b[39;00m\n\u001b[1;32m   (...)\u001b[0m\n\u001b[0;32m    496\u001b[0m \u001b[38;5;124;03m    the best found parameters.\u001b[39;00m\n\u001b[0;32m    497\u001b[0m \u001b[38;5;124;03m\"\"\"\u001b[39;00m\n\u001b[0;32m    498\u001b[0m check_is_fitted(\u001b[38;5;28mself\u001b[39m)\n\u001b[1;32m--> 499\u001b[0m \u001b[38;5;28;01mreturn\u001b[39;00m \u001b[38;5;28;43mself\u001b[39;49m\u001b[38;5;241;43m.\u001b[39;49m\u001b[43mbest_estimator_\u001b[49m\u001b[38;5;241;43m.\u001b[39;49m\u001b[43mpredict\u001b[49m\u001b[43m(\u001b[49m\u001b[43mX\u001b[49m\u001b[43m)\u001b[49m\n",
      "File \u001b[1;32m~\\anaconda3\\lib\\site-packages\\sklearn\\pipeline.py:480\u001b[0m, in \u001b[0;36mPipeline.predict\u001b[1;34m(self, X, **predict_params)\u001b[0m\n\u001b[0;32m    478\u001b[0m Xt \u001b[38;5;241m=\u001b[39m X\n\u001b[0;32m    479\u001b[0m \u001b[38;5;28;01mfor\u001b[39;00m _, name, transform \u001b[38;5;129;01min\u001b[39;00m \u001b[38;5;28mself\u001b[39m\u001b[38;5;241m.\u001b[39m_iter(with_final\u001b[38;5;241m=\u001b[39m\u001b[38;5;28;01mFalse\u001b[39;00m):\n\u001b[1;32m--> 480\u001b[0m     Xt \u001b[38;5;241m=\u001b[39m \u001b[43mtransform\u001b[49m\u001b[38;5;241;43m.\u001b[39;49m\u001b[43mtransform\u001b[49m\u001b[43m(\u001b[49m\u001b[43mXt\u001b[49m\u001b[43m)\u001b[49m\n\u001b[0;32m    481\u001b[0m \u001b[38;5;28;01mreturn\u001b[39;00m \u001b[38;5;28mself\u001b[39m\u001b[38;5;241m.\u001b[39msteps[\u001b[38;5;241m-\u001b[39m\u001b[38;5;241m1\u001b[39m][\u001b[38;5;241m1\u001b[39m]\u001b[38;5;241m.\u001b[39mpredict(Xt, \u001b[38;5;241m*\u001b[39m\u001b[38;5;241m*\u001b[39mpredict_params)\n",
      "File \u001b[1;32m~\\anaconda3\\lib\\site-packages\\sklearn\\utils\\_set_output.py:142\u001b[0m, in \u001b[0;36m_wrap_method_output.<locals>.wrapped\u001b[1;34m(self, X, *args, **kwargs)\u001b[0m\n\u001b[0;32m    140\u001b[0m \u001b[38;5;129m@wraps\u001b[39m(f)\n\u001b[0;32m    141\u001b[0m \u001b[38;5;28;01mdef\u001b[39;00m \u001b[38;5;21mwrapped\u001b[39m(\u001b[38;5;28mself\u001b[39m, X, \u001b[38;5;241m*\u001b[39margs, \u001b[38;5;241m*\u001b[39m\u001b[38;5;241m*\u001b[39mkwargs):\n\u001b[1;32m--> 142\u001b[0m     data_to_wrap \u001b[38;5;241m=\u001b[39m f(\u001b[38;5;28mself\u001b[39m, X, \u001b[38;5;241m*\u001b[39margs, \u001b[38;5;241m*\u001b[39m\u001b[38;5;241m*\u001b[39mkwargs)\n\u001b[0;32m    143\u001b[0m     \u001b[38;5;28;01mif\u001b[39;00m \u001b[38;5;28misinstance\u001b[39m(data_to_wrap, \u001b[38;5;28mtuple\u001b[39m):\n\u001b[0;32m    144\u001b[0m         \u001b[38;5;66;03m# only wrap the first output for cross decomposition\u001b[39;00m\n\u001b[0;32m    145\u001b[0m         \u001b[38;5;28;01mreturn\u001b[39;00m (\n\u001b[0;32m    146\u001b[0m             _wrap_data_with_container(method, data_to_wrap[\u001b[38;5;241m0\u001b[39m], X, \u001b[38;5;28mself\u001b[39m),\n\u001b[0;32m    147\u001b[0m             \u001b[38;5;241m*\u001b[39mdata_to_wrap[\u001b[38;5;241m1\u001b[39m:],\n\u001b[0;32m    148\u001b[0m         )\n",
      "File \u001b[1;32m~\\anaconda3\\lib\\site-packages\\sklearn\\preprocessing\\_data.py:992\u001b[0m, in \u001b[0;36mStandardScaler.transform\u001b[1;34m(self, X, copy)\u001b[0m\n\u001b[0;32m    989\u001b[0m check_is_fitted(\u001b[38;5;28mself\u001b[39m)\n\u001b[0;32m    991\u001b[0m copy \u001b[38;5;241m=\u001b[39m copy \u001b[38;5;28;01mif\u001b[39;00m copy \u001b[38;5;129;01mis\u001b[39;00m \u001b[38;5;129;01mnot\u001b[39;00m \u001b[38;5;28;01mNone\u001b[39;00m \u001b[38;5;28;01melse\u001b[39;00m \u001b[38;5;28mself\u001b[39m\u001b[38;5;241m.\u001b[39mcopy\n\u001b[1;32m--> 992\u001b[0m X \u001b[38;5;241m=\u001b[39m \u001b[38;5;28;43mself\u001b[39;49m\u001b[38;5;241;43m.\u001b[39;49m\u001b[43m_validate_data\u001b[49m\u001b[43m(\u001b[49m\n\u001b[0;32m    993\u001b[0m \u001b[43m    \u001b[49m\u001b[43mX\u001b[49m\u001b[43m,\u001b[49m\n\u001b[0;32m    994\u001b[0m \u001b[43m    \u001b[49m\u001b[43mreset\u001b[49m\u001b[38;5;241;43m=\u001b[39;49m\u001b[38;5;28;43;01mFalse\u001b[39;49;00m\u001b[43m,\u001b[49m\n\u001b[0;32m    995\u001b[0m \u001b[43m    \u001b[49m\u001b[43maccept_sparse\u001b[49m\u001b[38;5;241;43m=\u001b[39;49m\u001b[38;5;124;43m\"\u001b[39;49m\u001b[38;5;124;43mcsr\u001b[39;49m\u001b[38;5;124;43m\"\u001b[39;49m\u001b[43m,\u001b[49m\n\u001b[0;32m    996\u001b[0m \u001b[43m    \u001b[49m\u001b[43mcopy\u001b[49m\u001b[38;5;241;43m=\u001b[39;49m\u001b[43mcopy\u001b[49m\u001b[43m,\u001b[49m\n\u001b[0;32m    997\u001b[0m \u001b[43m    \u001b[49m\u001b[43mdtype\u001b[49m\u001b[38;5;241;43m=\u001b[39;49m\u001b[43mFLOAT_DTYPES\u001b[49m\u001b[43m,\u001b[49m\n\u001b[0;32m    998\u001b[0m \u001b[43m    \u001b[49m\u001b[43mforce_all_finite\u001b[49m\u001b[38;5;241;43m=\u001b[39;49m\u001b[38;5;124;43m\"\u001b[39;49m\u001b[38;5;124;43mallow-nan\u001b[39;49m\u001b[38;5;124;43m\"\u001b[39;49m\u001b[43m,\u001b[49m\n\u001b[0;32m    999\u001b[0m \u001b[43m\u001b[49m\u001b[43m)\u001b[49m\n\u001b[0;32m   1001\u001b[0m \u001b[38;5;28;01mif\u001b[39;00m sparse\u001b[38;5;241m.\u001b[39missparse(X):\n\u001b[0;32m   1002\u001b[0m     \u001b[38;5;28;01mif\u001b[39;00m \u001b[38;5;28mself\u001b[39m\u001b[38;5;241m.\u001b[39mwith_mean:\n",
      "File \u001b[1;32m~\\anaconda3\\lib\\site-packages\\sklearn\\base.py:529\u001b[0m, in \u001b[0;36mBaseEstimator._validate_data\u001b[1;34m(self, X, y, reset, validate_separately, **check_params)\u001b[0m\n\u001b[0;32m    464\u001b[0m \u001b[38;5;28;01mdef\u001b[39;00m \u001b[38;5;21m_validate_data\u001b[39m(\n\u001b[0;32m    465\u001b[0m     \u001b[38;5;28mself\u001b[39m,\n\u001b[0;32m    466\u001b[0m     X\u001b[38;5;241m=\u001b[39m\u001b[38;5;124m\"\u001b[39m\u001b[38;5;124mno_validation\u001b[39m\u001b[38;5;124m\"\u001b[39m,\n\u001b[1;32m   (...)\u001b[0m\n\u001b[0;32m    470\u001b[0m     \u001b[38;5;241m*\u001b[39m\u001b[38;5;241m*\u001b[39mcheck_params,\n\u001b[0;32m    471\u001b[0m ):\n\u001b[0;32m    472\u001b[0m \u001b[38;5;250m    \u001b[39m\u001b[38;5;124;03m\"\"\"Validate input data and set or check the `n_features_in_` attribute.\u001b[39;00m\n\u001b[0;32m    473\u001b[0m \n\u001b[0;32m    474\u001b[0m \u001b[38;5;124;03m    Parameters\u001b[39;00m\n\u001b[1;32m   (...)\u001b[0m\n\u001b[0;32m    527\u001b[0m \u001b[38;5;124;03m        validated.\u001b[39;00m\n\u001b[0;32m    528\u001b[0m \u001b[38;5;124;03m    \"\"\"\u001b[39;00m\n\u001b[1;32m--> 529\u001b[0m     \u001b[38;5;28;43mself\u001b[39;49m\u001b[38;5;241;43m.\u001b[39;49m\u001b[43m_check_feature_names\u001b[49m\u001b[43m(\u001b[49m\u001b[43mX\u001b[49m\u001b[43m,\u001b[49m\u001b[43m \u001b[49m\u001b[43mreset\u001b[49m\u001b[38;5;241;43m=\u001b[39;49m\u001b[43mreset\u001b[49m\u001b[43m)\u001b[49m\n\u001b[0;32m    531\u001b[0m     \u001b[38;5;28;01mif\u001b[39;00m y \u001b[38;5;129;01mis\u001b[39;00m \u001b[38;5;28;01mNone\u001b[39;00m \u001b[38;5;129;01mand\u001b[39;00m \u001b[38;5;28mself\u001b[39m\u001b[38;5;241m.\u001b[39m_get_tags()[\u001b[38;5;124m\"\u001b[39m\u001b[38;5;124mrequires_y\u001b[39m\u001b[38;5;124m\"\u001b[39m]:\n\u001b[0;32m    532\u001b[0m         \u001b[38;5;28;01mraise\u001b[39;00m \u001b[38;5;167;01mValueError\u001b[39;00m(\n\u001b[0;32m    533\u001b[0m             \u001b[38;5;124mf\u001b[39m\u001b[38;5;124m\"\u001b[39m\u001b[38;5;124mThis \u001b[39m\u001b[38;5;132;01m{\u001b[39;00m\u001b[38;5;28mself\u001b[39m\u001b[38;5;241m.\u001b[39m\u001b[38;5;18m__class__\u001b[39m\u001b[38;5;241m.\u001b[39m\u001b[38;5;18m__name__\u001b[39m\u001b[38;5;132;01m}\u001b[39;00m\u001b[38;5;124m estimator \u001b[39m\u001b[38;5;124m\"\u001b[39m\n\u001b[0;32m    534\u001b[0m             \u001b[38;5;124m\"\u001b[39m\u001b[38;5;124mrequires y to be passed, but the target y is None.\u001b[39m\u001b[38;5;124m\"\u001b[39m\n\u001b[0;32m    535\u001b[0m         )\n",
      "File \u001b[1;32m~\\anaconda3\\lib\\site-packages\\sklearn\\base.py:462\u001b[0m, in \u001b[0;36mBaseEstimator._check_feature_names\u001b[1;34m(self, X, reset)\u001b[0m\n\u001b[0;32m    457\u001b[0m \u001b[38;5;28;01mif\u001b[39;00m \u001b[38;5;129;01mnot\u001b[39;00m missing_names \u001b[38;5;129;01mand\u001b[39;00m \u001b[38;5;129;01mnot\u001b[39;00m unexpected_names:\n\u001b[0;32m    458\u001b[0m     message \u001b[38;5;241m+\u001b[39m\u001b[38;5;241m=\u001b[39m (\n\u001b[0;32m    459\u001b[0m         \u001b[38;5;124m\"\u001b[39m\u001b[38;5;124mFeature names must be in the same order as they were in fit.\u001b[39m\u001b[38;5;130;01m\\n\u001b[39;00m\u001b[38;5;124m\"\u001b[39m\n\u001b[0;32m    460\u001b[0m     )\n\u001b[1;32m--> 462\u001b[0m \u001b[38;5;28;01mraise\u001b[39;00m \u001b[38;5;167;01mValueError\u001b[39;00m(message)\n",
      "\u001b[1;31mValueError\u001b[0m: The feature names should match those that were passed during fit.\nFeature names seen at fit time, yet now missing:\n- adv_3par\n- adv_ast%\n- adv_blk%\n- adv_dbpm\n- adv_drb%\n- ...\n"
     ]
    }
   ],
   "source": [
    "# Make predictions for Accuracy Report\n",
    "preds_rf2 = gs_rf2.predict(X_test)"
   ]
  },
  {
   "cell_type": "code",
   "execution_count": 347,
   "id": "7f6fc025-4d81-4c20-81a7-d8437c976e50",
   "metadata": {},
   "outputs": [
    {
     "name": "stdout",
     "output_type": "stream",
     "text": [
      "------------- \u001b[1mExtra Trees w/ GridSearch\u001b[0m -------------\n",
      "------------------- Train: 0.9459 -------------------\n",
      "------------------- Test: 0.7305 --------------------\n",
      "Best Params: {'pc__n_components': 9, 'rf__max_depth': 60, 'rf__max_features': 3, 'rf__max_leaf_nodes': 125, 'rf__max_samples': None, 'rf__n_estimators': 150}\n"
     ]
    }
   ],
   "source": [
    "print(f'------------- {b1}Extra Trees w/ GridSearch{b0} -------------')\n",
    "print(f'------------------- Train: {round(gs_rf2.score(X_train, y_train),4)} -------------------')\n",
    "print(f'------------------- Test: {round(gs_rf2.score(X_test, y_test),4)} --------------------')\n",
    "print('Best Params:', gs_rf2.best_params_)"
   ]
  },
  {
   "cell_type": "code",
   "execution_count": null,
   "id": "656057c1-44c9-423f-8926-8219030ee9a5",
   "metadata": {},
   "outputs": [],
   "source": [
    "best_rf2 = gs_rf2.best_estimator_\n",
    "pca_step = best_rf2.named_steps['pc']"
   ]
  },
  {
   "cell_type": "code",
   "execution_count": 350,
   "id": "92d7d720-4a5a-4948-891e-71857d27181b",
   "metadata": {},
   "outputs": [
    {
     "data": {
      "text/plain": [
       "array([0.26580234, 0.21797713, 0.11010969, 0.0646503 , 0.05242646,\n",
       "       0.04495231, 0.033274  , 0.02776955, 0.0224932 ])"
      ]
     },
     "execution_count": 350,
     "metadata": {},
     "output_type": "execute_result"
    }
   ],
   "source": [
    "# Access the explained variance ratio\n",
    "explained_variance_ratio = pca_step.explained_variance_ratio_\n",
    "explained_variance_ratio"
   ]
  },
  {
   "cell_type": "code",
   "execution_count": null,
   "id": "2b62255c-5a1e-4001-be1e-355775f325aa",
   "metadata": {},
   "outputs": [],
   "source": [
    "# Access the PCA components (principal axes in feature space, representing the directions of maximum variance)\n",
    "pca_components = pca_step.components_"
   ]
  },
  {
   "cell_type": "code",
   "execution_count": null,
   "id": "50e4c7bd-5c3a-4a80-b654-8620f90b8347",
   "metadata": {},
   "outputs": [],
   "source": [
    "# Identify the column names with the highest explained variance\n",
    "num_components = len(explained_variance_ratio)\n",
    "highest_variance_column_indices = pca_components.argsort(axis=1)[:, ::-1][:, :num_components]"
   ]
  },
  {
   "cell_type": "code",
   "execution_count": null,
   "id": "7a77a414-48d7-419a-8ab2-23f138f89979",
   "metadata": {},
   "outputs": [],
   "source": [
    "# Get the column names from the original feature set\n",
    "original_feature_names = X_train.columns"
   ]
  },
  {
   "cell_type": "code",
   "execution_count": null,
   "id": "90e74179-d43d-436b-8c40-e6d6e1786f23",
   "metadata": {},
   "outputs": [],
   "source": [
    "# Get the column names with the highest explained variance\n",
    "columns_with_highest_variance = [original_feature_names[idx] for idx in highest_variance_column_indices]"
   ]
  },
  {
   "cell_type": "code",
   "execution_count": null,
   "id": "c63f9717-6d97-4b89-af2b-e454b04ee314",
   "metadata": {},
   "outputs": [],
   "source": [
    "# Print the explained variance ratios and associated columns\n",
    "for i in range(num_components):\n",
    "    print(f\"Principal Component {i+1}: Explained Variance Ratio = {explained_variance_ratio[i]:.4f}\")\n",
    "    print(f\"Columns with Highest Variance: {columns_with_highest_variance[i]}\\n\")"
   ]
  },
  {
   "cell_type": "code",
   "execution_count": null,
   "id": "25c76dba-2c6a-41d1-a9a2-67e282e66b2a",
   "metadata": {},
   "outputs": [],
   "source": []
  },
  {
   "cell_type": "code",
   "execution_count": null,
   "id": "5077300f-858e-4633-852e-7f0060a28495",
   "metadata": {},
   "outputs": [],
   "source": []
  },
  {
   "cell_type": "code",
   "execution_count": null,
   "id": "1d765c26-291a-47bb-a421-809be5ad8e59",
   "metadata": {},
   "outputs": [],
   "source": []
  },
  {
   "cell_type": "code",
   "execution_count": null,
   "id": "fece859c-ff3c-4b48-8453-5aa2afc4bf89",
   "metadata": {},
   "outputs": [],
   "source": []
  },
  {
   "cell_type": "code",
   "execution_count": null,
   "id": "eea4fb85-e71c-4a5f-b7f9-9d7cfdf84b39",
   "metadata": {},
   "outputs": [],
   "source": []
  },
  {
   "cell_type": "code",
   "execution_count": null,
   "id": "5558f776-32a1-4647-b0b9-b9486a2c8375",
   "metadata": {},
   "outputs": [],
   "source": []
  },
  {
   "cell_type": "markdown",
   "id": "e986bcfa-2508-4542-ad8e-2e2062fd38ef",
   "metadata": {},
   "source": [
    "## Gradient Boosting Regressor"
   ]
  },
  {
   "cell_type": "code",
   "execution_count": null,
   "id": "496dc55f-76a8-4a48-94ff-878ec28b9bcb",
   "metadata": {},
   "outputs": [],
   "source": []
  },
  {
   "cell_type": "code",
   "execution_count": null,
   "id": "35d96752-3be7-4bde-8b6f-3709a108e21f",
   "metadata": {},
   "outputs": [],
   "source": []
  },
  {
   "cell_type": "code",
   "execution_count": null,
   "id": "c4cb246a-03e7-4888-8a94-8d280309bb90",
   "metadata": {},
   "outputs": [],
   "source": []
  },
  {
   "cell_type": "code",
   "execution_count": null,
   "id": "3918f7ae-6f1c-4c0e-96a7-acbbf8300755",
   "metadata": {},
   "outputs": [],
   "source": []
  },
  {
   "cell_type": "code",
   "execution_count": null,
   "id": "5db713a7-2a95-487a-9cc7-f412153036e1",
   "metadata": {},
   "outputs": [],
   "source": [
    "AdaBoost"
   ]
  },
  {
   "cell_type": "code",
   "execution_count": null,
   "id": "41dbc403-8252-4c5a-a9aa-97b803aa794f",
   "metadata": {},
   "outputs": [],
   "source": []
  },
  {
   "cell_type": "code",
   "execution_count": null,
   "id": "0d8a8e72-41d8-4b18-9e2f-16075f8ecdb1",
   "metadata": {},
   "outputs": [],
   "source": []
  },
  {
   "cell_type": "code",
   "execution_count": null,
   "id": "00764a18-3c43-43db-a07a-e2cdfac4751f",
   "metadata": {},
   "outputs": [],
   "source": [
    "Dense Neural Net"
   ]
  },
  {
   "cell_type": "code",
   "execution_count": null,
   "id": "23b05330-d751-4fa3-8bc9-ab75e1c7179c",
   "metadata": {},
   "outputs": [],
   "source": []
  },
  {
   "cell_type": "code",
   "execution_count": null,
   "id": "c7021ef6-84c3-4d45-94ee-9009c68de5e1",
   "metadata": {},
   "outputs": [],
   "source": []
  },
  {
   "cell_type": "code",
   "execution_count": 372,
   "id": "93a74b2d-6390-43d8-88bd-e8beacc94f27",
   "metadata": {},
   "outputs": [],
   "source": [
    "# Set y to be the quality column.\n",
    "X = df.drop(columns=['share', 'player', 'year', 'tm', 'pos', 'pos_5', 'pos_3', 'team', 'conf', 'div', 'champs', 'all_nba_team',\n",
    "                    'salary_cap', 'salary_cap_adj', 'payroll', 'payroll_adj', 'salary', 'salary_adj'])\n",
    "y = df['share']\n",
    "\n",
    "X_sc = StandardScaler().fit_transform(X)\n",
    "\n",
    "#X_train, X_test, y_train, y_test = train_test_split(X, y, random_state=2022)"
   ]
  },
  {
   "cell_type": "code",
   "execution_count": 373,
   "id": "1fdc2e2a-1546-450d-8e01-0f81776fcdc5",
   "metadata": {},
   "outputs": [],
   "source": [
    "pc = PCA()\n",
    "Z = pc.fit_transform(X_sc)"
   ]
  },
  {
   "cell_type": "code",
   "execution_count": 374,
   "id": "265484a9-11d9-4ed0-8f74-c63921e67e1a",
   "metadata": {},
   "outputs": [
    {
     "data": {
      "text/plain": [
       "array([2.73115888e-01, 1.93729591e-01, 9.76015110e-02, 6.33761109e-02,\n",
       "       4.91669682e-02, 3.97305822e-02, 3.49503848e-02, 2.43212178e-02,\n",
       "       2.27278107e-02, 2.00709568e-02, 1.78719891e-02, 1.65561378e-02,\n",
       "       1.45277621e-02, 1.32711054e-02, 1.21551654e-02, 1.11051070e-02,\n",
       "       1.07198368e-02, 9.83756456e-03, 9.04384909e-03, 8.62640023e-03,\n",
       "       7.11479558e-03, 6.87341539e-03, 6.01209641e-03, 5.73869749e-03,\n",
       "       5.33804791e-03, 4.07538851e-03, 3.62717697e-03, 3.25220138e-03,\n",
       "       2.52478745e-03, 1.66298566e-03, 1.51974558e-03, 1.24263502e-03,\n",
       "       1.14466046e-03, 9.63090835e-04, 9.32103852e-04, 7.47092526e-04,\n",
       "       5.68959968e-04, 5.43705169e-04, 4.76039468e-04, 4.07938404e-04,\n",
       "       3.83639735e-04, 3.18141451e-04, 2.69939746e-04, 1.98912401e-04,\n",
       "       1.96861333e-04, 1.78458507e-04, 1.42827145e-04, 1.27863986e-04,\n",
       "       1.22008727e-04, 1.07690920e-04, 9.37226126e-05, 8.35357098e-05,\n",
       "       6.88106245e-05, 6.74233574e-05, 6.03945155e-05, 5.69255574e-05,\n",
       "       4.44647595e-05, 4.17342620e-05, 3.75448734e-05, 3.29938870e-05,\n",
       "       2.37071035e-05, 2.03115602e-05, 1.48448483e-05, 6.96296864e-06,\n",
       "       6.38121925e-06, 4.60454900e-06, 4.21098268e-06, 2.74943894e-06,\n",
       "       2.50483258e-06, 2.30489422e-06, 2.19357958e-06, 1.62359663e-06,\n",
       "       1.33857192e-06, 8.64140638e-07, 5.38626117e-32, 1.30743079e-33,\n",
       "       1.30743079e-33, 1.30743079e-33, 1.30743079e-33, 1.30743079e-33,\n",
       "       1.30743079e-33, 1.30743079e-33, 1.30743079e-33, 1.30743079e-33])"
      ]
     },
     "execution_count": 374,
     "metadata": {},
     "output_type": "execute_result"
    }
   ],
   "source": [
    "# Sigmas scaled to sum to 100%\n",
    "pc.explained_variance_ratio_"
   ]
  },
  {
   "cell_type": "code",
   "execution_count": 376,
   "id": "a64ec676-6bf8-4f9d-ad3c-22b9afce8f8a",
   "metadata": {},
   "outputs": [
    {
     "data": {
      "text/plain": [
       "array([[-7.47875279e-03,  5.03443325e-02,  9.70499208e-02, ...,\n",
       "         6.24253122e-02, -6.28306676e-02,  2.52485249e-02],\n",
       "       [ 5.32760761e-03,  8.54185330e-03,  2.03054779e-02, ...,\n",
       "         1.84447516e-02, -1.69301070e-02,  2.60267873e-03],\n",
       "       [ 8.45425100e-02, -2.70095172e-02, -3.99583016e-02, ...,\n",
       "         2.16547712e-01, -2.07540991e-01,  7.03219688e-02],\n",
       "       ...,\n",
       "       [ 0.00000000e+00, -3.40248834e-16, -2.95972807e-02, ...,\n",
       "        -4.16333634e-17,  8.67361738e-18,  6.24500451e-17],\n",
       "       [ 0.00000000e+00, -8.88275160e-17, -1.46254807e-01, ...,\n",
       "         2.18575158e-16, -7.63278329e-17,  1.38777878e-17],\n",
       "       [ 0.00000000e+00, -6.93889390e-17, -1.84180070e-02, ...,\n",
       "        -1.73472348e-16, -9.71445147e-17,  4.16333634e-17]])"
      ]
     },
     "execution_count": 376,
     "metadata": {},
     "output_type": "execute_result"
    }
   ],
   "source": [
    "pc.components_"
   ]
  },
  {
   "cell_type": "code",
   "execution_count": 377,
   "id": "d0cd196c-03ae-411e-950e-a5feeead5985",
   "metadata": {},
   "outputs": [
    {
     "data": {
      "text/plain": [
       "array([[-0.00747875,  0.05034433,  0.09704992],\n",
       "       [ 0.00532761,  0.00854185,  0.02030548],\n",
       "       [ 0.08454251, -0.02700952, -0.0399583 ]])"
      ]
     },
     "execution_count": 377,
     "metadata": {},
     "output_type": "execute_result"
    }
   ],
   "source": [
    "# This is the VT matrix\n",
    "pc.components_[:3, :3]"
   ]
  },
  {
   "cell_type": "code",
   "execution_count": 378,
   "id": "1fc0e007-c9eb-4b6f-820e-ba7067254006",
   "metadata": {},
   "outputs": [
    {
     "data": {
      "text/plain": [
       "array([[-0.00857195, -0.02326099, -0.02052313],\n",
       "       [ 0.00983782,  0.02681592,  0.01227335],\n",
       "       [ 0.00031671,  0.00234709,  0.00795999]])"
      ]
     },
     "execution_count": 378,
     "metadata": {},
     "output_type": "execute_result"
    }
   ],
   "source": [
    "# Proof\n",
    "u, s, vh = np.linalg.svd(X)\n",
    "vh[:3, :3]"
   ]
  },
  {
   "cell_type": "code",
   "execution_count": 379,
   "id": "8268f6c8-4c08-418f-bb6c-ff103ec01457",
   "metadata": {},
   "outputs": [
    {
     "data": {
      "text/plain": [
       "array([-8.57194967e-03, -2.32609902e-02, -2.05231285e-02, -1.04862867e-02,\n",
       "       -1.93906480e-03, -4.16098757e-03, -1.49239277e-04, -3.26683455e-04,\n",
       "       -9.03820174e-04, -9.36366610e-05, -1.61267060e-03, -3.25720360e-03,\n",
       "       -1.57933536e-04, -1.61772054e-04, -1.03038556e-03, -1.32774358e-03,\n",
       "       -2.47491849e-04, -4.83562544e-04, -1.41005034e-03, -1.89326141e-03,\n",
       "       -1.16850771e-03, -3.57360482e-04, -2.13804427e-04, -6.86009413e-04,\n",
       "       -8.00861256e-04, -5.23540273e-03, -2.05231285e-02, -7.75666919e-01,\n",
       "       -1.41135362e-01, -3.02595171e-01, -1.49239277e-04, -2.35422962e-02,\n",
       "       -6.50375101e-02, -9.36366610e-05, -1.17593066e-01, -2.37557661e-01,\n",
       "       -1.57933536e-04, -1.61772054e-04, -7.49510013e-02, -9.65676283e-02,\n",
       "       -2.47491849e-04, -3.53763281e-02, -1.02591711e-01, -1.37968039e-01,\n",
       "       -8.49383429e-02, -2.60785781e-02, -1.55700035e-02, -4.98948258e-02,\n",
       "       -5.84596007e-02, -3.80764021e-01, -5.59592668e-03, -1.75893101e-04,\n",
       "       -6.90740616e-05, -1.01271423e-04, -1.66306972e-03, -4.80112342e-03,\n",
       "       -3.23600549e-03, -5.74343392e-03, -5.46108063e-04, -4.88145757e-04,\n",
       "       -4.07901017e-03, -7.18063142e-03, -1.22606884e-03, -8.27042038e-04,\n",
       "       -2.05300399e-03, -3.98427817e-05, -4.78533107e-04, -1.99833705e-05,\n",
       "       -4.98352201e-04, -7.22897272e-04, -3.65575794e-06, -1.31253491e-04,\n",
       "       -1.39417274e-04, -1.97902845e-05, -1.65808635e-02, -6.77194526e-02,\n",
       "       -9.32298311e-05, -7.65577753e-04, -7.17056304e-05, -1.31626031e-02,\n",
       "       -1.25641234e-02, -1.63338967e-04, -4.62978202e-03, -1.09555786e-05])"
      ]
     },
     "execution_count": 379,
     "metadata": {},
     "output_type": "execute_result"
    }
   ],
   "source": [
    "# Each row of VT (aka each column of V) tells us how much of each X went into each PC\n",
    "vh[0, :]"
   ]
  },
  {
   "cell_type": "code",
   "execution_count": 380,
   "id": "2163ecf6-d7c5-495e-9bae-a6249387bfde",
   "metadata": {},
   "outputs": [
    {
     "data": {
      "text/plain": [
       "Index(['age', 'g', 'pg_gs', 'pg_mp', 'pg_fg', 'pg_fga', 'pg_fg%', 'pg_3p',\n",
       "       'pg_3pa', 'pg_3p%', 'pg_2p', 'pg_2pa', 'pg_2p%', 'pg_efg%', 'pg_ft',\n",
       "       'pg_fta', 'pg_ft%', 'pg_orb', 'pg_drb', 'pg_trb', 'pg_ast', 'pg_stl',\n",
       "       'pg_blk', 'pg_tov', 'pg_pf', 'pg_pts', 'tot_gs', 'tot_mp', 'tot_fg',\n",
       "       'tot_fga', 'tot_fg%', 'tot_3p', 'tot_3pa', 'tot_3p%', 'tot_2p',\n",
       "       'tot_2pa', 'tot_2p%', 'tot_efg%', 'tot_ft', 'tot_fta', 'tot_ft%',\n",
       "       'tot_orb', 'tot_drb', 'tot_trb', 'tot_ast', 'tot_stl', 'tot_blk',\n",
       "       'tot_tov', 'tot_pf', 'tot_pts', 'adv_per', 'adv_ts%', 'adv_3par',\n",
       "       'adv_ftr', 'adv_orb%', 'adv_drb%', 'adv_trb%', 'adv_ast%', 'adv_stl%',\n",
       "       'adv_blk%', 'adv_tov%', 'adv_usg%', 'adv_ows', 'adv_dws', 'adv_ws',\n",
       "       'adv_ws/48', 'adv_obpm', 'adv_dbpm', 'adv_bpm', 'adv_vorp', 'gt1_pos',\n",
       "       'f', 'gu', 'midseason_trade', 'pts_won', 'pts_max', 'all_nba_winner',\n",
       "       'n_allstar', 'all_star', 'w', 'l', 'w/l%', 'seed', 'won_championship'],\n",
       "      dtype='object')"
      ]
     },
     "execution_count": 380,
     "metadata": {},
     "output_type": "execute_result"
    }
   ],
   "source": [
    "# Looks like... sulfur dioxide and density contributed the most to PC1!\n",
    "X.columns"
   ]
  },
  {
   "cell_type": "code",
   "execution_count": 381,
   "id": "edaf94d5-2ab4-478d-abf6-fe86f709e337",
   "metadata": {},
   "outputs": [
    {
     "data": {
      "text/html": [
       "<div>\n",
       "<style scoped>\n",
       "    .dataframe tbody tr th:only-of-type {\n",
       "        vertical-align: middle;\n",
       "    }\n",
       "\n",
       "    .dataframe tbody tr th {\n",
       "        vertical-align: top;\n",
       "    }\n",
       "\n",
       "    .dataframe thead th {\n",
       "        text-align: right;\n",
       "    }\n",
       "</style>\n",
       "<table border=\"1\" class=\"dataframe\">\n",
       "  <thead>\n",
       "    <tr style=\"text-align: right;\">\n",
       "      <th></th>\n",
       "      <th>col</th>\n",
       "      <th>v</th>\n",
       "    </tr>\n",
       "  </thead>\n",
       "  <tbody>\n",
       "    <tr>\n",
       "      <th>27</th>\n",
       "      <td>tot_mp</td>\n",
       "      <td>0.775667</td>\n",
       "    </tr>\n",
       "    <tr>\n",
       "      <th>49</th>\n",
       "      <td>tot_pts</td>\n",
       "      <td>0.380764</td>\n",
       "    </tr>\n",
       "    <tr>\n",
       "      <th>29</th>\n",
       "      <td>tot_fga</td>\n",
       "      <td>0.302595</td>\n",
       "    </tr>\n",
       "    <tr>\n",
       "      <th>35</th>\n",
       "      <td>tot_2pa</td>\n",
       "      <td>0.237558</td>\n",
       "    </tr>\n",
       "    <tr>\n",
       "      <th>28</th>\n",
       "      <td>tot_fg</td>\n",
       "      <td>0.141135</td>\n",
       "    </tr>\n",
       "    <tr>\n",
       "      <th>43</th>\n",
       "      <td>tot_trb</td>\n",
       "      <td>0.137968</td>\n",
       "    </tr>\n",
       "    <tr>\n",
       "      <th>34</th>\n",
       "      <td>tot_2p</td>\n",
       "      <td>0.117593</td>\n",
       "    </tr>\n",
       "    <tr>\n",
       "      <th>42</th>\n",
       "      <td>tot_drb</td>\n",
       "      <td>0.102592</td>\n",
       "    </tr>\n",
       "    <tr>\n",
       "      <th>39</th>\n",
       "      <td>tot_fta</td>\n",
       "      <td>0.096568</td>\n",
       "    </tr>\n",
       "    <tr>\n",
       "      <th>44</th>\n",
       "      <td>tot_ast</td>\n",
       "      <td>0.084938</td>\n",
       "    </tr>\n",
       "    <tr>\n",
       "      <th>38</th>\n",
       "      <td>tot_ft</td>\n",
       "      <td>0.074951</td>\n",
       "    </tr>\n",
       "    <tr>\n",
       "      <th>75</th>\n",
       "      <td>pts_max</td>\n",
       "      <td>0.067719</td>\n",
       "    </tr>\n",
       "    <tr>\n",
       "      <th>32</th>\n",
       "      <td>tot_3pa</td>\n",
       "      <td>0.065038</td>\n",
       "    </tr>\n",
       "    <tr>\n",
       "      <th>48</th>\n",
       "      <td>tot_pf</td>\n",
       "      <td>0.058460</td>\n",
       "    </tr>\n",
       "    <tr>\n",
       "      <th>47</th>\n",
       "      <td>tot_tov</td>\n",
       "      <td>0.049895</td>\n",
       "    </tr>\n",
       "    <tr>\n",
       "      <th>41</th>\n",
       "      <td>tot_orb</td>\n",
       "      <td>0.035376</td>\n",
       "    </tr>\n",
       "    <tr>\n",
       "      <th>45</th>\n",
       "      <td>tot_stl</td>\n",
       "      <td>0.026079</td>\n",
       "    </tr>\n",
       "    <tr>\n",
       "      <th>31</th>\n",
       "      <td>tot_3p</td>\n",
       "      <td>0.023542</td>\n",
       "    </tr>\n",
       "    <tr>\n",
       "      <th>1</th>\n",
       "      <td>g</td>\n",
       "      <td>0.023261</td>\n",
       "    </tr>\n",
       "    <tr>\n",
       "      <th>26</th>\n",
       "      <td>tot_gs</td>\n",
       "      <td>0.020523</td>\n",
       "    </tr>\n",
       "    <tr>\n",
       "      <th>2</th>\n",
       "      <td>pg_gs</td>\n",
       "      <td>0.020523</td>\n",
       "    </tr>\n",
       "    <tr>\n",
       "      <th>74</th>\n",
       "      <td>pts_won</td>\n",
       "      <td>0.016581</td>\n",
       "    </tr>\n",
       "    <tr>\n",
       "      <th>46</th>\n",
       "      <td>tot_blk</td>\n",
       "      <td>0.015570</td>\n",
       "    </tr>\n",
       "    <tr>\n",
       "      <th>79</th>\n",
       "      <td>w</td>\n",
       "      <td>0.013163</td>\n",
       "    </tr>\n",
       "    <tr>\n",
       "      <th>80</th>\n",
       "      <td>l</td>\n",
       "      <td>0.012564</td>\n",
       "    </tr>\n",
       "    <tr>\n",
       "      <th>3</th>\n",
       "      <td>pg_mp</td>\n",
       "      <td>0.010486</td>\n",
       "    </tr>\n",
       "    <tr>\n",
       "      <th>0</th>\n",
       "      <td>age</td>\n",
       "      <td>0.008572</td>\n",
       "    </tr>\n",
       "    <tr>\n",
       "      <th>61</th>\n",
       "      <td>adv_usg%</td>\n",
       "      <td>0.007181</td>\n",
       "    </tr>\n",
       "    <tr>\n",
       "      <th>57</th>\n",
       "      <td>adv_ast%</td>\n",
       "      <td>0.005743</td>\n",
       "    </tr>\n",
       "    <tr>\n",
       "      <th>50</th>\n",
       "      <td>adv_per</td>\n",
       "      <td>0.005596</td>\n",
       "    </tr>\n",
       "    <tr>\n",
       "      <th>25</th>\n",
       "      <td>pg_pts</td>\n",
       "      <td>0.005235</td>\n",
       "    </tr>\n",
       "    <tr>\n",
       "      <th>55</th>\n",
       "      <td>adv_drb%</td>\n",
       "      <td>0.004801</td>\n",
       "    </tr>\n",
       "    <tr>\n",
       "      <th>82</th>\n",
       "      <td>seed</td>\n",
       "      <td>0.004630</td>\n",
       "    </tr>\n",
       "    <tr>\n",
       "      <th>5</th>\n",
       "      <td>pg_fga</td>\n",
       "      <td>0.004161</td>\n",
       "    </tr>\n",
       "    <tr>\n",
       "      <th>60</th>\n",
       "      <td>adv_tov%</td>\n",
       "      <td>0.004079</td>\n",
       "    </tr>\n",
       "    <tr>\n",
       "      <th>11</th>\n",
       "      <td>pg_2pa</td>\n",
       "      <td>0.003257</td>\n",
       "    </tr>\n",
       "    <tr>\n",
       "      <th>56</th>\n",
       "      <td>adv_trb%</td>\n",
       "      <td>0.003236</td>\n",
       "    </tr>\n",
       "    <tr>\n",
       "      <th>64</th>\n",
       "      <td>adv_ws</td>\n",
       "      <td>0.002053</td>\n",
       "    </tr>\n",
       "    <tr>\n",
       "      <th>4</th>\n",
       "      <td>pg_fg</td>\n",
       "      <td>0.001939</td>\n",
       "    </tr>\n",
       "    <tr>\n",
       "      <th>19</th>\n",
       "      <td>pg_trb</td>\n",
       "      <td>0.001893</td>\n",
       "    </tr>\n",
       "    <tr>\n",
       "      <th>54</th>\n",
       "      <td>adv_orb%</td>\n",
       "      <td>0.001663</td>\n",
       "    </tr>\n",
       "    <tr>\n",
       "      <th>10</th>\n",
       "      <td>pg_2p</td>\n",
       "      <td>0.001613</td>\n",
       "    </tr>\n",
       "    <tr>\n",
       "      <th>18</th>\n",
       "      <td>pg_drb</td>\n",
       "      <td>0.001410</td>\n",
       "    </tr>\n",
       "    <tr>\n",
       "      <th>15</th>\n",
       "      <td>pg_fta</td>\n",
       "      <td>0.001328</td>\n",
       "    </tr>\n",
       "    <tr>\n",
       "      <th>62</th>\n",
       "      <td>adv_ows</td>\n",
       "      <td>0.001226</td>\n",
       "    </tr>\n",
       "    <tr>\n",
       "      <th>20</th>\n",
       "      <td>pg_ast</td>\n",
       "      <td>0.001169</td>\n",
       "    </tr>\n",
       "    <tr>\n",
       "      <th>14</th>\n",
       "      <td>pg_ft</td>\n",
       "      <td>0.001030</td>\n",
       "    </tr>\n",
       "    <tr>\n",
       "      <th>8</th>\n",
       "      <td>pg_3pa</td>\n",
       "      <td>0.000904</td>\n",
       "    </tr>\n",
       "    <tr>\n",
       "      <th>63</th>\n",
       "      <td>adv_dws</td>\n",
       "      <td>0.000827</td>\n",
       "    </tr>\n",
       "    <tr>\n",
       "      <th>24</th>\n",
       "      <td>pg_pf</td>\n",
       "      <td>0.000801</td>\n",
       "    </tr>\n",
       "    <tr>\n",
       "      <th>77</th>\n",
       "      <td>n_allstar</td>\n",
       "      <td>0.000766</td>\n",
       "    </tr>\n",
       "    <tr>\n",
       "      <th>69</th>\n",
       "      <td>adv_vorp</td>\n",
       "      <td>0.000723</td>\n",
       "    </tr>\n",
       "    <tr>\n",
       "      <th>23</th>\n",
       "      <td>pg_tov</td>\n",
       "      <td>0.000686</td>\n",
       "    </tr>\n",
       "    <tr>\n",
       "      <th>58</th>\n",
       "      <td>adv_stl%</td>\n",
       "      <td>0.000546</td>\n",
       "    </tr>\n",
       "    <tr>\n",
       "      <th>68</th>\n",
       "      <td>adv_bpm</td>\n",
       "      <td>0.000498</td>\n",
       "    </tr>\n",
       "    <tr>\n",
       "      <th>59</th>\n",
       "      <td>adv_blk%</td>\n",
       "      <td>0.000488</td>\n",
       "    </tr>\n",
       "    <tr>\n",
       "      <th>17</th>\n",
       "      <td>pg_orb</td>\n",
       "      <td>0.000484</td>\n",
       "    </tr>\n",
       "    <tr>\n",
       "      <th>66</th>\n",
       "      <td>adv_obpm</td>\n",
       "      <td>0.000479</td>\n",
       "    </tr>\n",
       "    <tr>\n",
       "      <th>21</th>\n",
       "      <td>pg_stl</td>\n",
       "      <td>0.000357</td>\n",
       "    </tr>\n",
       "    <tr>\n",
       "      <th>7</th>\n",
       "      <td>pg_3p</td>\n",
       "      <td>0.000327</td>\n",
       "    </tr>\n",
       "    <tr>\n",
       "      <th>40</th>\n",
       "      <td>tot_ft%</td>\n",
       "      <td>0.000247</td>\n",
       "    </tr>\n",
       "    <tr>\n",
       "      <th>16</th>\n",
       "      <td>pg_ft%</td>\n",
       "      <td>0.000247</td>\n",
       "    </tr>\n",
       "    <tr>\n",
       "      <th>22</th>\n",
       "      <td>pg_blk</td>\n",
       "      <td>0.000214</td>\n",
       "    </tr>\n",
       "    <tr>\n",
       "      <th>51</th>\n",
       "      <td>adv_ts%</td>\n",
       "      <td>0.000176</td>\n",
       "    </tr>\n",
       "    <tr>\n",
       "      <th>81</th>\n",
       "      <td>w/l%</td>\n",
       "      <td>0.000163</td>\n",
       "    </tr>\n",
       "    <tr>\n",
       "      <th>37</th>\n",
       "      <td>tot_efg%</td>\n",
       "      <td>0.000162</td>\n",
       "    </tr>\n",
       "    <tr>\n",
       "      <th>13</th>\n",
       "      <td>pg_efg%</td>\n",
       "      <td>0.000162</td>\n",
       "    </tr>\n",
       "    <tr>\n",
       "      <th>12</th>\n",
       "      <td>pg_2p%</td>\n",
       "      <td>0.000158</td>\n",
       "    </tr>\n",
       "    <tr>\n",
       "      <th>36</th>\n",
       "      <td>tot_2p%</td>\n",
       "      <td>0.000158</td>\n",
       "    </tr>\n",
       "    <tr>\n",
       "      <th>30</th>\n",
       "      <td>tot_fg%</td>\n",
       "      <td>0.000149</td>\n",
       "    </tr>\n",
       "    <tr>\n",
       "      <th>6</th>\n",
       "      <td>pg_fg%</td>\n",
       "      <td>0.000149</td>\n",
       "    </tr>\n",
       "    <tr>\n",
       "      <th>72</th>\n",
       "      <td>gu</td>\n",
       "      <td>0.000139</td>\n",
       "    </tr>\n",
       "    <tr>\n",
       "      <th>71</th>\n",
       "      <td>f</td>\n",
       "      <td>0.000131</td>\n",
       "    </tr>\n",
       "    <tr>\n",
       "      <th>53</th>\n",
       "      <td>adv_ftr</td>\n",
       "      <td>0.000101</td>\n",
       "    </tr>\n",
       "    <tr>\n",
       "      <th>33</th>\n",
       "      <td>tot_3p%</td>\n",
       "      <td>0.000094</td>\n",
       "    </tr>\n",
       "    <tr>\n",
       "      <th>9</th>\n",
       "      <td>pg_3p%</td>\n",
       "      <td>0.000094</td>\n",
       "    </tr>\n",
       "    <tr>\n",
       "      <th>76</th>\n",
       "      <td>all_nba_winner</td>\n",
       "      <td>0.000093</td>\n",
       "    </tr>\n",
       "    <tr>\n",
       "      <th>78</th>\n",
       "      <td>all_star</td>\n",
       "      <td>0.000072</td>\n",
       "    </tr>\n",
       "    <tr>\n",
       "      <th>52</th>\n",
       "      <td>adv_3par</td>\n",
       "      <td>0.000069</td>\n",
       "    </tr>\n",
       "    <tr>\n",
       "      <th>65</th>\n",
       "      <td>adv_ws/48</td>\n",
       "      <td>0.000040</td>\n",
       "    </tr>\n",
       "    <tr>\n",
       "      <th>67</th>\n",
       "      <td>adv_dbpm</td>\n",
       "      <td>0.000020</td>\n",
       "    </tr>\n",
       "    <tr>\n",
       "      <th>73</th>\n",
       "      <td>midseason_trade</td>\n",
       "      <td>0.000020</td>\n",
       "    </tr>\n",
       "    <tr>\n",
       "      <th>83</th>\n",
       "      <td>won_championship</td>\n",
       "      <td>0.000011</td>\n",
       "    </tr>\n",
       "    <tr>\n",
       "      <th>70</th>\n",
       "      <td>gt1_pos</td>\n",
       "      <td>0.000004</td>\n",
       "    </tr>\n",
       "  </tbody>\n",
       "</table>\n",
       "</div>"
      ],
      "text/plain": [
       "                 col         v\n",
       "27            tot_mp  0.775667\n",
       "49           tot_pts  0.380764\n",
       "29           tot_fga  0.302595\n",
       "35           tot_2pa  0.237558\n",
       "28            tot_fg  0.141135\n",
       "43           tot_trb  0.137968\n",
       "34            tot_2p  0.117593\n",
       "42           tot_drb  0.102592\n",
       "39           tot_fta  0.096568\n",
       "44           tot_ast  0.084938\n",
       "38            tot_ft  0.074951\n",
       "75           pts_max  0.067719\n",
       "32           tot_3pa  0.065038\n",
       "48            tot_pf  0.058460\n",
       "47           tot_tov  0.049895\n",
       "41           tot_orb  0.035376\n",
       "45           tot_stl  0.026079\n",
       "31            tot_3p  0.023542\n",
       "1                  g  0.023261\n",
       "26            tot_gs  0.020523\n",
       "2              pg_gs  0.020523\n",
       "74           pts_won  0.016581\n",
       "46           tot_blk  0.015570\n",
       "79                 w  0.013163\n",
       "80                 l  0.012564\n",
       "3              pg_mp  0.010486\n",
       "0                age  0.008572\n",
       "61          adv_usg%  0.007181\n",
       "57          adv_ast%  0.005743\n",
       "50           adv_per  0.005596\n",
       "25            pg_pts  0.005235\n",
       "55          adv_drb%  0.004801\n",
       "82              seed  0.004630\n",
       "5             pg_fga  0.004161\n",
       "60          adv_tov%  0.004079\n",
       "11            pg_2pa  0.003257\n",
       "56          adv_trb%  0.003236\n",
       "64            adv_ws  0.002053\n",
       "4              pg_fg  0.001939\n",
       "19            pg_trb  0.001893\n",
       "54          adv_orb%  0.001663\n",
       "10             pg_2p  0.001613\n",
       "18            pg_drb  0.001410\n",
       "15            pg_fta  0.001328\n",
       "62           adv_ows  0.001226\n",
       "20            pg_ast  0.001169\n",
       "14             pg_ft  0.001030\n",
       "8             pg_3pa  0.000904\n",
       "63           adv_dws  0.000827\n",
       "24             pg_pf  0.000801\n",
       "77         n_allstar  0.000766\n",
       "69          adv_vorp  0.000723\n",
       "23            pg_tov  0.000686\n",
       "58          adv_stl%  0.000546\n",
       "68           adv_bpm  0.000498\n",
       "59          adv_blk%  0.000488\n",
       "17            pg_orb  0.000484\n",
       "66          adv_obpm  0.000479\n",
       "21            pg_stl  0.000357\n",
       "7              pg_3p  0.000327\n",
       "40           tot_ft%  0.000247\n",
       "16            pg_ft%  0.000247\n",
       "22            pg_blk  0.000214\n",
       "51           adv_ts%  0.000176\n",
       "81              w/l%  0.000163\n",
       "37          tot_efg%  0.000162\n",
       "13           pg_efg%  0.000162\n",
       "12            pg_2p%  0.000158\n",
       "36           tot_2p%  0.000158\n",
       "30           tot_fg%  0.000149\n",
       "6             pg_fg%  0.000149\n",
       "72                gu  0.000139\n",
       "71                 f  0.000131\n",
       "53           adv_ftr  0.000101\n",
       "33           tot_3p%  0.000094\n",
       "9             pg_3p%  0.000094\n",
       "76    all_nba_winner  0.000093\n",
       "78          all_star  0.000072\n",
       "52          adv_3par  0.000069\n",
       "65         adv_ws/48  0.000040\n",
       "67          adv_dbpm  0.000020\n",
       "73   midseason_trade  0.000020\n",
       "83  won_championship  0.000011\n",
       "70           gt1_pos  0.000004"
      ]
     },
     "execution_count": 381,
     "metadata": {},
     "output_type": "execute_result"
    }
   ],
   "source": [
    "# Looks like... sulfur dioxide and density contributed the most to PC1!\n",
    "pd.DataFrame({\n",
    "    'col': X.columns,\n",
    "    'v': np.abs(vh[0, :])\n",
    "}) #THIS IS THE RECIPE FOR THE FIRST PRINCIPAL COMPONENT\n",
    "\n",
    "pd.DataFrame({\n",
    "    'col': X.columns,\n",
    "    'v': np.abs(vh[0, :])\n",
    "}).sort_values(by='v', ascending=False)"
   ]
  },
  {
   "cell_type": "code",
   "execution_count": 382,
   "id": "38bb5384-7284-4b8c-b0d0-a058ec400391",
   "metadata": {},
   "outputs": [
    {
     "data": {
      "text/plain": [
       "[<matplotlib.lines.Line2D at 0x24d1ea704c0>]"
      ]
     },
     "execution_count": 382,
     "metadata": {},
     "output_type": "execute_result"
    },
    {
     "data": {
      "image/png": "[encoded data removed]",
      "text/plain": [
       "<Figure size 640x480 with 1 Axes>"
      ]
     },
     "metadata": {},
     "output_type": "display_data"
    }
   ],
   "source": [
    "# Scree plot!\n",
    "# An old statistician rule of thumb is to take the \"elbow\" of the scree plot\n",
    "# as the value for which we cut the PCs.\n",
    "plt.plot(pc.explained_variance_ratio_)\n",
    "plt.xticks("
   ]
  },
  {
   "cell_type": "code",
   "execution_count": null,
   "id": "0af87fdf-be4c-4a50-90f3-6ecd5cd09f13",
   "metadata": {},
   "outputs": [],
   "source": []
  },
  {
   "cell_type": "code",
   "execution_count": null,
   "id": "9dd641ba-4132-4527-bc30-418a5cc928ab",
   "metadata": {},
   "outputs": [],
   "source": []
  },
  {
   "cell_type": "code",
   "execution_count": null,
   "id": "a44e38b7-6433-45aa-9cc5-eb224ae877b9",
   "metadata": {},
   "outputs": [],
   "source": []
  },
  {
   "cell_type": "code",
   "execution_count": null,
   "id": "2789488b-49b1-4e0b-aa9d-780893b686d6",
   "metadata": {},
   "outputs": [],
   "source": []
  },
  {
   "cell_type": "code",
   "execution_count": null,
   "id": "068e92ef-b544-4302-8c48-1dc8598e2725",
   "metadata": {},
   "outputs": [],
   "source": []
  },
  {
   "cell_type": "code",
   "execution_count": null,
   "id": "50235cfd-2931-48e5-a65e-f6fef0188bcc",
   "metadata": {},
   "outputs": [],
   "source": []
  }
 ],
 "metadata": {
  "kernelspec": {
   "display_name": "Python 3 (ipykernel)",
   "language": "python",
   "name": "python3"
  },
  "language_info": {
   "codemirror_mode": {
    "name": "ipython",
    "version": 3
   },
   "file_extension": ".py",
   "mimetype": "text/x-python",
   "name": "python",
   "nbconvert_exporter": "python",
   "pygments_lexer": "ipython3",
   "version": "3.10.9"
  }
 },
 "nbformat": 4,
 "nbformat_minor": 5
}
